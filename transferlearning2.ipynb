{
  "cells": [
    {
      "cell_type": "markdown",
      "metadata": {
        "id": "view-in-github",
        "colab_type": "text"
      },
      "source": [
        "<a href=\"https://colab.research.google.com/github/Mohican999370/Reverie/blob/master/transferlearning2.ipynb\" target=\"_parent\"><img src=\"https://colab.research.google.com/assets/colab-badge.svg\" alt=\"Open In Colab\"/></a>"
      ]
    },
    {
      "cell_type": "markdown",
      "source": [],
      "metadata": {
        "id": "6JAOQBq_Dmn-"
      }
    },
    {
      "cell_type": "code",
      "execution_count": 3,
      "metadata": {
        "id": "117_kXNqbB6E"
      },
      "outputs": [],
      "source": [
        "### Transfer learning and fine tuning the algorithum\n",
        "#pretrained weights from another model\n",
        "#are unfrozen and tweaked during to better suit the own data\n",
        "\n",
        "\n",
        "   # Model 0: a transfer learning model using the Keras Functional API\n",
        "   # Model 1: a feature extraction transfer learning model on 1% of the data with data augmentation\n",
        "   # Model 2: a feature extraction transfer learning model on 10% of the data with data augmentation\n",
        "   # Model 3: a fine-tuned transfer learning model on 10% of the data\n",
        "    #Model 4: a fine-tuned transfer learning model on 100% of the data\n"
      ]
    },
    {
      "cell_type": "code",
      "execution_count": 2,
      "metadata": {
        "colab": {
          "base_uri": "https://localhost:8080/"
        },
        "id": "hkWdZgGvDlOJ",
        "outputId": "66566325-bf56-497d-cd99-f72989fde4dc"
      },
      "outputs": [
        {
          "output_type": "stream",
          "name": "stdout",
          "text": [
            " the notebook runtime is at:2024-03-22 16:46:39.169706\n"
          ]
        }
      ],
      "source": [
        "import datetime\n",
        "print(f' the notebook runtime is at:{datetime.datetime.now()}')"
      ]
    },
    {
      "cell_type": "code",
      "execution_count": null,
      "metadata": {
        "colab": {
          "base_uri": "https://localhost:8080/",
          "height": 35
        },
        "id": "GdDSHMZgDlPv",
        "outputId": "20deb44f-d1f3-4c69-f42f-6ce4bec3b3de"
      },
      "outputs": [
        {
          "data": {
            "application/vnd.google.colaboratory.intrinsic+json": {
              "type": "string"
            },
            "text/plain": [
              "'2.15.0'"
            ]
          },
          "execution_count": 71,
          "metadata": {},
          "output_type": "execute_result"
        }
      ],
      "source": [
        "#check tf version\n",
        "import tensorflow as tf\n",
        "tf.__version__"
      ]
    },
    {
      "cell_type": "code",
      "execution_count": 4,
      "metadata": {
        "colab": {
          "base_uri": "https://localhost:8080/"
        },
        "id": "e5-8OlUaDlZS",
        "outputId": "4ece5f5e-966a-4f02-c0d5-7d14fd1a809a"
      },
      "outputs": [
        {
          "output_type": "stream",
          "name": "stdout",
          "text": [
            "--2024-03-22 16:47:04--  https://raw.githubusercontent.com/mrdbourke/tensorflow-deep-learning/main/extras/helper_functions.py\n",
            "Resolving raw.githubusercontent.com (raw.githubusercontent.com)... 185.199.109.133, 185.199.111.133, 185.199.108.133, ...\n",
            "Connecting to raw.githubusercontent.com (raw.githubusercontent.com)|185.199.109.133|:443... connected.\n",
            "HTTP request sent, awaiting response... 200 OK\n",
            "Length: 10246 (10K) [text/plain]\n",
            "Saving to: ‘helper_functions.py’\n",
            "\n",
            "\rhelper_functions.py   0%[                    ]       0  --.-KB/s               \rhelper_functions.py 100%[===================>]  10.01K  --.-KB/s    in 0s      \n",
            "\n",
            "2024-03-22 16:47:04 (51.4 MB/s) - ‘helper_functions.py’ saved [10246/10246]\n",
            "\n"
          ]
        }
      ],
      "source": [
        "# obtain helper function\n",
        "!wget https://raw.githubusercontent.com/mrdbourke/tensorflow-deep-learning/main/extras/helper_functions.py\n",
        "\n",
        "\n"
      ]
    },
    {
      "cell_type": "code",
      "execution_count": null,
      "metadata": {
        "id": "jLnbPNP8E7eA"
      },
      "outputs": [],
      "source": [
        "### importing the nececssary functions\n",
        "from helper_functions import create_tensorboard_callback, plot_loss_curves, unzip_data, walk_through_dir\n",
        "\n"
      ]
    },
    {
      "cell_type": "code",
      "execution_count": null,
      "metadata": {
        "colab": {
          "base_uri": "https://localhost:8080/"
        },
        "id": "75vevPeDMAGm",
        "outputId": "9231d5bc-e1db-42b1-d6e7-1a93feb53dc9"
      },
      "outputs": [
        {
          "name": "stdout",
          "output_type": "stream",
          "text": [
            "--2024-03-21 19:54:29--  https://storage.googleapis.com/ztm_tf_course/food_vision/10_food_classes_10_percent.zip\n",
            "Resolving storage.googleapis.com (storage.googleapis.com)... 142.250.101.207, 142.250.141.207, 142.251.2.207, ...\n",
            "Connecting to storage.googleapis.com (storage.googleapis.com)|142.250.101.207|:443... connected.\n",
            "HTTP request sent, awaiting response... 200 OK\n",
            "Length: 168546183 (161M) [application/zip]\n",
            "Saving to: ‘10_food_classes_10_percent.zip.3’\n",
            "\n",
            "10_food_classes_10_ 100%[===================>] 160.74M   157MB/s    in 1.0s    \n",
            "\n",
            "2024-03-21 19:54:30 (157 MB/s) - ‘10_food_classes_10_percent.zip.3’ saved [168546183/168546183]\n",
            "\n"
          ]
        }
      ],
      "source": [
        "# obatin the data\n",
        "!wget https://storage.googleapis.com/ztm_tf_course/food_vision/10_food_classes_10_percent.zip\n"
      ]
    },
    {
      "cell_type": "code",
      "execution_count": null,
      "metadata": {
        "id": "bZX0ns-eMJpE"
      },
      "outputs": [],
      "source": [
        "unzip_data('10_food_classes_10_percent.zip') # using helper function"
      ]
    },
    {
      "cell_type": "code",
      "execution_count": null,
      "metadata": {
        "colab": {
          "base_uri": "https://localhost:8080/"
        },
        "id": "CASv0LDDMWpT",
        "outputId": "65f39d00-f43d-49c7-9d91-bdc7df00338a"
      },
      "outputs": [
        {
          "name": "stdout",
          "output_type": "stream",
          "text": [
            "There are 2 directories and 0 images in '10_food_classes_10_percent'.\n",
            "There are 10 directories and 0 images in '10_food_classes_10_percent/train'.\n",
            "There are 0 directories and 75 images in '10_food_classes_10_percent/train/sushi'.\n",
            "There are 0 directories and 75 images in '10_food_classes_10_percent/train/grilled_salmon'.\n",
            "There are 0 directories and 75 images in '10_food_classes_10_percent/train/chicken_curry'.\n",
            "There are 0 directories and 75 images in '10_food_classes_10_percent/train/chicken_wings'.\n",
            "There are 0 directories and 75 images in '10_food_classes_10_percent/train/ramen'.\n",
            "There are 0 directories and 75 images in '10_food_classes_10_percent/train/pizza'.\n",
            "There are 0 directories and 75 images in '10_food_classes_10_percent/train/hamburger'.\n",
            "There are 0 directories and 75 images in '10_food_classes_10_percent/train/fried_rice'.\n",
            "There are 0 directories and 75 images in '10_food_classes_10_percent/train/steak'.\n",
            "There are 0 directories and 75 images in '10_food_classes_10_percent/train/ice_cream'.\n",
            "There are 10 directories and 0 images in '10_food_classes_10_percent/test'.\n",
            "There are 0 directories and 250 images in '10_food_classes_10_percent/test/sushi'.\n",
            "There are 0 directories and 250 images in '10_food_classes_10_percent/test/grilled_salmon'.\n",
            "There are 0 directories and 250 images in '10_food_classes_10_percent/test/chicken_curry'.\n",
            "There are 0 directories and 250 images in '10_food_classes_10_percent/test/chicken_wings'.\n",
            "There are 0 directories and 250 images in '10_food_classes_10_percent/test/ramen'.\n",
            "There are 0 directories and 250 images in '10_food_classes_10_percent/test/pizza'.\n",
            "There are 0 directories and 250 images in '10_food_classes_10_percent/test/hamburger'.\n",
            "There are 0 directories and 250 images in '10_food_classes_10_percent/test/fried_rice'.\n",
            "There are 0 directories and 250 images in '10_food_classes_10_percent/test/steak'.\n",
            "There are 0 directories and 250 images in '10_food_classes_10_percent/test/ice_cream'.\n"
          ]
        }
      ],
      "source": [
        "walk_through_dir('10_food_classes_10_percent')"
      ]
    },
    {
      "cell_type": "code",
      "execution_count": null,
      "metadata": {
        "id": "Q3bnVboqM2U0"
      },
      "outputs": [],
      "source": [
        "### train and test data set\n",
        "train_dir = '10_food_classes_10_percent/train'\n",
        "test_dir = '10_food_classes_10_percent/test'"
      ]
    },
    {
      "cell_type": "code",
      "execution_count": null,
      "metadata": {
        "id": "H8nTVumCXRbw"
      },
      "outputs": [],
      "source": [
        "# 3/1/2024: the image_dataset_directory does rescale, imagedatagenerator cod eis not required.\n",
        "#since the flow from directory has not rescaled the data., we will try using image data geenratorr on rescaling only\n",
        "from tensorflow.keras.preprocessing.image import ImageDataGenerator\n",
        "\n",
        "train_gen = ImageDataGenerator(rescale =1/255)\n",
        "test_gen = ImageDataGenerator(rescale =1/255)"
      ]
    },
    {
      "cell_type": "code",
      "execution_count": null,
      "metadata": {
        "colab": {
          "base_uri": "https://localhost:8080/"
        },
        "id": "AETJsMCTX57k",
        "outputId": "e475955d-6982-4c0e-88dd-02e4265b3d2e"
      },
      "outputs": [
        {
          "data": {
            "text/plain": [
              "<keras.src.preprocessing.image.ImageDataGenerator at 0x7c948126e5f0>"
            ]
          },
          "execution_count": 79,
          "metadata": {},
          "output_type": "execute_result"
        }
      ],
      "source": [
        "train_gen"
      ]
    },
    {
      "cell_type": "code",
      "execution_count": null,
      "metadata": {
        "colab": {
          "base_uri": "https://localhost:8080/"
        },
        "id": "6SPGKjq8Ywo1",
        "outputId": "c4ae7220-9065-4b5e-e6c9-5a7c50e59ee8"
      },
      "outputs": [
        {
          "name": "stdout",
          "output_type": "stream",
          "text": [
            "Found 750 images belonging to 10 classes.\n",
            "Found 2500 images belonging to 10 classes.\n"
          ]
        }
      ],
      "source": [
        "train_data_gen= train_gen.flow_from_directory(train_dir,\n",
        "                                              batch_size =32,\n",
        "                                              target_size = (224,224),\n",
        "                                              class_mode = 'categorical')\n",
        "test_data_gen= train_gen.flow_from_directory(test_dir,\n",
        "                                              batch_size =32,\n",
        "                                              target_size = (224,224),\n",
        "                                              class_mode = 'categorical')"
      ]
    },
    {
      "cell_type": "code",
      "execution_count": null,
      "metadata": {
        "colab": {
          "base_uri": "https://localhost:8080/"
        },
        "id": "Uw0vX4sEdE4I",
        "outputId": "1e6375f6-56fc-4022-c4c0-a27976d6400e"
      },
      "outputs": [
        {
          "data": {
            "text/plain": [
              "<keras.src.preprocessing.image.DirectoryIterator at 0x7c947eaa21a0>"
            ]
          },
          "execution_count": 81,
          "metadata": {},
          "output_type": "execute_result"
        }
      ],
      "source": [
        "train_data_gen"
      ]
    },
    {
      "cell_type": "code",
      "execution_count": null,
      "metadata": {
        "colab": {
          "base_uri": "https://localhost:8080/"
        },
        "id": "0UrBgh5pPrxb",
        "outputId": "823fea20-999e-4bf1-dbf2-df09700ea4e5"
      },
      "outputs": [
        {
          "name": "stdout",
          "output_type": "stream",
          "text": [
            "Found 750 files belonging to 10 classes.\n",
            "Found 2500 files belonging to 10 classes.\n"
          ]
        }
      ],
      "source": [
        "# since the imagedatageenrator has been slowwer for larger datatset.\n",
        "#we will use the image_dataset_from_directory\n",
        "import tensorflow as tf\n",
        "IMG_SIZE = (224,224)\n",
        "\n",
        "train_data_10_percent = tf.keras.preprocessing.image_dataset_from_directory(directory = train_dir,\n",
        "                                                                            image_size = IMG_SIZE,\n",
        "                                                                            label_mode ='categorical',\n",
        "                                                                            batch_size = 32)\n",
        "test_data_10_percent = tf.keras.preprocessing.image_dataset_from_directory(directory= test_dir,\n",
        "                                                                           image_size = IMG_SIZE,\n",
        "                                                                           batch_size = 32,\n",
        "                                                                           label_mode ='categorical')"
      ]
    },
    {
      "cell_type": "code",
      "execution_count": null,
      "metadata": {
        "colab": {
          "base_uri": "https://localhost:8080/"
        },
        "id": "OjLxEaRzPrzN",
        "outputId": "2fbeb324-6b34-424f-fa1c-2f82c4315645"
      },
      "outputs": [
        {
          "data": {
            "text/plain": [
              "<_PrefetchDataset element_spec=(TensorSpec(shape=(None, 224, 224, 3), dtype=tf.float32, name=None), TensorSpec(shape=(None, 10), dtype=tf.float32, name=None))>"
            ]
          },
          "execution_count": 83,
          "metadata": {},
          "output_type": "execute_result"
        }
      ],
      "source": [
        "train_data_10_percent"
      ]
    },
    {
      "cell_type": "code",
      "execution_count": null,
      "metadata": {
        "colab": {
          "base_uri": "https://localhost:8080/"
        },
        "id": "Yri76G9cSa5m",
        "outputId": "a2c3a87d-4caa-4dfb-8832-65aee4868ff5"
      },
      "outputs": [
        {
          "data": {
            "text/plain": [
              "['chicken_curry',\n",
              " 'chicken_wings',\n",
              " 'fried_rice',\n",
              " 'grilled_salmon',\n",
              " 'hamburger',\n",
              " 'ice_cream',\n",
              " 'pizza',\n",
              " 'ramen',\n",
              " 'steak',\n",
              " 'sushi']"
            ]
          },
          "execution_count": 84,
          "metadata": {},
          "output_type": "execute_result"
        }
      ],
      "source": [
        "train_data_10_percent.class_names"
      ]
    },
    {
      "cell_type": "code",
      "execution_count": null,
      "metadata": {
        "colab": {
          "base_uri": "https://localhost:8080/"
        },
        "id": "SmSIFB65T0fF",
        "outputId": "2c292f16-e6e6-4c12-e572-f988a0d40e3d"
      },
      "outputs": [
        {
          "name": "stdout",
          "output_type": "stream",
          "text": [
            "tf.Tensor(\n",
            "[[[[1.43030609e+02 8.60306168e+01 6.70306168e+01]\n",
            "   [1.43903061e+02 8.69030609e+01 6.79030609e+01]\n",
            "   [1.44066330e+02 8.70663300e+01 6.80663300e+01]\n",
            "   ...\n",
            "   [2.41633434e+01 6.22450676e+01 1.01729919e+02]\n",
            "   [2.05612488e+01 6.13469238e+01 1.07367332e+02]\n",
            "   [2.84439697e+01 6.20867920e+01 1.06831665e+02]]\n",
            "\n",
            "  [[1.44948975e+02 8.79489822e+01 6.89489822e+01]\n",
            "   [1.44867340e+02 8.78673477e+01 6.88673477e+01]\n",
            "   [1.43943878e+02 8.69438782e+01 6.79438782e+01]\n",
            "   ...\n",
            "   [4.02705612e+01 7.56124878e+01 1.21770805e+02]\n",
            "   [5.48775711e+01 9.18724594e+01 1.43663269e+02]\n",
            "   [4.28465385e+01 7.55352783e+01 1.26295479e+02]]\n",
            "\n",
            "  [[1.41867340e+02 8.58673477e+01 6.88673477e+01]\n",
            "   [1.43413269e+02 8.74132690e+01 7.04132690e+01]\n",
            "   [1.42448975e+02 8.64489746e+01 6.94489746e+01]\n",
            "   ...\n",
            "   [2.58776512e+01 5.69746590e+01 1.05847237e+02]\n",
            "   [3.05457687e+01 6.31171989e+01 1.17117195e+02]\n",
            "   [1.96328125e+01 5.06328125e+01 1.05418526e+02]]\n",
            "\n",
            "  ...\n",
            "\n",
            "  [[6.68722076e+01 2.93060036e+01 1.77193375e+01]\n",
            "   [7.93876877e+01 3.96020584e+01 2.43010845e+01]\n",
            "   [8.32855835e+01 3.90458679e+01 2.10663338e+01]\n",
            "   ...\n",
            "   [1.22290802e+02 1.18459152e+02 1.05954094e+02]\n",
            "   [1.20790466e+02 1.18576202e+02 1.03576202e+02]\n",
            "   [1.36658203e+02 1.34443939e+02 1.19443932e+02]]\n",
            "\n",
            "  [[3.12447872e+01 6.55606794e+00 2.41323662e+00]\n",
            "   [5.33518600e+01 2.36478176e+01 1.41427536e+01]\n",
            "   [7.30917206e+01 3.59183006e+01 1.97754574e+01]\n",
            "   ...\n",
            "   [1.32984512e+02 1.30984512e+02 1.17984512e+02]\n",
            "   [1.22010025e+02 1.23010025e+02 1.09010025e+02]\n",
            "   [1.16724785e+02 1.17724785e+02 1.03724785e+02]]\n",
            "\n",
            "  [[3.23370552e+01 1.57656937e+01 1.49392090e+01]\n",
            "   [2.90355587e+01 7.01011419e+00 1.53566098e+00]\n",
            "   [4.58362541e+01 1.37700043e+01 3.03044844e+00]\n",
            "   ...\n",
            "   [1.05846573e+02 1.06203781e+02 9.24180450e+01]\n",
            "   [1.01938599e+02 1.02938599e+02 8.89385986e+01]\n",
            "   [1.06245094e+02 1.07245094e+02 9.32450943e+01]]]\n",
            "\n",
            "\n",
            " [[[2.41357147e+02 2.23357147e+02 1.87357147e+02]\n",
            "   [2.37403061e+02 2.21403061e+02 1.86596939e+02]\n",
            "   [2.35852036e+02 2.20066330e+02 1.87494888e+02]\n",
            "   ...\n",
            "   [1.22122330e+02 6.06835670e+01 2.32550392e+01]\n",
            "   [1.04336586e+02 4.55509109e+01 1.24897299e+01]\n",
            "   [8.05813675e+01 2.53977394e+01 0.00000000e+00]]\n",
            "\n",
            "  [[2.36857132e+02 2.20857132e+02 1.84857132e+02]\n",
            "   [2.32352036e+02 2.16352036e+02 1.82352036e+02]\n",
            "   [2.30928574e+02 2.16913269e+02 1.81943878e+02]\n",
            "   ...\n",
            "   [1.31897980e+02 6.96990204e+01 3.02704964e+01]\n",
            "   [1.30545868e+02 7.08162918e+01 3.38316002e+01]\n",
            "   [1.21418221e+02 6.22295151e+01 2.60151939e+01]]\n",
            "\n",
            "  [[2.39357147e+02 2.23571426e+02 1.89785721e+02]\n",
            "   [2.35714279e+02 2.21714279e+02 1.86714279e+02]\n",
            "   [2.33336746e+02 2.18785721e+02 1.81433670e+02]\n",
            "   ...\n",
            "   [1.33382660e+02 7.01683731e+01 2.69540863e+01]\n",
            "   [1.30484665e+02 6.71428452e+01 2.59132500e+01]\n",
            "   [1.28352036e+02 6.48521042e+01 2.60663528e+01]]\n",
            "\n",
            "  ...\n",
            "\n",
            "  [[2.44280624e+02 2.07280624e+02 9.07091446e+01]\n",
            "   [2.43214264e+02 2.06214264e+02 9.11020203e+01]\n",
            "   [2.46168396e+02 2.08954102e+02 9.55969696e+01]\n",
            "   ...\n",
            "   [1.28764557e+02 9.13106232e+01 5.81933937e+01]\n",
            "   [1.08107094e+02 8.80050964e+01 7.19439240e+01]\n",
            "   [1.02387909e+02 9.23829117e+01 8.83115616e+01]]\n",
            "\n",
            "  [[2.46285706e+02 2.10285706e+02 9.01428146e+01]\n",
            "   [2.44066330e+02 2.07204086e+02 8.97907944e+01]\n",
            "   [2.45056091e+02 2.07841812e+02 9.44285355e+01]\n",
            "   ...\n",
            "   [1.26723961e+02 8.25658875e+01 4.50507965e+01]\n",
            "   [1.03724625e+02 8.10818329e+01 6.33114700e+01]\n",
            "   [1.05096718e+02 9.43620453e+01 8.97907562e+01]]\n",
            "\n",
            "  [[2.44642853e+02 2.08642853e+02 8.66428604e+01]\n",
            "   [2.46046021e+02 2.10046021e+02 9.00460205e+01]\n",
            "   [2.45500076e+02 2.08285782e+02 9.41429291e+01]\n",
            "   ...\n",
            "   [1.57872284e+02 1.11295914e+02 6.93777161e+01]\n",
            "   [1.14632935e+02 8.78728104e+01 6.73729019e+01]\n",
            "   [1.05556290e+02 9.28114395e+01 8.84697495e+01]]]\n",
            "\n",
            "\n",
            " [[[2.11658173e+02 1.72658173e+02 1.29658173e+02]\n",
            "   [2.27117355e+02 1.90025513e+02 1.46071442e+02]\n",
            "   [2.27357147e+02 1.93571426e+02 1.48571426e+02]\n",
            "   ...\n",
            "   [2.49918381e+02 1.54285751e+02 4.94949265e+01]\n",
            "   [2.49311218e+02 1.59688828e+02 5.29285965e+01]\n",
            "   [2.49586716e+02 1.64556168e+02 5.61428909e+01]]\n",
            "\n",
            "  [[2.15688782e+02 1.74163254e+02 1.28591843e+02]\n",
            "   [2.24061218e+02 1.85928574e+02 1.40862259e+02]\n",
            "   [2.25729599e+02 1.89556122e+02 1.44500000e+02]\n",
            "   ...\n",
            "   [2.45857162e+02 1.46000015e+02 3.44438744e+01]\n",
            "   [2.45275528e+02 1.49372467e+02 3.77806473e+01]\n",
            "   [2.45785675e+02 1.52188843e+02 4.18571777e+01]]\n",
            "\n",
            "  [[2.19801025e+02 1.75785706e+02 1.26433670e+02]\n",
            "   [2.23785721e+02 1.81658173e+02 1.33158173e+02]\n",
            "   [2.26045914e+02 1.88306122e+02 1.41260208e+02]\n",
            "   ...\n",
            "   [2.47260193e+02 1.43428574e+02 2.79234562e+01]\n",
            "   [2.47000000e+02 1.42770401e+02 2.93877602e+01]\n",
            "   [2.44933640e+02 1.42076508e+02 3.15714283e+01]]\n",
            "\n",
            "  ...\n",
            "\n",
            "  [[1.48928543e+02 1.55505112e+02 1.92647995e+02]\n",
            "   [1.45372421e+02 1.54785736e+02 1.91071426e+02]\n",
            "   [1.44617340e+02 1.54260193e+02 1.93045914e+02]\n",
            "   ...\n",
            "   [2.27857056e+02 2.08408035e+02 1.47668198e+02]\n",
            "   [2.15403076e+02 1.88316315e+02 1.20648071e+02]\n",
            "   [2.18224564e+02 1.87729645e+02 1.29367447e+02]]\n",
            "\n",
            "  [[1.43663254e+02 1.55668365e+02 1.91000000e+02]\n",
            "   [1.42862228e+02 1.54862228e+02 1.92862228e+02]\n",
            "   [1.42214279e+02 1.56214279e+02 1.93214279e+02]\n",
            "   ...\n",
            "   [2.37255096e+02 2.17254974e+02 1.76183472e+02]\n",
            "   [2.24780579e+02 1.98913254e+02 1.41627487e+02]\n",
            "   [2.16948959e+02 1.89352066e+02 1.23443794e+02]]\n",
            "\n",
            "  [[1.44071503e+02 1.58071503e+02 1.95071503e+02]\n",
            "   [1.41428604e+02 1.55428604e+02 1.92428604e+02]\n",
            "   [1.40285645e+02 1.54285645e+02 1.91285645e+02]\n",
            "   ...\n",
            "   [2.45561295e+02 2.25632614e+02 1.97193848e+02]\n",
            "   [2.37311188e+02 2.12357208e+02 1.62142731e+02]\n",
            "   [2.19770401e+02 1.93127579e+02 1.22214111e+02]]]\n",
            "\n",
            "\n",
            " ...\n",
            "\n",
            "\n",
            " [[[3.57142866e-01 3.57142866e-01 3.57142866e-01]\n",
            "   [3.57142866e-01 3.57142866e-01 3.57142866e-01]\n",
            "   [3.57142866e-01 3.57142866e-01 3.57142866e-01]\n",
            "   ...\n",
            "   [8.96479721e+01 9.12907639e+01 9.30764999e+01]\n",
            "   [8.84999847e+01 8.94999847e+01 9.14999847e+01]\n",
            "   [8.45305176e+01 8.55305176e+01 8.75305176e+01]]\n",
            "\n",
            "  [[1.00000000e+00 1.00000000e+00 1.00000000e+00]\n",
            "   [1.00000000e+00 1.00000000e+00 1.00000000e+00]\n",
            "   [1.00000000e+00 1.00000000e+00 1.00000000e+00]\n",
            "   ...\n",
            "   [9.52448730e+01 9.68876648e+01 1.00673401e+02]\n",
            "   [9.98622589e+01 1.00862259e+02 1.04862259e+02]\n",
            "   [9.48621140e+01 9.58621140e+01 9.98621140e+01]]\n",
            "\n",
            "  [[2.14285851e-01 2.14285851e-01 2.14285851e-01]\n",
            "   [2.14285851e-01 2.14285851e-01 2.14285851e-01]\n",
            "   [2.14285851e-01 2.14285851e-01 2.14285851e-01]\n",
            "   ...\n",
            "   [9.97397156e+01 1.01382507e+02 1.05168243e+02]\n",
            "   [9.23724670e+01 9.33724670e+01 9.73724670e+01]\n",
            "   [9.81939545e+01 9.91939545e+01 1.03193954e+02]]\n",
            "\n",
            "  ...\n",
            "\n",
            "  [[2.29948864e+01 2.00000000e+01 9.07144642e+00]\n",
            "   [2.44999828e+01 1.42295914e+01 7.87244034e+00]\n",
            "   [5.48622398e+01 3.37142868e+01 2.38112221e+01]\n",
            "   ...\n",
            "   [2.78570557e+01 1.54999390e+01 6.66828728e+00]\n",
            "   [3.39133110e+01 2.15561924e+01 1.23418989e+01]\n",
            "   [3.79999390e+01 2.64285278e+01 1.48571167e+01]]\n",
            "\n",
            "  [[1.91428051e+01 1.72142334e+01 9.71426868e+00]\n",
            "   [2.36581783e+01 1.32244692e+01 7.14285660e+00]\n",
            "   [5.34285545e+01 3.21887474e+01 2.23163033e+01]\n",
            "   ...\n",
            "   [2.87856445e+01 1.78570557e+01 1.16428223e+01]\n",
            "   [3.12908382e+01 2.12908382e+01 1.22194271e+01]\n",
            "   [3.56428223e+01 2.28570557e+01 1.37856445e+01]]\n",
            "\n",
            "  [[1.83877487e+01 1.48163280e+01 1.02295904e+01]\n",
            "   [3.28162994e+01 2.09081440e+01 1.49081430e+01]\n",
            "   [5.28163223e+01 3.00153084e+01 2.06632633e+01]\n",
            "   ...\n",
            "   [3.23724556e+01 2.03622284e+01 1.46377096e+01]\n",
            "   [3.59540749e+01 2.16683674e+01 1.55969257e+01]\n",
            "   [3.79285583e+01 2.16428528e+01 1.46428528e+01]]]\n",
            "\n",
            "\n",
            " [[[1.50967798e+01 8.09677982e+00 2.09677958e+00]\n",
            "   [1.41050701e+01 9.10507011e+00 3.10506964e+00]\n",
            "   [1.44580669e+01 9.88663864e+00 4.10092497e+00]\n",
            "   ...\n",
            "   [5.78573608e+00 3.78573608e+00 6.78573608e+00]\n",
            "   [8.43733406e+00 3.43733454e+00 7.43733454e+00]\n",
            "   [7.00000000e+00 2.00000000e+00 6.00000000e+00]]\n",
            "\n",
            "  [[1.51382332e+01 8.13823318e+00 2.13823342e+00]\n",
            "   [1.36584816e+01 8.65848160e+00 2.65848160e+00]\n",
            "   [1.43727674e+01 9.80133915e+00 5.58705330e+00]\n",
            "   ...\n",
            "   [6.34004831e+00 4.34004831e+00 7.34004831e+00]\n",
            "   [7.00000000e+00 2.00000000e+00 6.00000000e+00]\n",
            "   [7.20968246e+00 2.20968246e+00 6.20968246e+00]]\n",
            "\n",
            "  [[1.69308052e+01 9.93080330e+00 3.93080330e+00]\n",
            "   [1.50714283e+01 1.00714283e+01 4.07142830e+00]\n",
            "   [1.74308014e+01 1.28593750e+01 8.64508915e+00]\n",
            "   ...\n",
            "   [7.07604456e+00 5.07604456e+00 8.07604504e+00]\n",
            "   [7.64508915e+00 2.64508915e+00 6.64508915e+00]\n",
            "   [7.77185535e+00 2.77185535e+00 6.77185535e+00]]\n",
            "\n",
            "  ...\n",
            "\n",
            "  [[2.40991421e+01 1.48089209e+01 1.34540319e+01]\n",
            "   [3.45388756e+01 2.52486515e+01 2.38937626e+01]\n",
            "   [3.67186813e+01 2.69951591e+01 2.58569202e+01]\n",
            "   ...\n",
            "   [7.46426315e+01 2.46426277e+01 1.73661804e+01]\n",
            "   [7.91289215e+01 2.84838123e+01 2.34191456e+01]\n",
            "   [7.53476105e+01 2.47024994e+01 1.96378326e+01]]\n",
            "\n",
            "  [[1.95156384e+01 1.11027050e+01 1.03415051e+01]\n",
            "   [2.25764103e+01 1.45764103e+01 1.25764103e+01]\n",
            "   [2.56727142e+01 1.56727142e+01 1.46727142e+01]\n",
            "   ...\n",
            "   [7.46333160e+01 2.46333179e+01 1.76333179e+01]\n",
            "   [7.81553268e+01 2.81553230e+01 2.11553230e+01]\n",
            "   [7.38056030e+01 2.38056030e+01 1.68056030e+01]]\n",
            "\n",
            "  [[2.04576244e+01 1.14576244e+01 1.24576244e+01]\n",
            "   [1.76922264e+01 9.22127819e+00 8.63411999e+00]\n",
            "   [2.18438187e+01 1.18438196e+01 1.08438196e+01]\n",
            "   ...\n",
            "   [7.63019562e+01 2.67729034e+01 2.07147980e+01]\n",
            "   [7.27503510e+01 2.32212982e+01 1.62212982e+01]\n",
            "   [7.15371094e+01 2.24790020e+01 1.40661602e+01]]]\n",
            "\n",
            "\n",
            " [[[1.14852043e+02 1.03923470e+02 8.82806168e+01]\n",
            "   [1.08209183e+02 9.98724518e+01 8.45408173e+01]\n",
            "   [1.11872444e+02 1.03367348e+02 8.93571396e+01]\n",
            "   ...\n",
            "   [6.42852783e+00 8.00000000e+00 7.21426392e+00]\n",
            "   [6.00000000e+00 8.00000000e+00 7.00000000e+00]\n",
            "   [7.00000000e+00 9.00000000e+00 8.00000000e+00]]\n",
            "\n",
            "  [[1.08188782e+02 1.00423470e+02 8.74949036e+01]\n",
            "   [1.09653061e+02 1.03663261e+02 8.99438782e+01]\n",
            "   [1.10408165e+02 1.04551025e+02 9.26530685e+01]\n",
            "   ...\n",
            "   [7.21426392e+00 8.78573608e+00 8.00000000e+00]\n",
            "   [6.13776731e+00 8.13776684e+00 7.13776731e+00]\n",
            "   [7.00000000e+00 9.00000000e+00 8.00000000e+00]]\n",
            "\n",
            "  [[1.08841835e+02 1.05698982e+02 9.39795914e+01]\n",
            "   [1.24852043e+02 1.21637756e+02 1.12209183e+02]\n",
            "   [1.86096924e+02 1.82882645e+02 1.73882645e+02]\n",
            "   ...\n",
            "   [7.83162785e+00 8.16837215e+00 8.00000000e+00]\n",
            "   [7.00000000e+00 9.00000000e+00 8.00000000e+00]\n",
            "   [7.00000000e+00 9.00000000e+00 8.00000000e+00]]\n",
            "\n",
            "  ...\n",
            "\n",
            "  [[1.13086838e+02 1.06086838e+02 9.00868378e+01]\n",
            "   [1.16775536e+02 1.09775536e+02 9.37755356e+01]\n",
            "   [1.13749931e+02 1.06749931e+02 9.07499313e+01]\n",
            "   ...\n",
            "   [8.25253143e+01 7.85253143e+01 6.65253143e+01]\n",
            "   [8.21480179e+01 7.81480179e+01 6.61480179e+01]\n",
            "   [8.11225433e+01 7.71225433e+01 6.61225433e+01]]\n",
            "\n",
            "  [[1.11428360e+02 1.04428360e+02 8.84283600e+01]\n",
            "   [1.10867188e+02 1.03867188e+02 8.78671875e+01]\n",
            "   [1.02484589e+02 9.54845886e+01 7.94845886e+01]\n",
            "   ...\n",
            "   [7.45458450e+01 7.05458450e+01 5.85458412e+01]\n",
            "   [9.19287415e+01 8.79287415e+01 7.59287415e+01]\n",
            "   [8.80764008e+01 8.40764008e+01 7.30764008e+01]]\n",
            "\n",
            "  [[8.70714645e+01 8.00714645e+01 6.40714645e+01]\n",
            "   [9.21224747e+01 8.51224747e+01 6.91224747e+01]\n",
            "   [9.72704086e+01 9.02704086e+01 7.42704086e+01]\n",
            "   ...\n",
            "   [7.86223450e+01 7.46223450e+01 6.26223412e+01]\n",
            "   [8.25000916e+01 7.85000916e+01 6.65000916e+01]\n",
            "   [8.68623276e+01 8.28623276e+01 7.18623276e+01]]]], shape=(32, 224, 224, 3), dtype=float32) tf.Tensor(\n",
            "[[0. 0. 0. 0. 0. 0. 1. 0. 0. 0.]\n",
            " [0. 0. 0. 0. 0. 0. 1. 0. 0. 0.]\n",
            " [1. 0. 0. 0. 0. 0. 0. 0. 0. 0.]\n",
            " [0. 0. 0. 0. 0. 0. 0. 1. 0. 0.]\n",
            " [1. 0. 0. 0. 0. 0. 0. 0. 0. 0.]\n",
            " [0. 0. 0. 0. 1. 0. 0. 0. 0. 0.]\n",
            " [0. 0. 0. 0. 0. 0. 1. 0. 0. 0.]\n",
            " [0. 1. 0. 0. 0. 0. 0. 0. 0. 0.]\n",
            " [1. 0. 0. 0. 0. 0. 0. 0. 0. 0.]\n",
            " [0. 0. 0. 0. 0. 0. 0. 0. 0. 1.]\n",
            " [1. 0. 0. 0. 0. 0. 0. 0. 0. 0.]\n",
            " [0. 0. 0. 0. 0. 0. 0. 0. 0. 1.]\n",
            " [0. 0. 0. 1. 0. 0. 0. 0. 0. 0.]\n",
            " [0. 0. 0. 0. 0. 0. 0. 0. 0. 1.]\n",
            " [0. 0. 0. 0. 0. 0. 0. 1. 0. 0.]\n",
            " [1. 0. 0. 0. 0. 0. 0. 0. 0. 0.]\n",
            " [0. 0. 0. 0. 0. 0. 0. 0. 0. 1.]\n",
            " [0. 1. 0. 0. 0. 0. 0. 0. 0. 0.]\n",
            " [0. 1. 0. 0. 0. 0. 0. 0. 0. 0.]\n",
            " [0. 0. 0. 1. 0. 0. 0. 0. 0. 0.]\n",
            " [0. 1. 0. 0. 0. 0. 0. 0. 0. 0.]\n",
            " [0. 1. 0. 0. 0. 0. 0. 0. 0. 0.]\n",
            " [0. 0. 0. 0. 0. 1. 0. 0. 0. 0.]\n",
            " [0. 0. 0. 0. 0. 0. 0. 0. 0. 1.]\n",
            " [0. 0. 0. 1. 0. 0. 0. 0. 0. 0.]\n",
            " [0. 0. 0. 1. 0. 0. 0. 0. 0. 0.]\n",
            " [0. 0. 0. 0. 0. 1. 0. 0. 0. 0.]\n",
            " [0. 0. 0. 1. 0. 0. 0. 0. 0. 0.]\n",
            " [0. 0. 0. 0. 0. 1. 0. 0. 0. 0.]\n",
            " [0. 0. 0. 0. 0. 0. 0. 0. 0. 1.]\n",
            " [0. 0. 0. 0. 0. 0. 1. 0. 0. 0.]\n",
            " [1. 0. 0. 0. 0. 0. 0. 0. 0. 0.]], shape=(32, 10), dtype=float32)\n"
          ]
        }
      ],
      "source": [
        "# access the data using take method\n",
        "for images, labels in train_data_10_percent.take(1):\n",
        "  print(images, labels)\n"
      ]
    },
    {
      "cell_type": "markdown",
      "metadata": {
        "id": "cB9avs1Wdls3"
      },
      "source": [
        "Model 0 : Functional API"
      ]
    },
    {
      "cell_type": "code",
      "execution_count": null,
      "metadata": {
        "id": "hQzeCygZdg8o"
      },
      "outputs": [],
      "source": [
        "#Model 0\n",
        "### Building a transfer learning model using functional Api\n",
        "\n",
        "# Series of steps\n",
        "\n",
        "#1. Instansiate the model, by choosing the target model suxh as Efficent NetV280\n",
        "# setting include_top parameter to false, so we can our own ouput model\n",
        "#2 set the base model trainable to False to freeze all the weights in the pretrained model"
      ]
    },
    {
      "cell_type": "code",
      "execution_count": null,
      "metadata": {
        "id": "54TKnPsWUGVY"
      },
      "outputs": [],
      "source": [
        "#we can observe that the images are not naturalized, and the labels are dummy variables."
      ]
    },
    {
      "cell_type": "code",
      "execution_count": null,
      "metadata": {
        "colab": {
          "base_uri": "https://localhost:8080/"
        },
        "id": "bBzjaWBGTf-R",
        "outputId": "b4143666-b46d-42cc-b966-9855715a4247"
      },
      "outputs": [
        {
          "name": "stdout",
          "output_type": "stream",
          "text": [
            "Shape after base_model: (None, 7, 7, 1280)\n",
            "After global average polling 2d():(None, 1280)\n",
            "Saving TensorBoard log files to: transfer_learning/10 _percent_feature/20240321-195451\n",
            "Epoch 1/5\n",
            "24/24 [==============================] - 194s 8s/step - loss: 1.8809 - accuracy: 0.4093 - val_loss: 1.3153 - val_accuracy: 0.7336\n",
            "Epoch 2/5\n",
            "24/24 [==============================] - 179s 8s/step - loss: 1.1296 - accuracy: 0.7533 - val_loss: 0.8903 - val_accuracy: 0.8116\n",
            "Epoch 3/5\n",
            "24/24 [==============================] - 158s 7s/step - loss: 0.8296 - accuracy: 0.8133 - val_loss: 0.7182 - val_accuracy: 0.8336\n",
            "Epoch 4/5\n",
            "24/24 [==============================] - 182s 8s/step - loss: 0.6875 - accuracy: 0.8440 - val_loss: 0.6238 - val_accuracy: 0.8484\n",
            "Epoch 5/5\n",
            "24/24 [==============================] - ETA: 0s - loss: 0.5910 - accuracy: 0.8667"
          ]
        }
      ],
      "source": [
        "### create base model with tf.keras.applications\n",
        "\n",
        "base_model = tf.keras.applications.efficientnet_v2.EfficientNetV2B0(include_top = False)\n",
        "# include_top = false means we are creating our own outplut layer\n",
        "\n",
        "\n",
        "\n",
        "base_model.trainable = False # so the trined info stays intact.\n",
        "\n",
        "inputs = tf.keras.layers.Input(shape = (224,224,3), name = 'input_layer')\n",
        "\n",
        "\n",
        "x= base_model(inputs)\n",
        "print(f\"Shape after base_model: {x.shape}\")\n",
        "\n",
        "#average pool the output of the base model\n",
        "x= tf.keras.layers.GlobalAveragePooling2D(name = \"global_average_polling\")(x)\n",
        "print(f'After global average polling 2d():{x.shape}')\n",
        "\n",
        "outputs = tf.keras.layers.Dense(10, activation ='softmax', name = 'output_layer')(x)\n",
        "\n",
        "\n",
        "model_0 = tf.keras.Model(inputs,outputs)\n",
        "\n",
        "\n",
        "model_0.compile(loss = 'categorical_crossentropy',\n",
        "                optimizer =tf.keras.optimizers.Adam(),\n",
        "                metrics = ['accuracy'])\n",
        "\n",
        "history_10_percent = model_0.fit(train_data_10_percent,\n",
        "                                 epochs =5,\n",
        "                                 steps_per_epoch =len(train_data_10_percent),\n",
        "                                 validation_data = test_data_10_percent,\n",
        "\n",
        "                                 validation_steps =len(test_data_10_percent),\n",
        "                                 callbacks = [create_tensorboard_callback('transfer_learning',\"10 _percent_feature\")])"
      ]
    },
    {
      "cell_type": "code",
      "execution_count": null,
      "metadata": {
        "id": "D_wEJA7YTf_w"
      },
      "outputs": [],
      "source": [
        "plot_loss_curves(history_10_percent)"
      ]
    },
    {
      "cell_type": "code",
      "execution_count": null,
      "metadata": {
        "id": "SmPZQDosTgHS"
      },
      "outputs": [],
      "source": [
        "for layer_number, layer in enumerate(base_model.layers):\n",
        "  print(layer_number,layer.name)"
      ]
    },
    {
      "cell_type": "markdown",
      "metadata": {
        "id": "y8Y9kZWjUZU3"
      },
      "source": [
        "1% data on food class."
      ]
    },
    {
      "cell_type": "code",
      "execution_count": null,
      "metadata": {
        "id": "DUDGCx4dUskq"
      },
      "outputs": [],
      "source": [
        "!wget https://storage.googleapis.com/ztm_tf_course/food_vision/10_food_classes_10_percent.zip\n"
      ]
    },
    {
      "cell_type": "markdown",
      "metadata": {
        "id": "vnoGu-BSXmv5"
      },
      "source": []
    },
    {
      "cell_type": "code",
      "execution_count": null,
      "metadata": {
        "id": "TfEegqKJTgI_"
      },
      "outputs": [],
      "source": [
        "!wget https://storage.googleapis.com/ztm_tf_course/food_vision/10_food_classes_1_percent.zip\n",
        "#unzip_data(\"10_food_classes_1_percent.zip\")\n"
      ]
    },
    {
      "cell_type": "code",
      "execution_count": null,
      "metadata": {
        "id": "TrSync_PU14S"
      },
      "outputs": [],
      "source": [
        "def unzip_data1( dir_name):\n",
        "  import zipfile\n",
        "  zipref = zipfile.ZipFile(dir_name)\n",
        "  zipref.extractall()\n",
        "  zipref.close()\n",
        "\n",
        "unzip_data1('10_food_classes_1_percent.zip')"
      ]
    },
    {
      "cell_type": "code",
      "execution_count": null,
      "metadata": {
        "id": "WKk0vRA2VhPu"
      },
      "outputs": [],
      "source": [
        "unzip_data1('10_food_classes_1_percent.zip')"
      ]
    },
    {
      "cell_type": "code",
      "execution_count": null,
      "metadata": {
        "id": "6RbyQZ83VhR8"
      },
      "outputs": [],
      "source": [
        "train_dir = '10_food_classes_1_percent/train'\n",
        "test_dir ='10_food_classes_1_percent/test'\n",
        "\n",
        "# now, get the image in the format we work on from image_dataset_from_directory\n",
        "\n"
      ]
    },
    {
      "cell_type": "code",
      "execution_count": null,
      "metadata": {
        "id": "ODolmUzTTgNQ"
      },
      "outputs": [],
      "source": [
        "import os\n",
        "for dir_path,dir_name, file_name in os.walk('10_food_classes_1_percent'):\n",
        "  print(f' there are {len(dir_name)} directories  with {len(file_name)} images, of dir length {dir_path}')"
      ]
    },
    {
      "cell_type": "code",
      "execution_count": null,
      "metadata": {
        "id": "WzRGke63cZHY"
      },
      "outputs": [],
      "source": [
        "# train_dir\n",
        "# preprocessing of the dataset\n",
        "import tensorflow as tf\n",
        "\n",
        "from tensorflow.keras.preprocessing import image_dataset_from_directory\n",
        "train_1_percent = image_dataset_from_directory(train_dir,\n",
        "\n",
        "                                               batch_size =32,\n",
        "                                               image_size = (224,224),\n",
        "                                               label_mode = 'categorical',  # since it has multiplt output images of food\n",
        "                                               seed = 42)\n",
        "\n",
        "test_1_percent = image_dataset_from_directory(test_dir,\n",
        "                                              batch_size =32,\n",
        "                                              image_size = (224,224),\n",
        "                                              label_mode = 'categorical',\n",
        "                                              seed =42)"
      ]
    },
    {
      "cell_type": "code",
      "execution_count": null,
      "metadata": {
        "id": "vWj-ulHGmLvH"
      },
      "outputs": [],
      "source": []
    },
    {
      "cell_type": "code",
      "execution_count": null,
      "metadata": {
        "id": "XobrvhBsusZ2"
      },
      "outputs": [],
      "source": [
        "# data_agumentation\n",
        "import tensorflow as tf\n",
        "from tensorflow import keras\n",
        "\n",
        "from tensorflow.keras import layers\n",
        "from tensorflow.keras.layers.experimental import preprocessing\n",
        "#from tensorflow.keras.layers import Sequential\n",
        "\n",
        "augumentation = tf.keras.Sequential([\n",
        "                        preprocessing.RandomRotation(0.2),\n",
        "                        preprocessing.RandomFlip('horizontal'),\n",
        "                        preprocessing.RandomZoom(0.2),\n",
        "                        preprocessing.RandomHeight(0.2),\n",
        "                      preprocessing.RandomWidth(0.2)\n",
        "], name = 'augumentation') # layers.rescaling while using resnet50V2"
      ]
    },
    {
      "cell_type": "code",
      "execution_count": null,
      "metadata": {
        "id": "G6xfq7TlYBRp"
      },
      "outputs": [],
      "source": [
        "train_1_percent.class_names"
      ]
    },
    {
      "cell_type": "code",
      "execution_count": null,
      "metadata": {
        "id": "SbTgkf8RW-mU"
      },
      "outputs": [],
      "source": [
        "# random photo, and obtain it with the directory\n",
        "\n",
        "\n",
        "import random\n",
        "import matplotlib.pyplot as plt\n",
        "import matplotlib.image as mpimg\n",
        "import os\n",
        "\n",
        "target_class = random.choice(train_1_percent.class_names)\n",
        "\n",
        "target_dir = \"10_food_classes_1_percent/train/\" + target_class\n",
        "\n",
        "random_image = random.choice(os.listdir(target_dir))\n",
        "\n",
        "random_path = target_dir + \"/\"+ random_image\n",
        "\n",
        "# read the image\n",
        "img = mpimg.imread(random_path)\n",
        "\n",
        "plt.imshow(img)\n",
        "plt.title(f\"the random image from the directory with class {target_class}\")\n",
        "plt.axis(False)\n",
        "# random_image\n",
        "\n",
        "\n",
        "\n"
      ]
    },
    {
      "cell_type": "code",
      "execution_count": null,
      "metadata": {
        "id": "SB_xHVG46fvt"
      },
      "outputs": [],
      "source": [
        "# obtaining random images\n",
        "import matplotlib.pyplot as plt\n",
        "import matplotlib.image as mpimg\n",
        "import os\n",
        "import random\n",
        "import numpy as np\n",
        "\n",
        "target_class = random.choice(train_1_percent.class_names)\n",
        "\n",
        "target_dir = \"10_food_classes_1_percent/train/\" + target_class\n",
        "\n",
        "rand_image = random.choice(os.listdir(target_dir))\n",
        "\n",
        "rand_image_path = target_dir  + \"/\" + rand_image\n",
        "\n",
        "img = mpimg.imread(rand_image_path)\n",
        "print(img.shape)\n",
        "plt.imshow(img)\n",
        "plt.title(f\" original random image  from class: {target_class}\")\n",
        "plt.axis(False);\n",
        "#augumenting the image\n",
        "import tensorflow as tf\n",
        "\n",
        "augumented_image = augumentation(tf.expand_dims(img,axis = 0))\n",
        "print(augumented_image.shape)\n",
        "plt.figure()\n",
        "plt.imshow(tf.squeeze(augumented_image)/255)\n",
        "plt.title(f\"the augumented image of the class : {target_class}\")\n",
        "plt.axis(False);\n",
        "\n"
      ]
    },
    {
      "cell_type": "code",
      "execution_count": null,
      "metadata": {
        "id": "Z_MhLmb_a9Af"
      },
      "outputs": [],
      "source": [
        "inputs.shape\n",
        "x.shape"
      ]
    },
    {
      "cell_type": "code",
      "execution_count": null,
      "metadata": {
        "id": "K7264-nab3et"
      },
      "outputs": [],
      "source": [
        "x =augumentation(inputs)\n",
        "\n",
        "x.shape"
      ]
    },
    {
      "cell_type": "code",
      "execution_count": null,
      "metadata": {
        "id": "qjLcMuHldY2u"
      },
      "outputs": [],
      "source": [
        "#base_model2(x)"
      ]
    },
    {
      "cell_type": "code",
      "execution_count": null,
      "metadata": {
        "id": "BWiIgxRkmVUA"
      },
      "outputs": [],
      "source": [
        "#train_1_percent\n",
        "test_1_percent\n",
        "outputs, inputs"
      ]
    },
    {
      "cell_type": "code",
      "execution_count": null,
      "metadata": {
        "id": "L0kfi6eUrPhc"
      },
      "outputs": [],
      "source": [
        "base_model2 = tf.keras.applications.efficientnet_v2.EfficientNetV2B0(include_top =False)\n",
        "base_model2.trainable = False  # make the input layer just as it was trained by efficient net, to get their best info.\n",
        "input_shape = (224,224,3)\n",
        "inputs = tf.keras.layers.Input(shape =(224,224,3), name = 'input_layer')\n",
        "\n",
        "x= augumentation(inputs)\n",
        "# adding augumentation in the function api layer rather then\n",
        "\n",
        "\n",
        "x= base_model2(inputs, training =False)\n",
        "\n",
        "\n",
        "x = tf.keras.layers.GlobalAveragePooling2D(name = \"globalaveragepool\")(x)\n",
        "\n",
        "outputs = tf.keras.layers.Dense(10, activation = 'softmax', name = \"output_layer\")(x)\n",
        "\n",
        "model2 = tf.keras.Model(inputs,outputs)\n",
        "\n",
        "model2.compile(loss = 'categorical_crossentropy',\n",
        "               optimizer = tf.keras.optimizers.Adam(),\n",
        "               metrics = ['accuracy'])\n",
        "\n",
        "history_2 = model2.fit(train_1_percent,\n",
        "                       epochs = 10,\n",
        "                       steps_per_epoch = len(train_1_percent),\n",
        "                       validation_data = test_1_percent,\n",
        "                       validation_steps = int(0.25*len(test_1_percent)),\n",
        "                       callbacks = [create_tensorboard_callback('transfer_learning',\"1_percent_data\")])"
      ]
    },
    {
      "cell_type": "code",
      "execution_count": null,
      "metadata": {
        "id": "VGKTkgF2lyXz"
      },
      "outputs": [],
      "source": [
        "#test_data_gen.dtype, train.dtype\n",
        "# plotting the curve of loss and accuracy\n",
        "import pandas as pd\n",
        "mod2 = pd.DataFrame(history_2.history).plot(figsize = (10,7))\n"
      ]
    },
    {
      "cell_type": "code",
      "execution_count": null,
      "metadata": {
        "id": "Eaugbi0m0YaW"
      },
      "outputs": [],
      "source": [
        "model2.summary()"
      ]
    },
    {
      "cell_type": "markdown",
      "metadata": {
        "id": "P1WdCD85x4xX"
      },
      "source": [
        "# working on the dataset with tuning using elastinet for 10% data and dataaugumentation"
      ]
    },
    {
      "cell_type": "code",
      "execution_count": null,
      "metadata": {
        "id": "B0aNTVudrPkK"
      },
      "outputs": [],
      "source": [
        "### creating a augumented layer in 10% test data\n",
        "# Get 10% of the data of the 10 classes (uncomment if you haven't gotten \"10_food_classes_10_percent.zip\" already)\n",
        "!wget https://storage.googleapis.com/ztm_tf_course/food_vision/10_food_classes_10_percent.zip\n",
        "unzip_data(\"10_food_classes_10_percent.zip\")"
      ]
    },
    {
      "cell_type": "code",
      "execution_count": null,
      "metadata": {
        "id": "V-jL08FBcZLA"
      },
      "outputs": [],
      "source": [
        "import os\n",
        "walk_through_dir(\"10_food_classes_10_percent\") # using built in helper function"
      ]
    },
    {
      "cell_type": "code",
      "execution_count": null,
      "metadata": {
        "id": "xx-enBia7tg5"
      },
      "outputs": [],
      "source": [
        "train_data = '10_food_classes_10_percent/train'\n",
        "test_data = '10_food_classes_10_percent/test'"
      ]
    },
    {
      "cell_type": "code",
      "execution_count": null,
      "metadata": {
        "id": "bSw871PfcZOH"
      },
      "outputs": [],
      "source": [
        "# create the augumented layer\n",
        "\n",
        "import tensorflow as tf\n",
        "from tensorflow.keras import layers\n",
        "from tensorflow.keras.models import Sequential\n",
        "\n",
        "augumented_layer = keras.Sequential([\n",
        "    layers.RandomFlip('vertical'),\n",
        "    layers.RandomZoom(0.4),\n",
        "    layers.RandomHeight(0.2),\n",
        "    layers.RandomRotation(0.3)\n",
        "],name = 'augumentation_layer')\n"
      ]
    },
    {
      "cell_type": "code",
      "execution_count": null,
      "metadata": {
        "id": "YbTrZG1BcZQt"
      },
      "outputs": [],
      "source": [
        "# image prcossing the data image\n",
        "from tensorflow.keras.preprocessing import image_dataset_from_directory\n",
        "\n",
        "train_10_data = image_dataset_from_directory(train_data,\n",
        "                                             image_size = (224,224),\n",
        "                                             label_mode ='categorical',\n",
        "                                             batch_size = 32,\n",
        "                                             seed = 42)\n",
        "test_10_data = image_dataset_from_directory(test_data,\n",
        "                                             image_size = (224,224),\n",
        "                                             label_mode ='categorical',\n",
        "                                             batch_size = 32,\n",
        "                                             seed = 42)\n"
      ]
    },
    {
      "cell_type": "code",
      "execution_count": null,
      "metadata": {
        "colab": {
          "base_uri": "https://localhost:8080/"
        },
        "id": "vvgB4DLB8vSK",
        "outputId": "7006b44b-383d-439a-b524-f9605a6c0af3"
      },
      "outputs": [
        {
          "name": "stdout",
          "output_type": "stream",
          "text": [
            "Saving TensorBoard log files to: 10_percent/feature_extraction/20240321-202118\n",
            "Epoch 1/10\n",
            "24/24 [==============================] - 112s 4s/step - loss: 2.1076 - accuracy: 0.2587 - val_loss: 1.5776 - val_accuracy: 0.5905\n",
            "Epoch 2/10\n",
            "24/24 [==============================] - 96s 4s/step - loss: 1.5062 - accuracy: 0.6000 - val_loss: 1.1665 - val_accuracy: 0.7237\n",
            "Epoch 3/10\n",
            "24/24 [==============================] - 95s 4s/step - loss: 1.2088 - accuracy: 0.6960 - val_loss: 0.8767 - val_accuracy: 0.7911\n",
            "Epoch 4/10\n",
            "24/24 [==============================] - 98s 4s/step - loss: 1.0816 - accuracy: 0.6947 - val_loss: 0.7864 - val_accuracy: 0.8010\n",
            "Epoch 5/10\n",
            "24/24 [==============================] - 93s 4s/step - loss: 0.9353 - accuracy: 0.7573 - val_loss: 0.7004 - val_accuracy: 0.8191\n",
            "Epoch 6/10\n",
            "24/24 [==============================] - 97s 4s/step - loss: 0.8745 - accuracy: 0.7533 - val_loss: 0.6412 - val_accuracy: 0.8273\n",
            "Epoch 7/10\n",
            "24/24 [==============================] - 93s 4s/step - loss: 0.8105 - accuracy: 0.7707 - val_loss: 0.6091 - val_accuracy: 0.8306\n",
            "Epoch 8/10\n",
            "24/24 [==============================] - 99s 4s/step - loss: 0.7364 - accuracy: 0.7787 - val_loss: 0.5678 - val_accuracy: 0.8372\n",
            "Epoch 9/10\n",
            "24/24 [==============================] - 99s 4s/step - loss: 0.7270 - accuracy: 0.7907 - val_loss: 0.5482 - val_accuracy: 0.8438\n",
            "Epoch 10/10\n",
            "24/24 [==============================] - 99s 4s/step - loss: 0.7030 - accuracy: 0.8013 - val_loss: 0.5326 - val_accuracy: 0.8553\n"
          ]
        }
      ],
      "source": [
        "# after perfomring augumentation and image processing , we can sue the functional api to build the model\n",
        "import tensorflow\n",
        "\n",
        "base_model3 = tensorflow.keras.applications.efficientnet_v2.EfficientNetV2B1(include_top = False)\n",
        "# using the same model here\n",
        "base_model3.trainable = False\n",
        "input_shape = (224,224,3)\n",
        "\n",
        "\n",
        "inputs = layers.Input(shape = input_shape, name = 'input_layer')\n",
        "\n",
        "x= augumented_layer(inputs) # adding the augumentation layer\n",
        "x= base_model3(x)\n",
        "\n",
        "x= tensorflow.keras.layers.GlobalAveragePooling2D(name = 'Golbal_average_pooling')(x)\n",
        "\n",
        "outputs = tensorflow.keras.layers.Dense(10, activation = 'softmax') (x)\n",
        "\n",
        "model3 = tensorflow.keras.Model(inputs, outputs)\n",
        "\n",
        "model3.compile(loss = 'categorical_crossentropy',\n",
        "               optimizer = tf.keras.optimizers.Adam(learning_rate = 0.001),\n",
        "                metrics =['accuracy'])\n",
        "\n",
        "history_3 = model3.fit(train_10_data,\n",
        "                       epochs = 10,\n",
        "                       steps_per_epoch = len(train_10_data),\n",
        "                       validation_data = test_10_data,\n",
        "                       validation_steps = int(0.25*(len(test_10_data))),\n",
        "                       callbacks = [create_tensorboard_callback('10_percent', \"feature_extraction\")])"
      ]
    },
    {
      "cell_type": "code",
      "execution_count": null,
      "metadata": {
        "id": "TJ94ym3Q6XOa"
      },
      "outputs": [],
      "source": [
        "# creating a function to use the\n",
        "def create_base_model(input_shape : tuple[int,int,int] = (224,224,3),\n",
        "                      output_shape: int = 10,\n",
        "                      learning_rate : float = 0.0001,\n",
        "                      training: bool = False)-> tf.keras.Model:\n",
        "\n",
        "# import the libraries\n",
        "    import tensorflow as tf\n",
        "    from tensorflow.keras import layers\n",
        "    from tensorflow.keras.models import Sequential\n",
        "    from tensorflow.keras.layers import Dense, Activation\n",
        "    from tensorflow.keras.applications.efficientnet_v2 import EfficientNetV2B0\n",
        "    from tensorflow.keras.optimizers import Adam\n",
        "    from tensorflow.keras.losses import categorical_crossentropy\n",
        "\n",
        "\n",
        "\n",
        "    base_model =  EfficientNetV2B0(include_top = False)\n",
        "    base_model.trainable = training\n",
        "\n",
        "    # augumentation layer\n",
        "\n",
        "    augumentation_1 = Sequential([\n",
        "        layers.RandomFlip('horizontal'),\n",
        "        layers.RandomZoom(0.4),\n",
        "        layers.RandomHeight(0.3),\n",
        "        layers.RandomRotation(0.3),\n",
        "    ], name = \"augumentation_layer\")\n",
        "    inputs = tensorflow.keras.Input(shape= input_shape, name = \"input_layer\")\n",
        "\n",
        "    x= augumentation_1(inputs)\n",
        "    x= base_model(x, training = False)\n",
        "\n",
        "    x= tensorflow.keras.layers.GlobalAveragePooling2D()(x)\n",
        "\n",
        "    outputs= tensorflow.keras.layers.Dense(units = output_shape, activation = 'softmax', name = \"output_layer\")(x)\n",
        "\n",
        "    model = tensorflow.keras.Model(inputs,outputs)\n",
        "\n",
        "    model.compile(loss = 'categorical_crossentropy',\n",
        "                  optimizer = tf.keras.optimizers.Adam(learning_rate = learning_rate),\n",
        "                  metrics= ['accuracy'])\n",
        "\n",
        "    return model\n"
      ]
    },
    {
      "cell_type": "code",
      "execution_count": null,
      "metadata": {
        "id": "JA3u0XkF8vdJ"
      },
      "outputs": [],
      "source": [
        "model3= create_base_model()\n"
      ]
    },
    {
      "cell_type": "code",
      "execution_count": null,
      "metadata": {
        "id": "_vWarLGIQtgX"
      },
      "outputs": [],
      "source": [
        "def create_tensorboard_callback(dir_name,experiment_name):\n",
        "    import datetime\n",
        "\n",
        "    log_dir = dir_name + \"/\"+ experiment_name + \"/\" +datetime.datetime.now().strftime(\"%Y%M%D- %H%M%S\")\n",
        "    tensor_board_callback  = tensorflow.keras.callbacks.TensorBoard(log_dir= log_dir)\n",
        "\n",
        "    print(f'saving tensordboard callback log files to {log_dir}')\n",
        "    return tensor_board_callback\n",
        "\n"
      ]
    },
    {
      "cell_type": "code",
      "execution_count": null,
      "metadata": {
        "id": "UYV1T7xBL33U"
      },
      "outputs": [],
      "source": [
        "#### creating checkpoint, to be added in the model at callbacks\n",
        "\n",
        "checkpoint_path = \"ten_percent_model_checkpoint_weight/checkpoint.ckpt\"\n",
        "checkpoint_callback = tf.keras.callbacks.ModelCheckpoint(filepath = checkpoint_path,\n",
        "                                                         save_weight_only= True,\n",
        "                                                         save_best_only= True,\n",
        "                                                         save_freq ='epoch',\n",
        "                                                         verbose =1)"
      ]
    },
    {
      "cell_type": "code",
      "execution_count": null,
      "metadata": {
        "colab": {
          "background_save": true,
          "base_uri": "https://localhost:8080/"
        },
        "id": "E5dcDjysL344",
        "outputId": "3716df1a-3624-4872-f674-8581942ae7f2"
      },
      "outputs": [
        {
          "name": "stdout",
          "output_type": "stream",
          "text": [
            "saving tensordboard callback log files to train_10_percent_augumented/augumented/20244003/21/24- 204005\n",
            "Epoch 1/5\n",
            "24/24 [==============================] - ETA: 0s - loss: 2.3916 - accuracy: 0.1173\n",
            "Epoch 1: val_loss improved from inf to 2.25877, saving model to ten_percent_model_checkpoint_weight/checkpoint.ckpt\n",
            "24/24 [==============================] - 136s 5s/step - loss: 2.3916 - accuracy: 0.1173 - val_loss: 2.2588 - val_accuracy: 0.1743\n",
            "Epoch 2/5\n",
            "24/24 [==============================] - ETA: 0s - loss: 2.2798 - accuracy: 0.1547\n",
            "Epoch 2: val_loss improved from 2.25877 to 2.15070, saving model to ten_percent_model_checkpoint_weight/checkpoint.ckpt\n",
            "24/24 [==============================] - 110s 5s/step - loss: 2.2798 - accuracy: 0.1547 - val_loss: 2.1507 - val_accuracy: 0.2303\n",
            "Epoch 3/5\n",
            "24/24 [==============================] - ETA: 0s - loss: 2.1816 - accuracy: 0.2253\n",
            "Epoch 3: val_loss improved from 2.15070 to 2.06022, saving model to ten_percent_model_checkpoint_weight/checkpoint.ckpt\n",
            "24/24 [==============================] - 125s 5s/step - loss: 2.1816 - accuracy: 0.2253 - val_loss: 2.0602 - val_accuracy: 0.3092\n",
            "Epoch 4/5\n",
            "24/24 [==============================] - ETA: 0s - loss: 2.1044 - accuracy: 0.3107\n",
            "Epoch 4: val_loss improved from 2.06022 to 1.96056, saving model to ten_percent_model_checkpoint_weight/checkpoint.ckpt\n",
            "24/24 [==============================] - 123s 5s/step - loss: 2.1044 - accuracy: 0.3107 - val_loss: 1.9606 - val_accuracy: 0.4145\n",
            "Epoch 5/5\n",
            "24/24 [==============================] - ETA: 0s - loss: 2.0305 - accuracy: 0.3600\n",
            "Epoch 5: val_loss improved from 1.96056 to 1.88823, saving model to ten_percent_model_checkpoint_weight/checkpoint.ckpt\n",
            "24/24 [==============================] - 127s 5s/step - loss: 2.0305 - accuracy: 0.3600 - val_loss: 1.8882 - val_accuracy: 0.4671\n"
          ]
        }
      ],
      "source": [
        "# we will use the above model into using checkpoi\n",
        "# we will use the above model into using checkpoi\n",
        "intial_epochs = 5\n",
        "\n",
        "history_10_percent_data_aug = model3.fit(train_10_data,\n",
        "                                         epochs = 5,\n",
        "                                         validation_data = test_10_data,\n",
        "                                         validation_steps = int(0.25*len(test_10_data)),\n",
        "                                                                callbacks = [create_tensorboard_callback('train_10_percent_augumented',\"augumented\"),checkpoint_callback])"
      ]
    },
    {
      "cell_type": "code",
      "execution_count": null,
      "metadata": {
        "colab": {
          "background_save": true
        },
        "id": "1WDKCursL395",
        "outputId": "ef71b790-3dcd-4616-f40b-d66848849fd1"
      },
      "outputs": [
        {
          "name": "stdout",
          "output_type": "stream",
          "text": [
            "79/79 [==============================] - 116s 1s/step - loss: 1.8976 - accuracy: 0.4688\n"
          ]
        }
      ],
      "source": [
        "# evaluate the test result\n",
        "\n",
        "result_2 = model3.evaluate(test_10_data)"
      ]
    },
    {
      "cell_type": "code",
      "execution_count": null,
      "metadata": {
        "colab": {
          "background_save": true
        },
        "id": "TzA5FPbHL3_r",
        "outputId": "6263f146-a202-401f-9bce-131e1f52fc7a"
      },
      "outputs": [
        {
          "name": "stdout",
          "output_type": "stream",
          "text": [
            "--2024-03-21 20:52:54--  https://raw.githubusercontent.com/mrdbourke/tensorflow-deep-learning/main/extras/helper_functions.py\n",
            "Resolving raw.githubusercontent.com (raw.githubusercontent.com)... 185.199.108.133, 185.199.109.133, 185.199.110.133, ...\n",
            "Connecting to raw.githubusercontent.com (raw.githubusercontent.com)|185.199.108.133|:443... connected.\n",
            "HTTP request sent, awaiting response... 200 OK\n",
            "Length: 10246 (10K) [text/plain]\n",
            "Saving to: ‘helper_functions.py.3’\n",
            "\n",
            "helper_functions.py 100%[===================>]  10.01K  --.-KB/s    in 0s      \n",
            "\n",
            "2024-03-21 20:52:54 (45.1 MB/s) - ‘helper_functions.py.3’ saved [10246/10246]\n",
            "\n"
          ]
        }
      ],
      "source": [
        "!wget https://raw.githubusercontent.com/mrdbourke/tensorflow-deep-learning/main/extras/helper_functions.py\n",
        "\n",
        "from helper_functions import create_tensorboard_callback, plot_loss_curves, unzip_data, walk_through_dir\n",
        "#plot_loss_curve(history_10_percent_data_aug)"
      ]
    },
    {
      "cell_type": "code",
      "execution_count": null,
      "metadata": {
        "colab": {
          "background_save": true
        },
        "id": "Lu1KdUoOY3Nx",
        "outputId": "4f9ee2d9-c50e-4b12-f609-dd92ef514b95"
      },
      "outputs": [
        {
          "data": {
            "image/png": "[encoded data removed]",
            "text/plain": [
              "<Figure size 640x480 with 1 Axes>"
            ]
          },
          "metadata": {},
          "output_type": "display_data"
        },
        {
          "data": {
            "image/png": "[encoded data removed]",
            "text/plain": [
              "<Figure size 640x480 with 1 Axes>"
            ]
          },
          "metadata": {},
          "output_type": "display_data"
        }
      ],
      "source": [
        "plot_loss_curves(history_10_percent_data_aug)"
      ]
    },
    {
      "cell_type": "code",
      "execution_count": null,
      "metadata": {
        "colab": {
          "background_save": true
        },
        "id": "7CDpYoLhBxyy",
        "outputId": "8dcdb978-b6ae-466f-c90a-e5c7bfe6f06d"
      },
      "outputs": [
        {
          "data": {
            "text/plain": [
              "<tensorflow.python.checkpoint.checkpoint.CheckpointLoadStatus at 0x7c9473c66d10>"
            ]
          },
          "execution_count": 123,
          "metadata": {},
          "output_type": "execute_result"
        }
      ],
      "source": [
        "# observing the saved model and their weight using the checkpoint\n",
        "model3.load_weights(checkpoint_path)"
      ]
    },
    {
      "cell_type": "code",
      "execution_count": null,
      "metadata": {
        "colab": {
          "background_save": true
        },
        "id": "pIZjzLbuBx-a",
        "outputId": "99ef3e13-82ca-4754-9db1-3a74fabf3cb6"
      },
      "outputs": [
        {
          "name": "stdout",
          "output_type": "stream",
          "text": [
            "79/79 [==============================] - 117s 1s/step - loss: 1.8976 - accuracy: 0.4688\n"
          ]
        }
      ],
      "source": [
        "loaded_weights_model_results =model3.evaluate(test_10_data)"
      ]
    },
    {
      "cell_type": "code",
      "execution_count": null,
      "metadata": {
        "colab": {
          "background_save": true
        },
        "id": "C6njRTYVCeYB",
        "outputId": "41aa37e6-9e52-471e-816f-c23728447e86"
      },
      "outputs": [
        {
          "data": {
            "text/plain": [
              "False"
            ]
          },
          "execution_count": 125,
          "metadata": {},
          "output_type": "execute_result"
        }
      ],
      "source": [
        "#### compainring the loaded model and previous model\n",
        "## the storing of data might have caused them to have different results\n",
        "\n",
        "result_2 == loaded_weights_model_results"
      ]
    },
    {
      "cell_type": "code",
      "execution_count": null,
      "metadata": {
        "colab": {
          "background_save": true
        },
        "id": "zrOlgaR1CeZ7",
        "outputId": "85286489-3726-45c5-eab4-94361b0470b5"
      },
      "outputs": [
        {
          "data": {
            "text/plain": [
              "array([ True,  True])"
            ]
          },
          "execution_count": 126,
          "metadata": {},
          "output_type": "execute_result"
        }
      ],
      "source": [
        "import numpy as np\n",
        "np.isclose(np.array(result_2),np.array(loaded_weights_model_results))"
      ]
    },
    {
      "cell_type": "code",
      "execution_count": null,
      "metadata": {
        "colab": {
          "background_save": true
        },
        "id": "qHQ37eoIFVUm",
        "outputId": "0a24890e-00c0-46f6-e96a-ffc9af806f9f"
      },
      "outputs": [
        {
          "name": "stdout",
          "output_type": "stream",
          "text": [
            "[-3.57627869e-07  0.00000000e+00]\n"
          ]
        }
      ],
      "source": [
        "### the difference between the results\n",
        "print(np.array(result_2)- np.array(loaded_weights_model_results))"
      ]
    },
    {
      "cell_type": "markdown",
      "metadata": {
        "id": "IU4uAfmnB_nt"
      },
      "source": [
        "# Fine tuning"
      ]
    },
    {
      "cell_type": "code",
      "execution_count": null,
      "metadata": {
        "colab": {
          "background_save": true
        },
        "id": "kahtZbi78vfp",
        "outputId": "bcbe87f9-71fc-435c-faf5-aab3b6dcfc3c"
      },
      "outputs": [
        {
          "data": {
            "text/plain": [
              "[<keras.src.engine.input_layer.InputLayer at 0x7c946ae3bac0>,\n",
              " <keras.src.engine.sequential.Sequential at 0x7c946ae3b700>,\n",
              " <keras.src.engine.functional.Functional at 0x7c9470fa4fa0>,\n",
              " <keras.src.layers.pooling.global_average_pooling2d.GlobalAveragePooling2D at 0x7c94693d6fb0>,\n",
              " <keras.src.layers.core.dense.Dense at 0x7c946ae39780>]"
            ]
          },
          "execution_count": 128,
          "metadata": {},
          "output_type": "execute_result"
        }
      ],
      "source": [
        "# performing fine tuning on the output layers, the base or the the input layer stays frozen.\n",
        "model3.layers\n"
      ]
    },
    {
      "cell_type": "code",
      "execution_count": null,
      "metadata": {
        "colab": {
          "background_save": true
        },
        "id": "T7Th8YexLIRO",
        "outputId": "5a2e6003-c90d-430d-bbdf-0d74ee172f2c"
      },
      "outputs": [
        {
          "name": "stdout",
          "output_type": "stream",
          "text": [
            "layer number:0 | layer name : input_layer | layer type : <keras.src.engine.input_layer.InputLayer object at 0x7c946ae3bac0> | trainable True\n",
            "layer number:1 | layer name : augumentation_layer | layer type : <keras.src.engine.sequential.Sequential object at 0x7c946ae3b700> | trainable True\n",
            "layer number:2 | layer name : efficientnetv2-b0 | layer type : <keras.src.engine.functional.Functional object at 0x7c9470fa4fa0> | trainable False\n",
            "layer number:3 | layer name : global_average_pooling2d_1 | layer type : <keras.src.layers.pooling.global_average_pooling2d.GlobalAveragePooling2D object at 0x7c94693d6fb0> | trainable True\n",
            "layer number:4 | layer name : output_layer | layer type : <keras.src.layers.core.dense.Dense object at 0x7c946ae39780> | trainable True\n"
          ]
        }
      ],
      "source": [
        "for layer_number, layer in enumerate(model3.layers):\n",
        "  print(f'layer number:{layer_number } | layer name : {layer.name} | layer type : {layer} | trainable {layer.trainable}')"
      ]
    },
    {
      "cell_type": "code",
      "execution_count": null,
      "metadata": {
        "colab": {
          "background_save": true
        },
        "id": "Uu7bsx45M9W2",
        "outputId": "0c47c092-6ffa-4068-b75f-0f9282cac928"
      },
      "outputs": [
        {
          "name": "stdout",
          "output_type": "stream",
          "text": [
            "Model: \"model_7\"\n",
            "_________________________________________________________________\n",
            " Layer (type)                Output Shape              Param #   \n",
            "=================================================================\n",
            " input_layer (InputLayer)    [(None, 224, 224, 3)]     0         \n",
            "                                                                 \n",
            " augumentation_layer (Seque  (None, None, 224, 3)      0         \n",
            " ntial)                                                          \n",
            "                                                                 \n",
            " efficientnetv2-b0 (Functio  (None, None, None, 1280   5919312   \n",
            " nal)                        )                                   \n",
            "                                                                 \n",
            " global_average_pooling2d_1  (None, 1280)              0         \n",
            "  (GlobalAveragePooling2D)                                       \n",
            "                                                                 \n",
            " output_layer (Dense)        (None, 10)                12810     \n",
            "                                                                 \n",
            "=================================================================\n",
            "Total params: 5932122 (22.63 MB)\n",
            "Trainable params: 12810 (50.04 KB)\n",
            "Non-trainable params: 5919312 (22.58 MB)\n",
            "_________________________________________________________________\n"
          ]
        }
      ],
      "source": [
        "model3.summary()"
      ]
    },
    {
      "cell_type": "code",
      "execution_count": null,
      "metadata": {
        "colab": {
          "background_save": true
        },
        "id": "RoSfXllhNOXN",
        "outputId": "ca925260-e3bf-4940-84e4-707f5ae3cc44"
      },
      "outputs": [
        {
          "data": {
            "text/plain": [
              "<keras.src.layers.pooling.global_average_pooling2d.GlobalAveragePooling2D at 0x7c94693d6fb0>"
            ]
          },
          "execution_count": 131,
          "metadata": {},
          "output_type": "execute_result"
        }
      ],
      "source": [
        "model3_base_model = model3.layers[2]\n",
        "model3_base_model.name # accessing the layers\n",
        "\n",
        "model3.layers[3]"
      ]
    },
    {
      "cell_type": "code",
      "execution_count": null,
      "metadata": {
        "colab": {
          "background_save": true
        },
        "id": "f_Lwi3HGODDv",
        "outputId": "014f9d1a-af3a-4662-96a0-1437aec89b3d"
      },
      "outputs": [
        {
          "name": "stdout",
          "output_type": "stream",
          "text": [
            "0\n"
          ]
        }
      ],
      "source": [
        "print(len(model3_base_model.trainable_variables))\n",
        "###check on how many layers were trained in the base model"
      ]
    },
    {
      "cell_type": "code",
      "execution_count": null,
      "metadata": {
        "colab": {
          "background_save": true
        },
        "id": "AhMoY_iaOrlH",
        "outputId": "33f436f5-7fa6-461d-de16-55db57056910"
      },
      "outputs": [
        {
          "name": "stdout",
          "output_type": "stream",
          "text": [
            "0 input_8 False\n",
            "1 rescaling_7 False\n",
            "2 normalization_7 False\n",
            "3 stem_conv False\n",
            "4 stem_bn False\n",
            "5 stem_activation False\n",
            "6 block1a_project_conv False\n",
            "7 block1a_project_bn False\n",
            "8 block1a_project_activation False\n",
            "9 block2a_expand_conv False\n",
            "10 block2a_expand_bn False\n",
            "11 block2a_expand_activation False\n",
            "12 block2a_project_conv False\n",
            "13 block2a_project_bn False\n",
            "14 block2b_expand_conv False\n",
            "15 block2b_expand_bn False\n",
            "16 block2b_expand_activation False\n",
            "17 block2b_project_conv False\n",
            "18 block2b_project_bn False\n",
            "19 block2b_drop False\n",
            "20 block2b_add False\n",
            "21 block3a_expand_conv False\n",
            "22 block3a_expand_bn False\n",
            "23 block3a_expand_activation False\n",
            "24 block3a_project_conv False\n",
            "25 block3a_project_bn False\n",
            "26 block3b_expand_conv False\n",
            "27 block3b_expand_bn False\n",
            "28 block3b_expand_activation False\n",
            "29 block3b_project_conv False\n",
            "30 block3b_project_bn False\n",
            "31 block3b_drop False\n",
            "32 block3b_add False\n",
            "33 block4a_expand_conv False\n",
            "34 block4a_expand_bn False\n",
            "35 block4a_expand_activation False\n",
            "36 block4a_dwconv2 False\n",
            "37 block4a_bn False\n",
            "38 block4a_activation False\n",
            "39 block4a_se_squeeze False\n",
            "40 block4a_se_reshape False\n",
            "41 block4a_se_reduce False\n",
            "42 block4a_se_expand False\n",
            "43 block4a_se_excite False\n",
            "44 block4a_project_conv False\n",
            "45 block4a_project_bn False\n",
            "46 block4b_expand_conv False\n",
            "47 block4b_expand_bn False\n",
            "48 block4b_expand_activation False\n",
            "49 block4b_dwconv2 False\n",
            "50 block4b_bn False\n",
            "51 block4b_activation False\n",
            "52 block4b_se_squeeze False\n",
            "53 block4b_se_reshape False\n",
            "54 block4b_se_reduce False\n",
            "55 block4b_se_expand False\n",
            "56 block4b_se_excite False\n",
            "57 block4b_project_conv False\n",
            "58 block4b_project_bn False\n",
            "59 block4b_drop False\n",
            "60 block4b_add False\n",
            "61 block4c_expand_conv False\n",
            "62 block4c_expand_bn False\n",
            "63 block4c_expand_activation False\n",
            "64 block4c_dwconv2 False\n",
            "65 block4c_bn False\n",
            "66 block4c_activation False\n",
            "67 block4c_se_squeeze False\n",
            "68 block4c_se_reshape False\n",
            "69 block4c_se_reduce False\n",
            "70 block4c_se_expand False\n",
            "71 block4c_se_excite False\n",
            "72 block4c_project_conv False\n",
            "73 block4c_project_bn False\n",
            "74 block4c_drop False\n",
            "75 block4c_add False\n",
            "76 block5a_expand_conv False\n",
            "77 block5a_expand_bn False\n",
            "78 block5a_expand_activation False\n",
            "79 block5a_dwconv2 False\n",
            "80 block5a_bn False\n",
            "81 block5a_activation False\n",
            "82 block5a_se_squeeze False\n",
            "83 block5a_se_reshape False\n",
            "84 block5a_se_reduce False\n",
            "85 block5a_se_expand False\n",
            "86 block5a_se_excite False\n",
            "87 block5a_project_conv False\n",
            "88 block5a_project_bn False\n",
            "89 block5b_expand_conv False\n",
            "90 block5b_expand_bn False\n",
            "91 block5b_expand_activation False\n",
            "92 block5b_dwconv2 False\n",
            "93 block5b_bn False\n",
            "94 block5b_activation False\n",
            "95 block5b_se_squeeze False\n",
            "96 block5b_se_reshape False\n",
            "97 block5b_se_reduce False\n",
            "98 block5b_se_expand False\n",
            "99 block5b_se_excite False\n",
            "100 block5b_project_conv False\n",
            "101 block5b_project_bn False\n",
            "102 block5b_drop False\n",
            "103 block5b_add False\n",
            "104 block5c_expand_conv False\n",
            "105 block5c_expand_bn False\n",
            "106 block5c_expand_activation False\n",
            "107 block5c_dwconv2 False\n",
            "108 block5c_bn False\n",
            "109 block5c_activation False\n",
            "110 block5c_se_squeeze False\n",
            "111 block5c_se_reshape False\n",
            "112 block5c_se_reduce False\n",
            "113 block5c_se_expand False\n",
            "114 block5c_se_excite False\n",
            "115 block5c_project_conv False\n",
            "116 block5c_project_bn False\n",
            "117 block5c_drop False\n",
            "118 block5c_add False\n",
            "119 block5d_expand_conv False\n",
            "120 block5d_expand_bn False\n",
            "121 block5d_expand_activation False\n",
            "122 block5d_dwconv2 False\n",
            "123 block5d_bn False\n",
            "124 block5d_activation False\n",
            "125 block5d_se_squeeze False\n",
            "126 block5d_se_reshape False\n",
            "127 block5d_se_reduce False\n",
            "128 block5d_se_expand False\n",
            "129 block5d_se_excite False\n",
            "130 block5d_project_conv False\n",
            "131 block5d_project_bn False\n",
            "132 block5d_drop False\n",
            "133 block5d_add False\n",
            "134 block5e_expand_conv False\n",
            "135 block5e_expand_bn False\n",
            "136 block5e_expand_activation False\n",
            "137 block5e_dwconv2 False\n",
            "138 block5e_bn False\n",
            "139 block5e_activation False\n",
            "140 block5e_se_squeeze False\n",
            "141 block5e_se_reshape False\n",
            "142 block5e_se_reduce False\n",
            "143 block5e_se_expand False\n",
            "144 block5e_se_excite False\n",
            "145 block5e_project_conv False\n",
            "146 block5e_project_bn False\n",
            "147 block5e_drop False\n",
            "148 block5e_add False\n",
            "149 block6a_expand_conv False\n",
            "150 block6a_expand_bn False\n",
            "151 block6a_expand_activation False\n",
            "152 block6a_dwconv2 False\n",
            "153 block6a_bn False\n",
            "154 block6a_activation False\n",
            "155 block6a_se_squeeze False\n",
            "156 block6a_se_reshape False\n",
            "157 block6a_se_reduce False\n",
            "158 block6a_se_expand False\n",
            "159 block6a_se_excite False\n",
            "160 block6a_project_conv False\n",
            "161 block6a_project_bn False\n",
            "162 block6b_expand_conv False\n",
            "163 block6b_expand_bn False\n",
            "164 block6b_expand_activation False\n",
            "165 block6b_dwconv2 False\n",
            "166 block6b_bn False\n",
            "167 block6b_activation False\n",
            "168 block6b_se_squeeze False\n",
            "169 block6b_se_reshape False\n",
            "170 block6b_se_reduce False\n",
            "171 block6b_se_expand False\n",
            "172 block6b_se_excite False\n",
            "173 block6b_project_conv False\n",
            "174 block6b_project_bn False\n",
            "175 block6b_drop False\n",
            "176 block6b_add False\n",
            "177 block6c_expand_conv False\n",
            "178 block6c_expand_bn False\n",
            "179 block6c_expand_activation False\n",
            "180 block6c_dwconv2 False\n",
            "181 block6c_bn False\n",
            "182 block6c_activation False\n",
            "183 block6c_se_squeeze False\n",
            "184 block6c_se_reshape False\n",
            "185 block6c_se_reduce False\n",
            "186 block6c_se_expand False\n",
            "187 block6c_se_excite False\n",
            "188 block6c_project_conv False\n",
            "189 block6c_project_bn False\n",
            "190 block6c_drop False\n",
            "191 block6c_add False\n",
            "192 block6d_expand_conv False\n",
            "193 block6d_expand_bn False\n",
            "194 block6d_expand_activation False\n",
            "195 block6d_dwconv2 False\n",
            "196 block6d_bn False\n",
            "197 block6d_activation False\n",
            "198 block6d_se_squeeze False\n",
            "199 block6d_se_reshape False\n",
            "200 block6d_se_reduce False\n",
            "201 block6d_se_expand False\n",
            "202 block6d_se_excite False\n",
            "203 block6d_project_conv False\n",
            "204 block6d_project_bn False\n",
            "205 block6d_drop False\n",
            "206 block6d_add False\n",
            "207 block6e_expand_conv False\n",
            "208 block6e_expand_bn False\n",
            "209 block6e_expand_activation False\n",
            "210 block6e_dwconv2 False\n",
            "211 block6e_bn False\n",
            "212 block6e_activation False\n",
            "213 block6e_se_squeeze False\n",
            "214 block6e_se_reshape False\n",
            "215 block6e_se_reduce False\n",
            "216 block6e_se_expand False\n",
            "217 block6e_se_excite False\n",
            "218 block6e_project_conv False\n",
            "219 block6e_project_bn False\n",
            "220 block6e_drop False\n",
            "221 block6e_add False\n",
            "222 block6f_expand_conv False\n",
            "223 block6f_expand_bn False\n",
            "224 block6f_expand_activation False\n",
            "225 block6f_dwconv2 False\n",
            "226 block6f_bn False\n",
            "227 block6f_activation False\n",
            "228 block6f_se_squeeze False\n",
            "229 block6f_se_reshape False\n",
            "230 block6f_se_reduce False\n",
            "231 block6f_se_expand False\n",
            "232 block6f_se_excite False\n",
            "233 block6f_project_conv False\n",
            "234 block6f_project_bn False\n",
            "235 block6f_drop False\n",
            "236 block6f_add False\n",
            "237 block6g_expand_conv False\n",
            "238 block6g_expand_bn False\n",
            "239 block6g_expand_activation False\n",
            "240 block6g_dwconv2 False\n",
            "241 block6g_bn False\n",
            "242 block6g_activation False\n",
            "243 block6g_se_squeeze False\n",
            "244 block6g_se_reshape False\n",
            "245 block6g_se_reduce False\n",
            "246 block6g_se_expand False\n",
            "247 block6g_se_excite False\n",
            "248 block6g_project_conv False\n",
            "249 block6g_project_bn False\n",
            "250 block6g_drop False\n",
            "251 block6g_add False\n",
            "252 block6h_expand_conv False\n",
            "253 block6h_expand_bn False\n",
            "254 block6h_expand_activation False\n",
            "255 block6h_dwconv2 False\n",
            "256 block6h_bn False\n",
            "257 block6h_activation False\n",
            "258 block6h_se_squeeze False\n",
            "259 block6h_se_reshape False\n",
            "260 block6h_se_reduce False\n",
            "261 block6h_se_expand False\n",
            "262 block6h_se_excite False\n",
            "263 block6h_project_conv False\n",
            "264 block6h_project_bn False\n",
            "265 block6h_drop False\n",
            "266 block6h_add False\n",
            "267 top_conv False\n",
            "268 top_bn False\n",
            "269 top_activation False\n"
          ]
        }
      ],
      "source": [
        "for layer_number, layer in enumerate(model3_base_model.layers):\n",
        "  print(layer_number, layer.name, layer.trainable)"
      ]
    },
    {
      "cell_type": "code",
      "execution_count": null,
      "metadata": {
        "colab": {
          "background_save": true
        },
        "id": "9KczVUVXODFr"
      },
      "outputs": [],
      "source": []
    },
    {
      "cell_type": "code",
      "execution_count": null,
      "metadata": {
        "colab": {
          "background_save": true
        },
        "id": "trUb_TngNOZL",
        "outputId": "941449c5-88c8-4dde-d84a-9c6b8a9d9d33"
      },
      "outputs": [
        {
          "ename": "AttributeError",
          "evalue": "'Functional' object has no attribute 'base_model'",
          "output_type": "error",
          "traceback": [
            "\u001b[0;31m---------------------------------------------------------------------------\u001b[0m",
            "\u001b[0;31mAttributeError\u001b[0m                            Traceback (most recent call last)",
            "\u001b[0;32m<ipython-input-134-14405665c726>\u001b[0m in \u001b[0;36m<cell line: 4>\u001b[0;34m()\u001b[0m\n\u001b[1;32m      2\u001b[0m \u001b[0mmodel3_base_model\u001b[0m\u001b[0;34m.\u001b[0m\u001b[0mtrainable\u001b[0m \u001b[0;34m=\u001b[0m \u001b[0;32mTrue\u001b[0m\u001b[0;34m\u001b[0m\u001b[0;34m\u001b[0m\u001b[0m\n\u001b[1;32m      3\u001b[0m \u001b[0;34m\u001b[0m\u001b[0m\n\u001b[0;32m----> 4\u001b[0;31m \u001b[0;32mfor\u001b[0m \u001b[0mlayer\u001b[0m \u001b[0;32min\u001b[0m \u001b[0mmodel3\u001b[0m\u001b[0;34m.\u001b[0m\u001b[0mbase_model\u001b[0m\u001b[0;34m.\u001b[0m\u001b[0mayers\u001b[0m\u001b[0;34m[\u001b[0m\u001b[0;34m:\u001b[0m\u001b[0;34m-\u001b[0m\u001b[0;36m10\u001b[0m\u001b[0;34m]\u001b[0m\u001b[0;34m:\u001b[0m\u001b[0;34m\u001b[0m\u001b[0;34m\u001b[0m\u001b[0m\n\u001b[0m\u001b[1;32m      5\u001b[0m   \u001b[0mlayer\u001b[0m\u001b[0;34m.\u001b[0m\u001b[0mtrainable\u001b[0m \u001b[0;34m=\u001b[0m \u001b[0;32mFalse\u001b[0m  \u001b[0;31m# freeze all the layers except the last 10\u001b[0m\u001b[0;34m\u001b[0m\u001b[0;34m\u001b[0m\u001b[0m\n\u001b[1;32m      6\u001b[0m \u001b[0;34m\u001b[0m\u001b[0m\n",
            "\u001b[0;31mAttributeError\u001b[0m: 'Functional' object has no attribute 'base_model'"
          ]
        }
      ],
      "source": [
        "#### unfreezing the 10 base layers.\n",
        "model3_base_model.trainable = True\n",
        "\n",
        "for layer in model3.base_model.ayers[:-10]:\n",
        "  layer.trainable = False  # freeze all the layers except the last 10\n",
        "\n",
        "\n"
      ]
    },
    {
      "cell_type": "code",
      "execution_count": null,
      "metadata": {
        "id": "i3dNl7gnshw7"
      },
      "outputs": [],
      "source": [
        "# the base model layer has been trainable and evrything else is not trainable\n"
      ]
    },
    {
      "cell_type": "code",
      "execution_count": null,
      "metadata": {
        "colab": {
          "background_save": true
        },
        "id": "8UB_1QcLNOdM"
      },
      "outputs": [],
      "source": []
    }
  ],
  "metadata": {
    "accelerator": "GPU",
    "colab": {
      "gpuType": "T4",
      "provenance": [],
      "authorship_tag": "ABX9TyNod95QXKwa41ytEY9EE/hF",
      "include_colab_link": true
    },
    "kernelspec": {
      "display_name": "Python 3",
      "name": "python3"
    },
    "language_info": {
      "name": "python"
    }
  },
  "nbformat": 4,
  "nbformat_minor": 0
}