{
  "nbformat": 4,
  "nbformat_minor": 0,
  "metadata": {
    "colab": {
      "provenance": [],
      "authorship_tag": "ABX9TyOtGMG6H5nbUsiC+lnVcdKr",
      "include_colab_link": true
    },
    "kernelspec": {
      "name": "python3",
      "display_name": "Python 3"
    },
    "language_info": {
      "name": "python"
    }
  },
  "cells": [
    {
      "cell_type": "markdown",
      "metadata": {
        "id": "view-in-github",
        "colab_type": "text"
      },
      "source": [
        "<a href=\"https://colab.research.google.com/github/Mohican999370/Reverie/blob/master/fashion_mnist.ipynb\" target=\"_parent\"><img src=\"https://colab.research.google.com/assets/colab-badge.svg\" alt=\"Open In Colab\"/></a>"
      ]
    },
    {
      "cell_type": "markdown",
      "source": [
        "Fashion Mnist dataset, which has 10,000 test data and 60,000 traing data of 9 category of accessories. the algorithum need to identify it.\n",
        "\n"
      ],
      "metadata": {
        "id": "VkqDy5KoG83g"
      }
    },
    {
      "cell_type": "code",
      "source": [
        "import tensorflow as tf\n",
        "import pandas as pd\n",
        "import numpy as np\n",
        "import matplotlib.pyplot as plt\n",
        "import seaborn as sns\n",
        "from sklearn.model_selection import train_test_split\n",
        "from sklearn.compose import make_column_transformer\n",
        "\n",
        "from tensorflow.keras.layers import Dense, Activation\n",
        "from sklearn.preprocessing import StandardScaler, OneHotEncoder\n",
        "\n",
        "from tensorflow.keras.optimizers import Adam, SGD\n",
        "from tensorflow.keras.losses import BinaryCrossentropy, SparseCategoricalCrossentropy,CategoricalCrossentropy\n"
      ],
      "metadata": {
        "id": "pFjw5E1cHOOl"
      },
      "execution_count": null,
      "outputs": []
    },
    {
      "cell_type": "code",
      "source": [
        "from tensorflow.keras.datasets import fashion_mnist"
      ],
      "metadata": {
        "id": "KtMzYx_FHOQo"
      },
      "execution_count": null,
      "outputs": []
    },
    {
      "cell_type": "code",
      "source": [
        "(train_data, train_labels),(test_data,test_labels)= fashion_mnist.load_data()"
      ],
      "metadata": {
        "colab": {
          "base_uri": "https://localhost:8080/"
        },
        "id": "OZ47eu5JHOXc",
        "outputId": "0699463b-eea6-43ff-e240-3bb4042166e3"
      },
      "execution_count": null,
      "outputs": [
        {
          "output_type": "stream",
          "name": "stdout",
          "text": [
            "Downloading data from https://storage.googleapis.com/tensorflow/tf-keras-datasets/train-labels-idx1-ubyte.gz\n",
            "29515/29515 [==============================] - 0s 0us/step\n",
            "Downloading data from https://storage.googleapis.com/tensorflow/tf-keras-datasets/train-images-idx3-ubyte.gz\n",
            "26421880/26421880 [==============================] - 0s 0us/step\n",
            "Downloading data from https://storage.googleapis.com/tensorflow/tf-keras-datasets/t10k-labels-idx1-ubyte.gz\n",
            "5148/5148 [==============================] - 0s 0us/step\n",
            "Downloading data from https://storage.googleapis.com/tensorflow/tf-keras-datasets/t10k-images-idx3-ubyte.gz\n",
            "4422102/4422102 [==============================] - 0s 0us/step\n"
          ]
        }
      ]
    },
    {
      "cell_type": "code",
      "source": [
        "train_data.shape, test_data.shape, train_labels.shape, test_labels.shape"
      ],
      "metadata": {
        "colab": {
          "base_uri": "https://localhost:8080/"
        },
        "id": "wZjR6IqnLWym",
        "outputId": "cd99ec63-06e3-4164-dc42-d01a3308e262"
      },
      "execution_count": null,
      "outputs": [
        {
          "output_type": "execute_result",
          "data": {
            "text/plain": [
              "((60000, 28, 28), (10000, 28, 28), (60000,), (10000,))"
            ]
          },
          "metadata": {},
          "execution_count": 4
        }
      ]
    },
    {
      "cell_type": "code",
      "source": [
        "train_labels[0]"
      ],
      "metadata": {
        "colab": {
          "base_uri": "https://localhost:8080/"
        },
        "id": "29XqT7FqfZbQ",
        "outputId": "10219f67-fc36-482a-eb45-2df4648935e2"
      },
      "execution_count": null,
      "outputs": [
        {
          "output_type": "execute_result",
          "data": {
            "text/plain": [
              "9"
            ]
          },
          "metadata": {},
          "execution_count": 5
        }
      ]
    },
    {
      "cell_type": "code",
      "source": [
        "# looking into the input shape\n",
        "train_data[0].shape # we notice the input shape is integers"
      ],
      "metadata": {
        "colab": {
          "base_uri": "https://localhost:8080/"
        },
        "id": "zgBIMcQtLW0P",
        "outputId": "7883703c-b0ab-4f79-a363-1a6f9edbecb1"
      },
      "execution_count": null,
      "outputs": [
        {
          "output_type": "execute_result",
          "data": {
            "text/plain": [
              "(28, 28)"
            ]
          },
          "metadata": {},
          "execution_count": 6
        }
      ]
    },
    {
      "cell_type": "code",
      "source": [
        "# since both input and output needed to be preprocesssed.\n",
        "# normalizing with dividing the numbers with 255, will normalize or put all the values into 0-1 range.\n",
        "\n",
        "train_data.min(), train_data.max()\n",
        "\n",
        "# or you can use make_column_transformer to scale and one hot encode.\n",
        "mk = make_column_transformer(\n",
        "    (StandardScaler(), [\"train_data\", \"test_data\"]),\n",
        "    (OneHotEncoder(), ['train_labels', \"test_labels\"])\n",
        ")"
      ],
      "metadata": {
        "id": "Noa9HNWBSM5M"
      },
      "execution_count": null,
      "outputs": []
    },
    {
      "cell_type": "code",
      "source": [
        "train_data = tf.cast(train_data , dtype=tf.float32)\n",
        "test_labels_ht = tf.one_hot(test_labels, depth = 10)\n",
        "train_labels_ht = tf.one_hot(train_labels, depth = 10)\n",
        "test_data = tf.cast(test_data,dtype =tf.float32)"
      ],
      "metadata": {
        "id": "3Se77py_WpGT"
      },
      "execution_count": null,
      "outputs": []
    },
    {
      "cell_type": "code",
      "source": [
        "train_data.dtype"
      ],
      "metadata": {
        "colab": {
          "base_uri": "https://localhost:8080/"
        },
        "id": "7EsF1UfvXlNo",
        "outputId": "af6c03c5-1eb7-4ca4-bde7-e1f4e1a43c51"
      },
      "execution_count": null,
      "outputs": [
        {
          "output_type": "execute_result",
          "data": {
            "text/plain": [
              "tf.float32"
            ]
          },
          "metadata": {},
          "execution_count": 9
        }
      ]
    },
    {
      "cell_type": "code",
      "source": [
        "train_labels_ht[0] # changed the dtype and perform one hot encoding for categorical variable"
      ],
      "metadata": {
        "colab": {
          "base_uri": "https://localhost:8080/"
        },
        "id": "PuolCtGUXqWP",
        "outputId": "4359591f-227b-4c91-a766-39fb367eb4d5"
      },
      "execution_count": null,
      "outputs": [
        {
          "output_type": "execute_result",
          "data": {
            "text/plain": [
              "<tf.Tensor: shape=(10,), dtype=float32, numpy=array([0., 0., 0., 0., 0., 0., 0., 0., 0., 1.], dtype=float32)>"
            ]
          },
          "metadata": {},
          "execution_count": 10
        }
      ]
    },
    {
      "cell_type": "code",
      "source": [
        "# perform normalization on the training data\n",
        "train_data_norm = (train_data/255)\n",
        "train_data_norm[:10]"
      ],
      "metadata": {
        "colab": {
          "base_uri": "https://localhost:8080/"
        },
        "id": "Er40-MW5X__6",
        "outputId": "1fc0fac4-330e-4005-dc69-33b8bb1494aa"
      },
      "execution_count": null,
      "outputs": [
        {
          "output_type": "execute_result",
          "data": {
            "text/plain": [
              "<tf.Tensor: shape=(10, 28, 28), dtype=float32, numpy=\n",
              "array([[[0.        , 0.        , 0.        , ..., 0.        ,\n",
              "         0.        , 0.        ],\n",
              "        [0.        , 0.        , 0.        , ..., 0.        ,\n",
              "         0.        , 0.        ],\n",
              "        [0.        , 0.        , 0.        , ..., 0.        ,\n",
              "         0.        , 0.        ],\n",
              "        ...,\n",
              "        [0.        , 0.        , 0.        , ..., 0.        ,\n",
              "         0.        , 0.        ],\n",
              "        [0.        , 0.        , 0.        , ..., 0.        ,\n",
              "         0.        , 0.        ],\n",
              "        [0.        , 0.        , 0.        , ..., 0.        ,\n",
              "         0.        , 0.        ]],\n",
              "\n",
              "       [[0.        , 0.        , 0.        , ..., 0.        ,\n",
              "         0.        , 0.        ],\n",
              "        [0.        , 0.        , 0.        , ..., 0.        ,\n",
              "         0.        , 0.        ],\n",
              "        [0.        , 0.        , 0.        , ..., 0.        ,\n",
              "         0.        , 0.        ],\n",
              "        ...,\n",
              "        [0.        , 0.        , 0.        , ..., 0.        ,\n",
              "         0.        , 0.        ],\n",
              "        [0.        , 0.        , 0.        , ..., 0.        ,\n",
              "         0.        , 0.        ],\n",
              "        [0.        , 0.        , 0.        , ..., 0.        ,\n",
              "         0.        , 0.        ]],\n",
              "\n",
              "       [[0.        , 0.        , 0.        , ..., 0.        ,\n",
              "         0.        , 0.        ],\n",
              "        [0.        , 0.        , 0.        , ..., 0.        ,\n",
              "         0.        , 0.        ],\n",
              "        [0.        , 0.        , 0.        , ..., 0.        ,\n",
              "         0.        , 0.        ],\n",
              "        ...,\n",
              "        [0.        , 0.        , 0.        , ..., 0.        ,\n",
              "         0.        , 0.        ],\n",
              "        [0.        , 0.        , 0.        , ..., 0.        ,\n",
              "         0.        , 0.        ],\n",
              "        [0.        , 0.        , 0.        , ..., 0.        ,\n",
              "         0.        , 0.        ]],\n",
              "\n",
              "       ...,\n",
              "\n",
              "       [[0.        , 0.        , 0.        , ..., 0.        ,\n",
              "         0.        , 0.        ],\n",
              "        [0.        , 0.        , 0.        , ..., 0.        ,\n",
              "         0.        , 0.        ],\n",
              "        [0.        , 0.        , 0.        , ..., 0.        ,\n",
              "         0.        , 0.        ],\n",
              "        ...,\n",
              "        [0.        , 0.        , 0.        , ..., 0.7058824 ,\n",
              "         0.        , 0.        ],\n",
              "        [0.        , 0.        , 0.        , ..., 0.28235295,\n",
              "         0.        , 0.        ],\n",
              "        [0.        , 0.        , 0.        , ..., 0.27450982,\n",
              "         0.        , 0.        ]],\n",
              "\n",
              "       [[0.        , 0.        , 0.        , ..., 0.        ,\n",
              "         0.        , 0.        ],\n",
              "        [0.        , 0.        , 0.        , ..., 0.        ,\n",
              "         0.        , 0.        ],\n",
              "        [0.        , 0.        , 0.        , ..., 0.15294118,\n",
              "         0.00392157, 0.        ],\n",
              "        ...,\n",
              "        [0.        , 0.        , 0.        , ..., 0.93333334,\n",
              "         0.        , 0.        ],\n",
              "        [0.        , 0.        , 0.        , ..., 0.5137255 ,\n",
              "         0.        , 0.        ],\n",
              "        [0.        , 0.        , 0.        , ..., 0.        ,\n",
              "         0.        , 0.        ]],\n",
              "\n",
              "       [[0.        , 0.        , 0.        , ..., 0.        ,\n",
              "         0.        , 0.        ],\n",
              "        [0.        , 0.        , 0.        , ..., 0.        ,\n",
              "         0.        , 0.        ],\n",
              "        [0.        , 0.        , 0.        , ..., 0.02745098,\n",
              "         0.        , 0.        ],\n",
              "        ...,\n",
              "        [0.        , 0.        , 0.        , ..., 0.        ,\n",
              "         0.03529412, 0.        ],\n",
              "        [0.        , 0.        , 0.        , ..., 0.        ,\n",
              "         0.01176471, 0.        ],\n",
              "        [0.        , 0.        , 0.        , ..., 0.        ,\n",
              "         0.        , 0.        ]]], dtype=float32)>"
            ]
          },
          "metadata": {},
          "execution_count": 11
        }
      ]
    },
    {
      "cell_type": "code",
      "source": [
        "test_data_norm = (test_data/255) # test data has been changed to float from int\n",
        "# otherwise use as float)"
      ],
      "metadata": {
        "id": "FGo2o7BfYUBA"
      },
      "execution_count": null,
      "outputs": []
    },
    {
      "cell_type": "code",
      "source": [
        "class_name =  ['T-shirt/top', 'Trouser', 'Pullover', 'Dress', 'Coat',\n",
        "               'Sandal', 'Shirt', 'Sneaker', 'Bag', 'Ankle boot']"
      ],
      "metadata": {
        "id": "REt1jLRCZ8AL"
      },
      "execution_count": null,
      "outputs": []
    },
    {
      "cell_type": "code",
      "source": [
        "#train_labels[43168], class_name[43168] # since performing hot one encoding on the train_labels, i cannot use it as the index for class name\n",
        "#to obtain title."
      ],
      "metadata": {
        "id": "fTfRdT2K64kg"
      },
      "execution_count": null,
      "outputs": []
    },
    {
      "cell_type": "code",
      "source": [
        "#### ploting the data\n",
        "#def plt_choice(train_data):\\\n",
        "import random\n",
        "tf.random.set_seed(42)\n",
        "plt.figure(figsize =(10,7))\n",
        "for i in range(4):\n",
        "  ax = plt.subplot(2,2,i+1)\n",
        "  num = random.choice(range(len(train_data)))\n",
        "  print(num)\n",
        "  plt.imshow(train_data[num],cmap = plt.cm.binary)\n",
        "  plt.title(class_name[train_labels[num]])\n",
        "  #since performing hot one encoding on the train_labels, i cannot use it as the index for class name\n",
        "#to obtain title. # create another name when you perform normalization or scaling.\n",
        "  plt.axis(False);"
      ],
      "metadata": {
        "colab": {
          "base_uri": "https://localhost:8080/",
          "height": 669
        },
        "id": "t7OhWfVaWYwT",
        "outputId": "269008f0-1887-4f13-e956-66288efc872e"
      },
      "execution_count": null,
      "outputs": [
        {
          "output_type": "stream",
          "name": "stdout",
          "text": [
            "21516\n",
            "10548\n",
            "3480\n",
            "9879\n"
          ]
        },
        {
          "output_type": "display_data",
          "data": {
            "text/plain": [
              "<Figure size 1000x700 with 4 Axes>"
            ],
            "image/png": "[encoded data removed]"
          },
          "metadata": {}
        }
      ]
    },
    {
      "cell_type": "code",
      "source": [
        "#### creating the model\n",
        "\n",
        "model_1 = tf.keras.Sequential([\n",
        "    tf.keras.layers.Flatten(input_shape = (28,28), name = \"input_layer1\"),\n",
        "    tf.keras.layers.Dense(4, activation =\"relu\"),\n",
        "    tf.keras.layers.Dense(4,activation = \"relu\"),\n",
        "    tf.keras.layers.Dense(10, activation = \"softmax\")\n",
        "], name =\"model_1\")\n",
        "\n",
        "model_1.compile(optimizer = tf.keras.optimizers.Adam(learning_rate =0.001),\n",
        "loss = tf.keras.losses.CategoricalCrossentropy(),\n",
        "metrics =['accuracy'])\n",
        "\n",
        "history_1 = model_1.fit(train_data_norm, train_labels_ht, epochs = 100, verbose =1)"
      ],
      "metadata": {
        "colab": {
          "base_uri": "https://localhost:8080/"
        },
        "id": "22tbOslW8oo1",
        "outputId": "a5ad7e67-36dd-44ff-939b-5a5559415e1c"
      },
      "execution_count": null,
      "outputs": [
        {
          "output_type": "stream",
          "name": "stdout",
          "text": [
            "Epoch 1/100\n",
            "1875/1875 [==============================] - 4s 2ms/step - loss: 1.2285 - accuracy: 0.5403\n",
            "Epoch 2/100\n",
            "1875/1875 [==============================] - 3s 2ms/step - loss: 0.7873 - accuracy: 0.7082\n",
            "Epoch 3/100\n",
            "1875/1875 [==============================] - 4s 2ms/step - loss: 0.6942 - accuracy: 0.7488\n",
            "Epoch 4/100\n",
            "1875/1875 [==============================] - 3s 2ms/step - loss: 0.6644 - accuracy: 0.7608\n",
            "Epoch 5/100\n",
            "1875/1875 [==============================] - 3s 2ms/step - loss: 0.6477 - accuracy: 0.7678\n",
            "Epoch 6/100\n",
            "1875/1875 [==============================] - 4s 2ms/step - loss: 0.6351 - accuracy: 0.7730\n",
            "Epoch 7/100\n",
            "1875/1875 [==============================] - 3s 2ms/step - loss: 0.6280 - accuracy: 0.7772\n",
            "Epoch 8/100\n",
            "1875/1875 [==============================] - 3s 2ms/step - loss: 0.6210 - accuracy: 0.7799\n",
            "Epoch 9/100\n",
            "1875/1875 [==============================] - 3s 2ms/step - loss: 0.6142 - accuracy: 0.7833\n",
            "Epoch 10/100\n",
            "1875/1875 [==============================] - 4s 2ms/step - loss: 0.6113 - accuracy: 0.7850\n",
            "Epoch 11/100\n",
            "1875/1875 [==============================] - 3s 2ms/step - loss: 0.6086 - accuracy: 0.7855\n",
            "Epoch 12/100\n",
            "1875/1875 [==============================] - 3s 2ms/step - loss: 0.6053 - accuracy: 0.7870\n",
            "Epoch 13/100\n",
            "1875/1875 [==============================] - 4s 2ms/step - loss: 0.6029 - accuracy: 0.7885\n",
            "Epoch 14/100\n",
            "1875/1875 [==============================] - 4s 2ms/step - loss: 0.6002 - accuracy: 0.7891\n",
            "Epoch 15/100\n",
            "1875/1875 [==============================] - 3s 2ms/step - loss: 0.5983 - accuracy: 0.7900\n",
            "Epoch 16/100\n",
            "1875/1875 [==============================] - 3s 2ms/step - loss: 0.5960 - accuracy: 0.7899\n",
            "Epoch 17/100\n",
            "1875/1875 [==============================] - 5s 3ms/step - loss: 0.5936 - accuracy: 0.7918\n",
            "Epoch 18/100\n",
            "1875/1875 [==============================] - 3s 2ms/step - loss: 0.5941 - accuracy: 0.7911\n",
            "Epoch 19/100\n",
            "1875/1875 [==============================] - 3s 2ms/step - loss: 0.5925 - accuracy: 0.7919\n",
            "Epoch 20/100\n",
            "1875/1875 [==============================] - 4s 2ms/step - loss: 0.5900 - accuracy: 0.7915\n",
            "Epoch 21/100\n",
            "1875/1875 [==============================] - 4s 2ms/step - loss: 0.5886 - accuracy: 0.7930\n",
            "Epoch 22/100\n",
            "1875/1875 [==============================] - 3s 2ms/step - loss: 0.5881 - accuracy: 0.7937\n",
            "Epoch 23/100\n",
            "1875/1875 [==============================] - 3s 2ms/step - loss: 0.5864 - accuracy: 0.7922\n",
            "Epoch 24/100\n",
            "1875/1875 [==============================] - 4s 2ms/step - loss: 0.5856 - accuracy: 0.7942\n",
            "Epoch 25/100\n",
            "1875/1875 [==============================] - 3s 2ms/step - loss: 0.5842 - accuracy: 0.7949\n",
            "Epoch 26/100\n",
            "1875/1875 [==============================] - 3s 2ms/step - loss: 0.5856 - accuracy: 0.7936\n",
            "Epoch 27/100\n",
            "1875/1875 [==============================] - 4s 2ms/step - loss: 0.5834 - accuracy: 0.7951\n",
            "Epoch 28/100\n",
            "1875/1875 [==============================] - 4s 2ms/step - loss: 0.5819 - accuracy: 0.7954\n",
            "Epoch 29/100\n",
            "1875/1875 [==============================] - 3s 2ms/step - loss: 0.5811 - accuracy: 0.7947\n",
            "Epoch 30/100\n",
            "1875/1875 [==============================] - 3s 2ms/step - loss: 0.5818 - accuracy: 0.7945\n",
            "Epoch 31/100\n",
            "1875/1875 [==============================] - 4s 2ms/step - loss: 0.5809 - accuracy: 0.7952\n",
            "Epoch 32/100\n",
            "1875/1875 [==============================] - 3s 2ms/step - loss: 0.5806 - accuracy: 0.7957\n",
            "Epoch 33/100\n",
            "1875/1875 [==============================] - 3s 2ms/step - loss: 0.5791 - accuracy: 0.7961\n",
            "Epoch 34/100\n",
            "1875/1875 [==============================] - 3s 2ms/step - loss: 0.5781 - accuracy: 0.7966\n",
            "Epoch 35/100\n",
            "1875/1875 [==============================] - 4s 2ms/step - loss: 0.5781 - accuracy: 0.7957\n",
            "Epoch 36/100\n",
            "1875/1875 [==============================] - 5s 2ms/step - loss: 0.5768 - accuracy: 0.7974\n",
            "Epoch 37/100\n",
            "1875/1875 [==============================] - 3s 2ms/step - loss: 0.5775 - accuracy: 0.7964\n",
            "Epoch 38/100\n",
            "1875/1875 [==============================] - 4s 2ms/step - loss: 0.5749 - accuracy: 0.7977\n",
            "Epoch 39/100\n",
            "1875/1875 [==============================] - 3s 2ms/step - loss: 0.5755 - accuracy: 0.7975\n",
            "Epoch 40/100\n",
            "1875/1875 [==============================] - 3s 2ms/step - loss: 0.5737 - accuracy: 0.7974\n",
            "Epoch 41/100\n",
            "1875/1875 [==============================] - 4s 2ms/step - loss: 0.5750 - accuracy: 0.7973\n",
            "Epoch 42/100\n",
            "1875/1875 [==============================] - 4s 2ms/step - loss: 0.5747 - accuracy: 0.7977\n",
            "Epoch 43/100\n",
            "1875/1875 [==============================] - 3s 2ms/step - loss: 0.5742 - accuracy: 0.7966\n",
            "Epoch 44/100\n",
            "1875/1875 [==============================] - 3s 2ms/step - loss: 0.5726 - accuracy: 0.7980\n",
            "Epoch 45/100\n",
            "1875/1875 [==============================] - 4s 2ms/step - loss: 0.5735 - accuracy: 0.7980\n",
            "Epoch 46/100\n",
            "1875/1875 [==============================] - 3s 2ms/step - loss: 0.5720 - accuracy: 0.7983\n",
            "Epoch 47/100\n",
            "1875/1875 [==============================] - 3s 2ms/step - loss: 0.5707 - accuracy: 0.7993\n",
            "Epoch 48/100\n",
            "1875/1875 [==============================] - 3s 2ms/step - loss: 0.5720 - accuracy: 0.7986\n",
            "Epoch 49/100\n",
            "1875/1875 [==============================] - 4s 2ms/step - loss: 0.5705 - accuracy: 0.7980\n",
            "Epoch 50/100\n",
            "1875/1875 [==============================] - 3s 2ms/step - loss: 0.5709 - accuracy: 0.7986\n",
            "Epoch 51/100\n",
            "1875/1875 [==============================] - 3s 2ms/step - loss: 0.5708 - accuracy: 0.7980\n",
            "Epoch 52/100\n",
            "1875/1875 [==============================] - 3s 2ms/step - loss: 0.5697 - accuracy: 0.7995\n",
            "Epoch 53/100\n",
            "1875/1875 [==============================] - 4s 2ms/step - loss: 0.5702 - accuracy: 0.7994\n",
            "Epoch 54/100\n",
            "1875/1875 [==============================] - 3s 2ms/step - loss: 0.5692 - accuracy: 0.7992\n",
            "Epoch 55/100\n",
            "1875/1875 [==============================] - 3s 2ms/step - loss: 0.5699 - accuracy: 0.7985\n",
            "Epoch 56/100\n",
            "1875/1875 [==============================] - 4s 2ms/step - loss: 0.5691 - accuracy: 0.7995\n",
            "Epoch 57/100\n",
            "1875/1875 [==============================] - 4s 2ms/step - loss: 0.5677 - accuracy: 0.8000\n",
            "Epoch 58/100\n",
            "1875/1875 [==============================] - 3s 2ms/step - loss: 0.5690 - accuracy: 0.7996\n",
            "Epoch 59/100\n",
            "1875/1875 [==============================] - 3s 2ms/step - loss: 0.5667 - accuracy: 0.7995\n",
            "Epoch 60/100\n",
            "1875/1875 [==============================] - 4s 2ms/step - loss: 0.5684 - accuracy: 0.7990\n",
            "Epoch 61/100\n",
            "1875/1875 [==============================] - 3s 2ms/step - loss: 0.5665 - accuracy: 0.8007\n",
            "Epoch 62/100\n",
            "1875/1875 [==============================] - 3s 2ms/step - loss: 0.5656 - accuracy: 0.8000\n",
            "Epoch 63/100\n",
            "1875/1875 [==============================] - 3s 2ms/step - loss: 0.5681 - accuracy: 0.7995\n",
            "Epoch 64/100\n",
            "1875/1875 [==============================] - 4s 2ms/step - loss: 0.5662 - accuracy: 0.7996\n",
            "Epoch 65/100\n",
            "1875/1875 [==============================] - 3s 2ms/step - loss: 0.5660 - accuracy: 0.8001\n",
            "Epoch 66/100\n",
            "1875/1875 [==============================] - 3s 2ms/step - loss: 0.5650 - accuracy: 0.7994\n",
            "Epoch 67/100\n",
            "1875/1875 [==============================] - 4s 2ms/step - loss: 0.5654 - accuracy: 0.8011\n",
            "Epoch 68/100\n",
            "1875/1875 [==============================] - 4s 2ms/step - loss: 0.5642 - accuracy: 0.8005\n",
            "Epoch 69/100\n",
            "1875/1875 [==============================] - 3s 2ms/step - loss: 0.5643 - accuracy: 0.8013\n",
            "Epoch 70/100\n",
            "1875/1875 [==============================] - 3s 2ms/step - loss: 0.5641 - accuracy: 0.7997\n",
            "Epoch 71/100\n",
            "1875/1875 [==============================] - 4s 2ms/step - loss: 0.5637 - accuracy: 0.8007\n",
            "Epoch 72/100\n",
            "1875/1875 [==============================] - 3s 2ms/step - loss: 0.5636 - accuracy: 0.8011\n",
            "Epoch 73/100\n",
            "1875/1875 [==============================] - 3s 2ms/step - loss: 0.5635 - accuracy: 0.8008\n",
            "Epoch 74/100\n",
            "1875/1875 [==============================] - 3s 2ms/step - loss: 0.5623 - accuracy: 0.8014\n",
            "Epoch 75/100\n",
            "1875/1875 [==============================] - 4s 2ms/step - loss: 0.5617 - accuracy: 0.8008\n",
            "Epoch 76/100\n",
            "1875/1875 [==============================] - 3s 2ms/step - loss: 0.5624 - accuracy: 0.8018\n",
            "Epoch 77/100\n",
            "1875/1875 [==============================] - 3s 2ms/step - loss: 0.5629 - accuracy: 0.8005\n",
            "Epoch 78/100\n",
            "1875/1875 [==============================] - 4s 2ms/step - loss: 0.5613 - accuracy: 0.8013\n",
            "Epoch 79/100\n",
            "1875/1875 [==============================] - 3s 2ms/step - loss: 0.5608 - accuracy: 0.8032\n",
            "Epoch 80/100\n",
            "1875/1875 [==============================] - 3s 2ms/step - loss: 0.5610 - accuracy: 0.8027\n",
            "Epoch 81/100\n",
            "1875/1875 [==============================] - 3s 2ms/step - loss: 0.5621 - accuracy: 0.8013\n",
            "Epoch 82/100\n",
            "1875/1875 [==============================] - 4s 2ms/step - loss: 0.5613 - accuracy: 0.8019\n",
            "Epoch 83/100\n",
            "1875/1875 [==============================] - 3s 2ms/step - loss: 0.5610 - accuracy: 0.8015\n",
            "Epoch 84/100\n",
            "1875/1875 [==============================] - 3s 2ms/step - loss: 0.5604 - accuracy: 0.8013\n",
            "Epoch 85/100\n",
            "1875/1875 [==============================] - 3s 2ms/step - loss: 0.5604 - accuracy: 0.8016\n",
            "Epoch 86/100\n",
            "1875/1875 [==============================] - 4s 2ms/step - loss: 0.5604 - accuracy: 0.8017\n",
            "Epoch 87/100\n",
            "1875/1875 [==============================] - 3s 2ms/step - loss: 0.5590 - accuracy: 0.8023\n",
            "Epoch 88/100\n",
            "1875/1875 [==============================] - 3s 2ms/step - loss: 0.5591 - accuracy: 0.8020\n",
            "Epoch 89/100\n",
            "1875/1875 [==============================] - 4s 2ms/step - loss: 0.5596 - accuracy: 0.8036\n",
            "Epoch 90/100\n",
            "1875/1875 [==============================] - 3s 2ms/step - loss: 0.5588 - accuracy: 0.8017\n",
            "Epoch 91/100\n",
            "1875/1875 [==============================] - 3s 2ms/step - loss: 0.5590 - accuracy: 0.8026\n",
            "Epoch 92/100\n",
            "1875/1875 [==============================] - 3s 2ms/step - loss: 0.5586 - accuracy: 0.8022\n",
            "Epoch 93/100\n",
            "1875/1875 [==============================] - 4s 2ms/step - loss: 0.5585 - accuracy: 0.8031\n",
            "Epoch 94/100\n",
            "1875/1875 [==============================] - 3s 2ms/step - loss: 0.5583 - accuracy: 0.8025\n",
            "Epoch 95/100\n",
            "1875/1875 [==============================] - 3s 2ms/step - loss: 0.5577 - accuracy: 0.8016\n",
            "Epoch 96/100\n",
            "1875/1875 [==============================] - 3s 2ms/step - loss: 0.5579 - accuracy: 0.8032\n",
            "Epoch 97/100\n",
            "1875/1875 [==============================] - 4s 2ms/step - loss: 0.5574 - accuracy: 0.8015\n",
            "Epoch 98/100\n",
            "1875/1875 [==============================] - 3s 2ms/step - loss: 0.5567 - accuracy: 0.8034\n",
            "Epoch 99/100\n",
            "1875/1875 [==============================] - 3s 2ms/step - loss: 0.5574 - accuracy: 0.8032\n",
            "Epoch 100/100\n",
            "1875/1875 [==============================] - 4s 2ms/step - loss: 0.5559 - accuracy: 0.8036\n"
          ]
        }
      ]
    },
    {
      "cell_type": "code",
      "source": [
        "pd.DataFrame(history_1.history).plot(title = \"learning curve\")\n",
        "plt.xlabel('epochs')\n",
        "plt.ylabel('losses')\n",
        "# steps used to improve the model\n",
        "# perform preprocessing in the seprate data, otherwisenormal data and one hot encoded data can shape issues while learning.\n",
        "# use call back to obatin the best learning rate with epochs."
      ],
      "metadata": {
        "colab": {
          "base_uri": "https://localhost:8080/",
          "height": 490
        },
        "id": "WFDqDKC-fzY4",
        "outputId": "1a62472c-c582-4302-a2b4-fe53186bfb57"
      },
      "execution_count": null,
      "outputs": [
        {
          "output_type": "execute_result",
          "data": {
            "text/plain": [
              "Text(0, 0.5, 'losses')"
            ]
          },
          "metadata": {},
          "execution_count": 18
        },
        {
          "output_type": "display_data",
          "data": {
            "text/plain": [
              "<Figure size 640x480 with 1 Axes>"
            ],
            "image/png": "[encoded data removed]"
          },
          "metadata": {}
        }
      ]
    },
    {
      "cell_type": "code",
      "source": [
        "model_1.evaluate(test_data_norm, test_labels_ht)\n",
        "# this models performance is betetr after working on seprate data from make column transfer data\n",
        "# accuracy of the model after 200 iterations have improved to 80%\n",
        "\n"
      ],
      "metadata": {
        "colab": {
          "base_uri": "https://localhost:8080/"
        },
        "id": "pTMJ7pL9eJIM",
        "outputId": "cc59be8e-5257-4b9f-f170-6d559a3f514e"
      },
      "execution_count": null,
      "outputs": [
        {
          "output_type": "stream",
          "name": "stdout",
          "text": [
            "313/313 [==============================] - 1s 2ms/step - loss: 0.6191 - accuracy: 0.7869\n"
          ]
        },
        {
          "output_type": "execute_result",
          "data": {
            "text/plain": [
              "[0.6190819144248962, 0.786899983882904]"
            ]
          },
          "metadata": {},
          "execution_count": 19
        }
      ]
    },
    {
      "cell_type": "code",
      "source": [
        "model_1.summary()\n"
      ],
      "metadata": {
        "colab": {
          "base_uri": "https://localhost:8080/"
        },
        "id": "T5QrjobmToLw",
        "outputId": "2ee69572-17f2-4798-e73b-ca778859f9b2"
      },
      "execution_count": null,
      "outputs": [
        {
          "output_type": "stream",
          "name": "stdout",
          "text": [
            "Model: \"model_1\"\n",
            "_________________________________________________________________\n",
            " Layer (type)                Output Shape              Param #   \n",
            "=================================================================\n",
            " input_layer1 (Flatten)      (None, 784)               0         \n",
            "                                                                 \n",
            " dense (Dense)               (None, 4)                 3140      \n",
            "                                                                 \n",
            " dense_1 (Dense)             (None, 4)                 20        \n",
            "                                                                 \n",
            " dense_2 (Dense)             (None, 10)                50        \n",
            "                                                                 \n",
            "=================================================================\n",
            "Total params: 3210 (12.54 KB)\n",
            "Trainable params: 3210 (12.54 KB)\n",
            "Non-trainable params: 0 (0.00 Byte)\n",
            "_________________________________________________________________\n"
          ]
        }
      ]
    },
    {
      "cell_type": "markdown",
      "source": [
        "# Model_2 using callback to improve the learning rate"
      ],
      "metadata": {
        "id": "bx9mezSSTW9d"
      }
    },
    {
      "cell_type": "code",
      "source": [
        "model_2 = tf.keras.Sequential([\n",
        "    tf.keras.layers.Flatten(input_shape =(28,28)),\n",
        "    tf.keras.layers.Dense(5, activation ='relu'),\n",
        "    tf.keras.layers.Dense(5, activation ='relu'),\n",
        "    tf.keras.layers.Dense(5, activation ='relu'),\n",
        "    tf.keras.layers.Dense(10, activation ='softmax'),\n",
        "])\n",
        "\n",
        "lr_schedule = tf.keras.callbacks.LearningRateScheduler(lambda epoch: 1e-3 * (10**(epoch/20)))\n",
        "\n",
        "model_2.compile(optimizer = tf.keras.optimizers.Adam(),\n",
        "                loss = tf.keras.losses.CategoricalCrossentropy(),\n",
        "                metrics =['accuracy'])\n",
        "\n",
        "history_2 = model_2.fit(train_data_norm,\n",
        "                        train_labels_ht,\n",
        "                        epochs = 200,\n",
        "                        callbacks =[lr_schedule],\n",
        "                        validation_data =(test_data_norm,test_labels_ht)\n",
        "                        ,verbose =1) # sparse when one hot encoding has not been done and in this case use one hot data, without using sparse\n",
        "\n",
        "\n",
        "\n",
        "\n"
      ],
      "metadata": {
        "id": "mro1ET-HSNAA",
        "colab": {
          "base_uri": "https://localhost:8080/"
        },
        "outputId": "5699aeb0-e6e7-452a-9789-a349091d9676"
      },
      "execution_count": null,
      "outputs": [
        {
          "output_type": "stream",
          "name": "stdout",
          "text": [
            "Epoch 1/200\n",
            "1875/1875 [==============================] - 14s 6ms/step - loss: 1.1300 - accuracy: 0.5545 - val_loss: 0.7834 - val_accuracy: 0.6902 - lr: 0.0010\n",
            "Epoch 2/200\n",
            "1875/1875 [==============================] - 6s 3ms/step - loss: 0.6840 - accuracy: 0.7505 - val_loss: 0.6547 - val_accuracy: 0.7600 - lr: 0.0011\n",
            "Epoch 3/200\n",
            "1875/1875 [==============================] - 6s 3ms/step - loss: 0.6166 - accuracy: 0.7756 - val_loss: 0.6327 - val_accuracy: 0.7729 - lr: 0.0013\n",
            "Epoch 4/200\n",
            "1875/1875 [==============================] - 5s 3ms/step - loss: 0.5907 - accuracy: 0.7859 - val_loss: 0.6096 - val_accuracy: 0.7846 - lr: 0.0014\n",
            "Epoch 5/200\n",
            "1875/1875 [==============================] - 6s 3ms/step - loss: 0.5771 - accuracy: 0.7965 - val_loss: 0.6000 - val_accuracy: 0.7835 - lr: 0.0016\n",
            "Epoch 6/200\n",
            "1875/1875 [==============================] - 5s 3ms/step - loss: 0.5642 - accuracy: 0.8030 - val_loss: 0.6238 - val_accuracy: 0.7824 - lr: 0.0018\n",
            "Epoch 7/200\n",
            "1875/1875 [==============================] - 6s 3ms/step - loss: 0.5538 - accuracy: 0.8070 - val_loss: 0.5690 - val_accuracy: 0.8036 - lr: 0.0020\n",
            "Epoch 8/200\n",
            "1875/1875 [==============================] - 4s 2ms/step - loss: 0.5474 - accuracy: 0.8101 - val_loss: 0.5615 - val_accuracy: 0.8033 - lr: 0.0022\n",
            "Epoch 9/200\n",
            "1875/1875 [==============================] - 5s 3ms/step - loss: 0.5434 - accuracy: 0.8111 - val_loss: 0.5788 - val_accuracy: 0.7981 - lr: 0.0025\n",
            "Epoch 10/200\n",
            "1875/1875 [==============================] - 5s 2ms/step - loss: 0.5404 - accuracy: 0.8118 - val_loss: 0.5941 - val_accuracy: 0.7904 - lr: 0.0028\n",
            "Epoch 11/200\n",
            "1875/1875 [==============================] - 4s 2ms/step - loss: 0.5418 - accuracy: 0.8106 - val_loss: 0.5585 - val_accuracy: 0.8053 - lr: 0.0032\n",
            "Epoch 12/200\n",
            "1875/1875 [==============================] - 5s 3ms/step - loss: 0.5356 - accuracy: 0.8121 - val_loss: 0.5561 - val_accuracy: 0.8061 - lr: 0.0035\n",
            "Epoch 13/200\n",
            "1875/1875 [==============================] - 4s 2ms/step - loss: 0.5343 - accuracy: 0.8128 - val_loss: 0.5816 - val_accuracy: 0.8036 - lr: 0.0040\n",
            "Epoch 14/200\n",
            "1875/1875 [==============================] - 5s 2ms/step - loss: 0.5318 - accuracy: 0.8145 - val_loss: 0.5780 - val_accuracy: 0.7931 - lr: 0.0045\n",
            "Epoch 15/200\n",
            "1875/1875 [==============================] - 6s 3ms/step - loss: 0.5375 - accuracy: 0.8130 - val_loss: 0.5903 - val_accuracy: 0.7865 - lr: 0.0050\n",
            "Epoch 16/200\n",
            "1875/1875 [==============================] - 5s 2ms/step - loss: 0.5417 - accuracy: 0.8094 - val_loss: 0.5555 - val_accuracy: 0.8075 - lr: 0.0056\n",
            "Epoch 17/200\n",
            "1875/1875 [==============================] - 7s 4ms/step - loss: 0.5360 - accuracy: 0.8127 - val_loss: 0.5495 - val_accuracy: 0.8098 - lr: 0.0063\n",
            "Epoch 18/200\n",
            "1875/1875 [==============================] - 4s 2ms/step - loss: 0.5421 - accuracy: 0.8105 - val_loss: 0.5610 - val_accuracy: 0.8066 - lr: 0.0071\n",
            "Epoch 19/200\n",
            "1875/1875 [==============================] - 6s 3ms/step - loss: 0.5457 - accuracy: 0.8090 - val_loss: 0.5621 - val_accuracy: 0.8100 - lr: 0.0079\n",
            "Epoch 20/200\n",
            "1875/1875 [==============================] - 5s 2ms/step - loss: 0.5495 - accuracy: 0.8080 - val_loss: 0.5920 - val_accuracy: 0.8002 - lr: 0.0089\n",
            "Epoch 21/200\n",
            "1875/1875 [==============================] - 5s 2ms/step - loss: 0.5521 - accuracy: 0.8077 - val_loss: 0.5943 - val_accuracy: 0.7932 - lr: 0.0100\n",
            "Epoch 22/200\n",
            "1875/1875 [==============================] - 5s 3ms/step - loss: 0.5589 - accuracy: 0.8044 - val_loss: 0.6414 - val_accuracy: 0.7720 - lr: 0.0112\n",
            "Epoch 23/200\n",
            "1875/1875 [==============================] - 4s 2ms/step - loss: 0.5699 - accuracy: 0.8002 - val_loss: 0.6232 - val_accuracy: 0.7827 - lr: 0.0126\n",
            "Epoch 24/200\n",
            "1875/1875 [==============================] - 4s 2ms/step - loss: 0.5731 - accuracy: 0.7987 - val_loss: 0.6595 - val_accuracy: 0.7771 - lr: 0.0141\n",
            "Epoch 25/200\n",
            "1875/1875 [==============================] - 5s 3ms/step - loss: 0.5811 - accuracy: 0.7960 - val_loss: 0.6133 - val_accuracy: 0.7890 - lr: 0.0158\n",
            "Epoch 26/200\n",
            "1875/1875 [==============================] - 4s 2ms/step - loss: 0.6013 - accuracy: 0.7887 - val_loss: 0.6752 - val_accuracy: 0.7687 - lr: 0.0178\n",
            "Epoch 27/200\n",
            "1875/1875 [==============================] - 4s 2ms/step - loss: 0.6120 - accuracy: 0.7850 - val_loss: 0.6026 - val_accuracy: 0.7969 - lr: 0.0200\n",
            "Epoch 28/200\n",
            "1875/1875 [==============================] - 4s 2ms/step - loss: 0.6269 - accuracy: 0.7824 - val_loss: 0.6404 - val_accuracy: 0.7799 - lr: 0.0224\n",
            "Epoch 29/200\n",
            "1875/1875 [==============================] - 4s 2ms/step - loss: 0.6409 - accuracy: 0.7793 - val_loss: 0.6686 - val_accuracy: 0.7846 - lr: 0.0251\n",
            "Epoch 30/200\n",
            "1875/1875 [==============================] - 5s 2ms/step - loss: 0.6704 - accuracy: 0.7693 - val_loss: 0.6761 - val_accuracy: 0.7742 - lr: 0.0282\n",
            "Epoch 31/200\n",
            "1875/1875 [==============================] - 4s 2ms/step - loss: 0.7202 - accuracy: 0.7491 - val_loss: 0.6724 - val_accuracy: 0.7584 - lr: 0.0316\n",
            "Epoch 32/200\n",
            "1875/1875 [==============================] - 4s 2ms/step - loss: 0.7528 - accuracy: 0.7341 - val_loss: 0.9345 - val_accuracy: 0.6773 - lr: 0.0355\n",
            "Epoch 33/200\n",
            "1875/1875 [==============================] - 5s 2ms/step - loss: 0.9242 - accuracy: 0.6477 - val_loss: 1.1978 - val_accuracy: 0.4932 - lr: 0.0398\n",
            "Epoch 34/200\n",
            "1875/1875 [==============================] - 4s 2ms/step - loss: 1.1978 - accuracy: 0.5145 - val_loss: 1.1287 - val_accuracy: 0.5424 - lr: 0.0447\n",
            "Epoch 35/200\n",
            "1875/1875 [==============================] - 4s 2ms/step - loss: 1.0955 - accuracy: 0.5609 - val_loss: 1.2635 - val_accuracy: 0.4325 - lr: 0.0501\n",
            "Epoch 36/200\n",
            "1875/1875 [==============================] - 5s 3ms/step - loss: 1.2346 - accuracy: 0.4876 - val_loss: 1.3521 - val_accuracy: 0.3901 - lr: 0.0562\n",
            "Epoch 37/200\n",
            "1875/1875 [==============================] - 4s 2ms/step - loss: 1.3582 - accuracy: 0.3906 - val_loss: 1.3322 - val_accuracy: 0.3975 - lr: 0.0631\n",
            "Epoch 38/200\n",
            "1875/1875 [==============================] - 4s 2ms/step - loss: 1.3625 - accuracy: 0.3906 - val_loss: 1.3301 - val_accuracy: 0.3770 - lr: 0.0708\n",
            "Epoch 39/200\n",
            "1875/1875 [==============================] - 5s 3ms/step - loss: 1.3951 - accuracy: 0.3908 - val_loss: 1.4030 - val_accuracy: 0.3926 - lr: 0.0794\n",
            "Epoch 40/200\n",
            "1875/1875 [==============================] - 4s 2ms/step - loss: 1.4177 - accuracy: 0.3891 - val_loss: 1.3510 - val_accuracy: 0.4046 - lr: 0.0891\n",
            "Epoch 41/200\n",
            "1875/1875 [==============================] - 4s 2ms/step - loss: 1.4552 - accuracy: 0.3798 - val_loss: 2.3379 - val_accuracy: 0.1000 - lr: 0.1000\n",
            "Epoch 42/200\n",
            "1875/1875 [==============================] - 5s 3ms/step - loss: 2.3169 - accuracy: 0.1008 - val_loss: 2.3242 - val_accuracy: 0.1000 - lr: 0.1122\n",
            "Epoch 43/200\n",
            "1875/1875 [==============================] - 4s 2ms/step - loss: 2.3194 - accuracy: 0.0999 - val_loss: 2.3211 - val_accuracy: 0.1000 - lr: 0.1259\n",
            "Epoch 44/200\n",
            "1875/1875 [==============================] - 4s 2ms/step - loss: 2.3214 - accuracy: 0.1002 - val_loss: 2.3136 - val_accuracy: 0.1000 - lr: 0.1413\n",
            "Epoch 45/200\n",
            "1875/1875 [==============================] - 5s 3ms/step - loss: 2.3226 - accuracy: 0.0995 - val_loss: 2.3277 - val_accuracy: 0.1000 - lr: 0.1585\n",
            "Epoch 46/200\n",
            "1875/1875 [==============================] - 4s 2ms/step - loss: 2.3257 - accuracy: 0.0995 - val_loss: 2.3150 - val_accuracy: 0.1000 - lr: 0.1778\n",
            "Epoch 47/200\n",
            "1875/1875 [==============================] - 4s 2ms/step - loss: 2.3279 - accuracy: 0.0977 - val_loss: 2.3396 - val_accuracy: 0.1000 - lr: 0.1995\n",
            "Epoch 48/200\n",
            "1875/1875 [==============================] - 5s 3ms/step - loss: 2.3319 - accuracy: 0.0987 - val_loss: 2.3244 - val_accuracy: 0.1000 - lr: 0.2239\n",
            "Epoch 49/200\n",
            "1875/1875 [==============================] - 4s 2ms/step - loss: 2.3331 - accuracy: 0.1015 - val_loss: 2.3613 - val_accuracy: 0.1000 - lr: 0.2512\n",
            "Epoch 50/200\n",
            "1875/1875 [==============================] - 4s 2ms/step - loss: 2.3386 - accuracy: 0.0979 - val_loss: 2.3260 - val_accuracy: 0.1000 - lr: 0.2818\n",
            "Epoch 51/200\n",
            "1875/1875 [==============================] - 5s 3ms/step - loss: 2.3414 - accuracy: 0.0995 - val_loss: 2.3504 - val_accuracy: 0.1000 - lr: 0.3162\n",
            "Epoch 52/200\n",
            "1875/1875 [==============================] - 4s 2ms/step - loss: 2.3454 - accuracy: 0.0987 - val_loss: 2.3546 - val_accuracy: 0.1000 - lr: 0.3548\n",
            "Epoch 53/200\n",
            "1875/1875 [==============================] - 4s 2ms/step - loss: 2.3467 - accuracy: 0.1019 - val_loss: 2.3567 - val_accuracy: 0.1000 - lr: 0.3981\n",
            "Epoch 54/200\n",
            "1875/1875 [==============================] - 5s 3ms/step - loss: 2.3534 - accuracy: 0.1005 - val_loss: 2.3626 - val_accuracy: 0.1000 - lr: 0.4467\n",
            "Epoch 55/200\n",
            "1875/1875 [==============================] - 4s 2ms/step - loss: 2.3619 - accuracy: 0.0991 - val_loss: 2.3551 - val_accuracy: 0.1000 - lr: 0.5012\n",
            "Epoch 56/200\n",
            "1875/1875 [==============================] - 4s 2ms/step - loss: 2.3688 - accuracy: 0.0984 - val_loss: 2.3647 - val_accuracy: 0.1000 - lr: 0.5623\n",
            "Epoch 57/200\n",
            "1875/1875 [==============================] - 4s 2ms/step - loss: 2.3746 - accuracy: 0.0985 - val_loss: 2.3832 - val_accuracy: 0.1000 - lr: 0.6310\n",
            "Epoch 58/200\n",
            "1875/1875 [==============================] - 4s 2ms/step - loss: 2.3826 - accuracy: 0.1025 - val_loss: 2.4107 - val_accuracy: 0.1000 - lr: 0.7079\n",
            "Epoch 59/200\n",
            "1875/1875 [==============================] - 4s 2ms/step - loss: 2.3954 - accuracy: 0.0998 - val_loss: 2.3964 - val_accuracy: 0.1000 - lr: 0.7943\n",
            "Epoch 60/200\n",
            "1875/1875 [==============================] - 5s 2ms/step - loss: 2.3973 - accuracy: 0.1004 - val_loss: 2.3593 - val_accuracy: 0.1000 - lr: 0.8913\n",
            "Epoch 61/200\n",
            "1875/1875 [==============================] - 4s 2ms/step - loss: 2.4176 - accuracy: 0.1001 - val_loss: 2.3763 - val_accuracy: 0.1000 - lr: 1.0000\n",
            "Epoch 62/200\n",
            "1875/1875 [==============================] - 4s 2ms/step - loss: 2.4232 - accuracy: 0.0972 - val_loss: 2.3319 - val_accuracy: 0.1000 - lr: 1.1220\n",
            "Epoch 63/200\n",
            "1875/1875 [==============================] - 5s 2ms/step - loss: 2.4365 - accuracy: 0.1012 - val_loss: 2.3515 - val_accuracy: 0.1000 - lr: 1.2589\n",
            "Epoch 64/200\n",
            "1875/1875 [==============================] - 4s 2ms/step - loss: 2.4564 - accuracy: 0.0993 - val_loss: 2.4767 - val_accuracy: 0.1000 - lr: 1.4125\n",
            "Epoch 65/200\n",
            "1875/1875 [==============================] - 5s 2ms/step - loss: 2.4659 - accuracy: 0.1014 - val_loss: 2.4597 - val_accuracy: 0.1000 - lr: 1.5849\n",
            "Epoch 66/200\n",
            "1875/1875 [==============================] - 4s 2ms/step - loss: 2.4815 - accuracy: 0.1019 - val_loss: 2.4782 - val_accuracy: 0.1000 - lr: 1.7783\n",
            "Epoch 67/200\n",
            "1875/1875 [==============================] - 4s 2ms/step - loss: 2.4961 - accuracy: 0.1006 - val_loss: 2.4876 - val_accuracy: 0.1000 - lr: 1.9953\n",
            "Epoch 68/200\n",
            "1875/1875 [==============================] - 5s 3ms/step - loss: 2.5294 - accuracy: 0.1001 - val_loss: 2.5202 - val_accuracy: 0.1000 - lr: 2.2387\n",
            "Epoch 69/200\n",
            "1875/1875 [==============================] - 4s 2ms/step - loss: 2.5469 - accuracy: 0.0993 - val_loss: 2.6983 - val_accuracy: 0.1000 - lr: 2.5119\n",
            "Epoch 70/200\n",
            "1875/1875 [==============================] - 4s 2ms/step - loss: 2.5633 - accuracy: 0.0983 - val_loss: 2.5479 - val_accuracy: 0.1000 - lr: 2.8184\n",
            "Epoch 71/200\n",
            "1875/1875 [==============================] - 5s 3ms/step - loss: 2.6197 - accuracy: 0.1012 - val_loss: 2.7607 - val_accuracy: 0.1000 - lr: 3.1623\n",
            "Epoch 72/200\n",
            "1875/1875 [==============================] - 4s 2ms/step - loss: 2.6434 - accuracy: 0.0993 - val_loss: 2.6192 - val_accuracy: 0.1000 - lr: 3.5481\n",
            "Epoch 73/200\n",
            "1875/1875 [==============================] - 4s 2ms/step - loss: 2.6625 - accuracy: 0.1020 - val_loss: 2.5178 - val_accuracy: 0.1000 - lr: 3.9811\n",
            "Epoch 74/200\n",
            "1875/1875 [==============================] - 5s 3ms/step - loss: 2.7210 - accuracy: 0.0996 - val_loss: 2.9292 - val_accuracy: 0.1000 - lr: 4.4668\n",
            "Epoch 75/200\n",
            "1875/1875 [==============================] - 4s 2ms/step - loss: 2.7710 - accuracy: 0.1015 - val_loss: 2.8480 - val_accuracy: 0.1000 - lr: 5.0119\n",
            "Epoch 76/200\n",
            "1875/1875 [==============================] - 4s 2ms/step - loss: 2.7956 - accuracy: 0.1006 - val_loss: 3.0341 - val_accuracy: 0.1000 - lr: 5.6234\n",
            "Epoch 77/200\n",
            "1875/1875 [==============================] - 5s 3ms/step - loss: 2.8909 - accuracy: 0.1012 - val_loss: 2.6473 - val_accuracy: 0.1000 - lr: 6.3096\n",
            "Epoch 78/200\n",
            "1875/1875 [==============================] - 4s 2ms/step - loss: 2.9027 - accuracy: 0.0984 - val_loss: 3.2235 - val_accuracy: 0.1000 - lr: 7.0795\n",
            "Epoch 79/200\n",
            "1875/1875 [==============================] - 4s 2ms/step - loss: 3.0170 - accuracy: 0.0992 - val_loss: 3.1483 - val_accuracy: 0.1000 - lr: 7.9433\n",
            "Epoch 80/200\n",
            "1875/1875 [==============================] - 5s 3ms/step - loss: 3.1037 - accuracy: 0.0984 - val_loss: 3.5861 - val_accuracy: 0.1000 - lr: 8.9125\n",
            "Epoch 81/200\n",
            "1875/1875 [==============================] - 4s 2ms/step - loss: 3.2890 - accuracy: 0.1001 - val_loss: 2.9285 - val_accuracy: 0.1000 - lr: 10.0000\n",
            "Epoch 82/200\n",
            "1875/1875 [==============================] - 4s 2ms/step - loss: 3.4661 - accuracy: 0.0994 - val_loss: 3.4760 - val_accuracy: 0.1000 - lr: 11.2202\n",
            "Epoch 83/200\n",
            "1875/1875 [==============================] - 5s 3ms/step - loss: 3.6758 - accuracy: 0.1015 - val_loss: 7.7525 - val_accuracy: 0.1000 - lr: 12.5893\n",
            "Epoch 84/200\n",
            "1875/1875 [==============================] - 4s 2ms/step - loss: 4.1114 - accuracy: 0.0993 - val_loss: 4.2697 - val_accuracy: 0.1000 - lr: 14.1254\n",
            "Epoch 85/200\n",
            "1875/1875 [==============================] - 4s 2ms/step - loss: 4.7446 - accuracy: 0.0986 - val_loss: 3.6902 - val_accuracy: 0.1000 - lr: 15.8489\n",
            "Epoch 86/200\n",
            "1875/1875 [==============================] - 5s 3ms/step - loss: 5.1136 - accuracy: 0.1010 - val_loss: 2.9587 - val_accuracy: 0.1000 - lr: 17.7828\n",
            "Epoch 87/200\n",
            "1875/1875 [==============================] - 4s 2ms/step - loss: 6.4575 - accuracy: 0.1016 - val_loss: 4.8837 - val_accuracy: 0.1000 - lr: 19.9526\n",
            "Epoch 88/200\n",
            "1875/1875 [==============================] - 4s 2ms/step - loss: 7.2456 - accuracy: 0.0993 - val_loss: 4.9566 - val_accuracy: 0.1000 - lr: 22.3872\n",
            "Epoch 89/200\n",
            "1875/1875 [==============================] - 5s 3ms/step - loss: 8.8339 - accuracy: 0.1004 - val_loss: 7.2070 - val_accuracy: 0.1000 - lr: 25.1189\n",
            "Epoch 90/200\n",
            "1875/1875 [==============================] - 4s 2ms/step - loss: 10.1760 - accuracy: 0.1014 - val_loss: 9.1009 - val_accuracy: 0.1000 - lr: 28.1838\n",
            "Epoch 91/200\n",
            "1875/1875 [==============================] - 4s 2ms/step - loss: 12.3148 - accuracy: 0.0998 - val_loss: 6.3866 - val_accuracy: 0.1000 - lr: 31.6228\n",
            "Epoch 92/200\n",
            "1875/1875 [==============================] - 5s 3ms/step - loss: 14.6772 - accuracy: 0.1002 - val_loss: 10.9118 - val_accuracy: 0.1000 - lr: 35.4813\n",
            "Epoch 93/200\n",
            "1875/1875 [==============================] - 4s 2ms/step - loss: 16.3655 - accuracy: 0.0979 - val_loss: 28.0989 - val_accuracy: 0.1000 - lr: 39.8107\n",
            "Epoch 94/200\n",
            "1875/1875 [==============================] - 4s 2ms/step - loss: 19.8440 - accuracy: 0.0990 - val_loss: 21.7330 - val_accuracy: 0.1000 - lr: 44.6684\n",
            "Epoch 95/200\n",
            "1875/1875 [==============================] - 5s 3ms/step - loss: 23.2085 - accuracy: 0.1004 - val_loss: 36.0622 - val_accuracy: 0.1000 - lr: 50.1187\n",
            "Epoch 96/200\n",
            "1875/1875 [==============================] - 4s 2ms/step - loss: 27.0437 - accuracy: 0.1015 - val_loss: 34.7926 - val_accuracy: 0.1000 - lr: 56.2341\n",
            "Epoch 97/200\n",
            "1875/1875 [==============================] - 4s 2ms/step - loss: 31.5891 - accuracy: 0.0992 - val_loss: 32.8976 - val_accuracy: 0.1000 - lr: 63.0957\n",
            "Epoch 98/200\n",
            "1875/1875 [==============================] - 5s 2ms/step - loss: 37.1219 - accuracy: 0.0979 - val_loss: 32.2685 - val_accuracy: 0.1000 - lr: 70.7946\n",
            "Epoch 99/200\n",
            "1875/1875 [==============================] - 4s 2ms/step - loss: 41.7125 - accuracy: 0.1010 - val_loss: 34.2239 - val_accuracy: 0.1000 - lr: 79.4328\n",
            "Epoch 100/200\n",
            "1875/1875 [==============================] - 4s 2ms/step - loss: 48.2824 - accuracy: 0.0995 - val_loss: 35.4700 - val_accuracy: 0.1000 - lr: 89.1251\n",
            "Epoch 101/200\n",
            "1875/1875 [==============================] - 4s 2ms/step - loss: 55.3559 - accuracy: 0.1015 - val_loss: 59.3303 - val_accuracy: 0.1000 - lr: 100.0000\n",
            "Epoch 102/200\n",
            "1875/1875 [==============================] - 4s 2ms/step - loss: 62.7483 - accuracy: 0.1003 - val_loss: 78.8454 - val_accuracy: 0.1000 - lr: 112.2018\n",
            "Epoch 103/200\n",
            "1875/1875 [==============================] - 4s 2ms/step - loss: 70.7325 - accuracy: 0.1018 - val_loss: 102.0214 - val_accuracy: 0.1000 - lr: 125.8925\n",
            "Epoch 104/200\n",
            "1875/1875 [==============================] - 4s 2ms/step - loss: 79.5026 - accuracy: 0.0975 - val_loss: 89.3298 - val_accuracy: 0.1000 - lr: 141.2538\n",
            "Epoch 105/200\n",
            "1875/1875 [==============================] - 4s 2ms/step - loss: 90.9294 - accuracy: 0.1008 - val_loss: 95.9666 - val_accuracy: 0.1000 - lr: 158.4893\n",
            "Epoch 106/200\n",
            "1875/1875 [==============================] - 4s 2ms/step - loss: 106.2325 - accuracy: 0.0994 - val_loss: 88.5677 - val_accuracy: 0.1000 - lr: 177.8279\n",
            "Epoch 107/200\n",
            "1875/1875 [==============================] - 4s 2ms/step - loss: 116.5740 - accuracy: 0.0994 - val_loss: 99.9294 - val_accuracy: 0.1000 - lr: 199.5262\n",
            "Epoch 108/200\n",
            "1875/1875 [==============================] - 4s 2ms/step - loss: 133.6955 - accuracy: 0.1014 - val_loss: 96.0048 - val_accuracy: 0.1000 - lr: 223.8721\n",
            "Epoch 109/200\n",
            "1875/1875 [==============================] - 4s 2ms/step - loss: 145.0151 - accuracy: 0.0999 - val_loss: 155.7363 - val_accuracy: 0.1000 - lr: 251.1886\n",
            "Epoch 110/200\n",
            "1875/1875 [==============================] - 4s 2ms/step - loss: 173.4892 - accuracy: 0.1014 - val_loss: 203.1269 - val_accuracy: 0.1000 - lr: 281.8383\n",
            "Epoch 111/200\n",
            "1875/1875 [==============================] - 4s 2ms/step - loss: 193.6019 - accuracy: 0.1001 - val_loss: 169.7871 - val_accuracy: 0.1000 - lr: 316.2278\n",
            "Epoch 112/200\n",
            "1875/1875 [==============================] - 5s 2ms/step - loss: 212.7366 - accuracy: 0.1010 - val_loss: 193.9550 - val_accuracy: 0.1000 - lr: 354.8134\n",
            "Epoch 113/200\n",
            "1875/1875 [==============================] - 4s 2ms/step - loss: 240.9504 - accuracy: 0.1004 - val_loss: 178.3588 - val_accuracy: 0.1000 - lr: 398.1072\n",
            "Epoch 114/200\n",
            "1875/1875 [==============================] - 4s 2ms/step - loss: 271.0419 - accuracy: 0.0988 - val_loss: 338.6975 - val_accuracy: 0.1000 - lr: 446.6836\n",
            "Epoch 115/200\n",
            "1875/1875 [==============================] - 5s 3ms/step - loss: 308.5895 - accuracy: 0.1000 - val_loss: 337.8027 - val_accuracy: 0.1000 - lr: 501.1872\n",
            "Epoch 116/200\n",
            "1875/1875 [==============================] - 4s 2ms/step - loss: 343.3417 - accuracy: 0.1013 - val_loss: 536.6210 - val_accuracy: 0.1000 - lr: 562.3413\n",
            "Epoch 117/200\n",
            "1875/1875 [==============================] - 4s 2ms/step - loss: 396.5625 - accuracy: 0.0994 - val_loss: 364.3158 - val_accuracy: 0.1000 - lr: 630.9573\n",
            "Epoch 118/200\n",
            "1875/1875 [==============================] - 5s 3ms/step - loss: 445.8585 - accuracy: 0.0991 - val_loss: 440.2083 - val_accuracy: 0.1000 - lr: 707.9458\n",
            "Epoch 119/200\n",
            "1875/1875 [==============================] - 4s 2ms/step - loss: 473.4758 - accuracy: 0.1020 - val_loss: 269.4073 - val_accuracy: 0.1000 - lr: 794.3282\n",
            "Epoch 120/200\n",
            "1875/1875 [==============================] - 4s 2ms/step - loss: 559.0009 - accuracy: 0.0998 - val_loss: 482.3383 - val_accuracy: 0.1000 - lr: 891.2509\n",
            "Epoch 121/200\n",
            "1875/1875 [==============================] - 5s 3ms/step - loss: 604.1603 - accuracy: 0.0999 - val_loss: 418.1335 - val_accuracy: 0.1000 - lr: 1000.0000\n",
            "Epoch 122/200\n",
            "1875/1875 [==============================] - 4s 2ms/step - loss: 702.1957 - accuracy: 0.1010 - val_loss: 633.4487 - val_accuracy: 0.1000 - lr: 1122.0184\n",
            "Epoch 123/200\n",
            "1875/1875 [==============================] - 4s 2ms/step - loss: 777.3557 - accuracy: 0.0983 - val_loss: 835.6832 - val_accuracy: 0.1000 - lr: 1258.9254\n",
            "Epoch 124/200\n",
            "1875/1875 [==============================] - 5s 3ms/step - loss: 885.8571 - accuracy: 0.0995 - val_loss: 592.1650 - val_accuracy: 0.1000 - lr: 1412.5376\n",
            "Epoch 125/200\n",
            "1875/1875 [==============================] - 4s 2ms/step - loss: 961.1304 - accuracy: 0.1005 - val_loss: 1331.4407 - val_accuracy: 0.1000 - lr: 1584.8932\n",
            "Epoch 126/200\n",
            "1875/1875 [==============================] - 4s 2ms/step - loss: 1073.4155 - accuracy: 0.1000 - val_loss: 1450.0800 - val_accuracy: 0.1000 - lr: 1778.2794\n",
            "Epoch 127/200\n",
            "1875/1875 [==============================] - 5s 3ms/step - loss: 1264.7983 - accuracy: 0.1003 - val_loss: 1724.5608 - val_accuracy: 0.1000 - lr: 1995.2623\n",
            "Epoch 128/200\n",
            "1875/1875 [==============================] - 4s 2ms/step - loss: 1343.3008 - accuracy: 0.0992 - val_loss: 861.6758 - val_accuracy: 0.1000 - lr: 2238.7212\n",
            "Epoch 129/200\n",
            "1875/1875 [==============================] - 4s 2ms/step - loss: 1544.9363 - accuracy: 0.0973 - val_loss: 1519.6624 - val_accuracy: 0.1000 - lr: 2511.8865\n",
            "Epoch 130/200\n",
            "1875/1875 [==============================] - 5s 3ms/step - loss: 1747.7001 - accuracy: 0.1013 - val_loss: 1568.6263 - val_accuracy: 0.1000 - lr: 2818.3828\n",
            "Epoch 131/200\n",
            "1875/1875 [==============================] - 4s 2ms/step - loss: 1952.5999 - accuracy: 0.1007 - val_loss: 1629.3466 - val_accuracy: 0.1000 - lr: 3162.2776\n",
            "Epoch 132/200\n",
            "1875/1875 [==============================] - 5s 2ms/step - loss: 2218.7434 - accuracy: 0.0990 - val_loss: 1934.0096 - val_accuracy: 0.1000 - lr: 3548.1338\n",
            "Epoch 133/200\n",
            "1875/1875 [==============================] - 4s 2ms/step - loss: 2449.7319 - accuracy: 0.0990 - val_loss: 2600.7141 - val_accuracy: 0.1000 - lr: 3981.0718\n",
            "Epoch 134/200\n",
            "1875/1875 [==============================] - 4s 2ms/step - loss: 2926.7954 - accuracy: 0.0991 - val_loss: 3245.0679 - val_accuracy: 0.1000 - lr: 4466.8359\n",
            "Epoch 135/200\n",
            "1875/1875 [==============================] - 4s 2ms/step - loss: 3081.5378 - accuracy: 0.0995 - val_loss: 4447.9019 - val_accuracy: 0.1000 - lr: 5011.8726\n",
            "Epoch 136/200\n",
            "1875/1875 [==============================] - 4s 2ms/step - loss: 3461.1897 - accuracy: 0.1002 - val_loss: 3298.5415 - val_accuracy: 0.1000 - lr: 5623.4131\n",
            "Epoch 137/200\n",
            "1875/1875 [==============================] - 4s 2ms/step - loss: 3887.3276 - accuracy: 0.1011 - val_loss: 4726.2734 - val_accuracy: 0.1000 - lr: 6309.5732\n",
            "Epoch 138/200\n",
            "1875/1875 [==============================] - 5s 3ms/step - loss: 4566.0352 - accuracy: 0.0983 - val_loss: 4853.0024 - val_accuracy: 0.1000 - lr: 7079.4580\n",
            "Epoch 139/200\n",
            "1875/1875 [==============================] - 4s 2ms/step - loss: 4987.9199 - accuracy: 0.1004 - val_loss: 2782.8262 - val_accuracy: 0.1000 - lr: 7943.2822\n",
            "Epoch 140/200\n",
            "1875/1875 [==============================] - 4s 2ms/step - loss: 5462.6343 - accuracy: 0.1004 - val_loss: 2179.1045 - val_accuracy: 0.1000 - lr: 8912.5098\n",
            "Epoch 141/200\n",
            "1875/1875 [==============================] - 5s 3ms/step - loss: 6034.7793 - accuracy: 0.1009 - val_loss: 5862.1045 - val_accuracy: 0.1000 - lr: 10000.0000\n",
            "Epoch 142/200\n",
            "1875/1875 [==============================] - 4s 2ms/step - loss: 6930.3276 - accuracy: 0.1003 - val_loss: 7850.5034 - val_accuracy: 0.1000 - lr: 11220.1846\n",
            "Epoch 143/200\n",
            "1875/1875 [==============================] - 4s 2ms/step - loss: 7643.1514 - accuracy: 0.0985 - val_loss: 8342.9736 - val_accuracy: 0.1000 - lr: 12589.2539\n",
            "Epoch 144/200\n",
            "1875/1875 [==============================] - 5s 3ms/step - loss: 8697.8271 - accuracy: 0.0982 - val_loss: 8771.4180 - val_accuracy: 0.1000 - lr: 14125.3750\n",
            "Epoch 145/200\n",
            "1875/1875 [==============================] - 4s 2ms/step - loss: 10157.0303 - accuracy: 0.0994 - val_loss: 10367.1172 - val_accuracy: 0.1000 - lr: 15848.9316\n",
            "Epoch 146/200\n",
            "1875/1875 [==============================] - 4s 2ms/step - loss: 10974.8594 - accuracy: 0.1020 - val_loss: 12695.8779 - val_accuracy: 0.1000 - lr: 17782.7949\n",
            "Epoch 147/200\n",
            "1875/1875 [==============================] - 5s 3ms/step - loss: 12627.4424 - accuracy: 0.1000 - val_loss: 15515.9873 - val_accuracy: 0.1000 - lr: 19952.6230\n",
            "Epoch 148/200\n",
            "1875/1875 [==============================] - 4s 2ms/step - loss: 13884.7432 - accuracy: 0.1002 - val_loss: 12942.0000 - val_accuracy: 0.1000 - lr: 22387.2109\n",
            "Epoch 149/200\n",
            "1875/1875 [==============================] - 4s 2ms/step - loss: 15988.7578 - accuracy: 0.0983 - val_loss: 10554.6436 - val_accuracy: 0.1000 - lr: 25118.8652\n",
            "Epoch 150/200\n",
            "1875/1875 [==============================] - 5s 3ms/step - loss: 17947.7539 - accuracy: 0.0999 - val_loss: 21884.8457 - val_accuracy: 0.1000 - lr: 28183.8301\n",
            "Epoch 151/200\n",
            "1875/1875 [==============================] - 4s 2ms/step - loss: 19099.8398 - accuracy: 0.1004 - val_loss: 11731.2520 - val_accuracy: 0.1000 - lr: 31622.7773\n",
            "Epoch 152/200\n",
            "1875/1875 [==============================] - 4s 2ms/step - loss: 22582.9648 - accuracy: 0.1001 - val_loss: 24162.4355 - val_accuracy: 0.1000 - lr: 35481.3398\n",
            "Epoch 153/200\n",
            "1875/1875 [==============================] - 5s 3ms/step - loss: 25560.5488 - accuracy: 0.1027 - val_loss: 27583.5996 - val_accuracy: 0.1000 - lr: 39810.7188\n",
            "Epoch 154/200\n",
            "1875/1875 [==============================] - 4s 2ms/step - loss: 27978.0977 - accuracy: 0.0998 - val_loss: 21509.3281 - val_accuracy: 0.1000 - lr: 44668.3594\n",
            "Epoch 155/200\n",
            "1875/1875 [==============================] - 4s 2ms/step - loss: 30364.8359 - accuracy: 0.0988 - val_loss: 52069.6211 - val_accuracy: 0.1000 - lr: 50118.7227\n",
            "Epoch 156/200\n",
            "1875/1875 [==============================] - 5s 2ms/step - loss: 34348.2227 - accuracy: 0.0983 - val_loss: 32251.1895 - val_accuracy: 0.1000 - lr: 56234.1328\n",
            "Epoch 157/200\n",
            "1875/1875 [==============================] - 4s 2ms/step - loss: 39303.5391 - accuracy: 0.1008 - val_loss: 53464.4688 - val_accuracy: 0.1000 - lr: 63095.7344\n",
            "Epoch 158/200\n",
            "1875/1875 [==============================] - 4s 2ms/step - loss: 44785.7266 - accuracy: 0.1022 - val_loss: 54299.8906 - val_accuracy: 0.1000 - lr: 70794.5781\n",
            "Epoch 159/200\n",
            "1875/1875 [==============================] - 4s 2ms/step - loss: 51676.6406 - accuracy: 0.1006 - val_loss: 38113.4297 - val_accuracy: 0.1000 - lr: 79432.8203\n",
            "Epoch 160/200\n",
            "1875/1875 [==============================] - 4s 2ms/step - loss: 55539.2812 - accuracy: 0.1011 - val_loss: 41157.5469 - val_accuracy: 0.1000 - lr: 89125.0938\n",
            "Epoch 161/200\n",
            "1875/1875 [==============================] - 4s 2ms/step - loss: 63407.1680 - accuracy: 0.1004 - val_loss: 71705.2031 - val_accuracy: 0.1000 - lr: 100000.0000\n",
            "Epoch 162/200\n",
            "1875/1875 [==============================] - 4s 2ms/step - loss: 69039.0234 - accuracy: 0.0999 - val_loss: 81074.7266 - val_accuracy: 0.1000 - lr: 112201.8438\n",
            "Epoch 163/200\n",
            "1875/1875 [==============================] - 4s 2ms/step - loss: 76919.3047 - accuracy: 0.0997 - val_loss: 100695.6641 - val_accuracy: 0.1000 - lr: 125892.5391\n",
            "Epoch 164/200\n",
            "1875/1875 [==============================] - 5s 2ms/step - loss: 92520.1016 - accuracy: 0.1014 - val_loss: 119952.0781 - val_accuracy: 0.1000 - lr: 141253.7500\n",
            "Epoch 165/200\n",
            "1875/1875 [==============================] - 4s 2ms/step - loss: 102279.2109 - accuracy: 0.0991 - val_loss: 124502.0156 - val_accuracy: 0.1000 - lr: 158489.3125\n",
            "Epoch 166/200\n",
            "1875/1875 [==============================] - 4s 2ms/step - loss: 109676.6797 - accuracy: 0.1016 - val_loss: 130541.5547 - val_accuracy: 0.1000 - lr: 177827.9375\n",
            "Epoch 167/200\n",
            "1875/1875 [==============================] - 5s 2ms/step - loss: 124343.5234 - accuracy: 0.1009 - val_loss: 146177.8438 - val_accuracy: 0.1000 - lr: 199526.2344\n",
            "Epoch 168/200\n",
            "1875/1875 [==============================] - 4s 2ms/step - loss: 135902.2031 - accuracy: 0.1006 - val_loss: 122756.1484 - val_accuracy: 0.1000 - lr: 223872.1094\n",
            "Epoch 169/200\n",
            "1875/1875 [==============================] - 4s 2ms/step - loss: 154675.6562 - accuracy: 0.1010 - val_loss: 211697.2344 - val_accuracy: 0.1000 - lr: 251188.6406\n",
            "Epoch 170/200\n",
            "1875/1875 [==============================] - 5s 3ms/step - loss: 175527.6406 - accuracy: 0.0978 - val_loss: 153387.7031 - val_accuracy: 0.1000 - lr: 281838.2812\n",
            "Epoch 171/200\n",
            "1875/1875 [==============================] - 4s 2ms/step - loss: 202416.3438 - accuracy: 0.1008 - val_loss: 168982.7656 - val_accuracy: 0.1000 - lr: 316227.7812\n",
            "Epoch 172/200\n",
            "1875/1875 [==============================] - 4s 2ms/step - loss: 222070.8906 - accuracy: 0.0977 - val_loss: 290602.2188 - val_accuracy: 0.1000 - lr: 354813.3750\n",
            "Epoch 173/200\n",
            "1875/1875 [==============================] - 5s 3ms/step - loss: 249855.3750 - accuracy: 0.1005 - val_loss: 221682.9375 - val_accuracy: 0.1000 - lr: 398107.1562\n",
            "Epoch 174/200\n",
            "1875/1875 [==============================] - 4s 2ms/step - loss: 274023.8125 - accuracy: 0.1005 - val_loss: 371601.8438 - val_accuracy: 0.1000 - lr: 446683.5938\n",
            "Epoch 175/200\n",
            "1875/1875 [==============================] - 4s 2ms/step - loss: 315639.9062 - accuracy: 0.0987 - val_loss: 245939.5312 - val_accuracy: 0.1000 - lr: 501187.2188\n",
            "Epoch 176/200\n",
            "1875/1875 [==============================] - 5s 3ms/step - loss: 356353.5000 - accuracy: 0.0996 - val_loss: 402111.8438 - val_accuracy: 0.1000 - lr: 562341.3125\n",
            "Epoch 177/200\n",
            "1875/1875 [==============================] - 4s 2ms/step - loss: 394492.2188 - accuracy: 0.0998 - val_loss: 317719.5000 - val_accuracy: 0.1000 - lr: 630957.3750\n",
            "Epoch 178/200\n",
            "1875/1875 [==============================] - 4s 2ms/step - loss: 451441.0938 - accuracy: 0.1016 - val_loss: 782710.2500 - val_accuracy: 0.1000 - lr: 707945.8125\n",
            "Epoch 179/200\n",
            "1875/1875 [==============================] - 5s 3ms/step - loss: 497332.9375 - accuracy: 0.1006 - val_loss: 412392.0000 - val_accuracy: 0.1000 - lr: 794328.2500\n",
            "Epoch 180/200\n",
            "1875/1875 [==============================] - 4s 2ms/step - loss: 567799.3750 - accuracy: 0.1032 - val_loss: 602417.0000 - val_accuracy: 0.1000 - lr: 891250.9375\n",
            "Epoch 181/200\n",
            "1875/1875 [==============================] - 4s 2ms/step - loss: 620194.5625 - accuracy: 0.0987 - val_loss: 504919.1875 - val_accuracy: 0.1000 - lr: 1000000.0000\n",
            "Epoch 182/200\n",
            "1875/1875 [==============================] - 5s 3ms/step - loss: 711842.0000 - accuracy: 0.0994 - val_loss: 593340.6875 - val_accuracy: 0.1000 - lr: 1122018.5000\n",
            "Epoch 183/200\n",
            "1875/1875 [==============================] - 4s 2ms/step - loss: 763488.1250 - accuracy: 0.0999 - val_loss: 430688.4062 - val_accuracy: 0.1000 - lr: 1258925.3750\n",
            "Epoch 184/200\n",
            "1875/1875 [==============================] - 4s 2ms/step - loss: 832210.6250 - accuracy: 0.1007 - val_loss: 570222.0000 - val_accuracy: 0.1000 - lr: 1412537.5000\n",
            "Epoch 185/200\n",
            "1875/1875 [==============================] - 5s 3ms/step - loss: 1003699.8750 - accuracy: 0.0994 - val_loss: 1112222.5000 - val_accuracy: 0.1000 - lr: 1584893.2500\n",
            "Epoch 186/200\n",
            "1875/1875 [==============================] - 4s 2ms/step - loss: 1135284.8750 - accuracy: 0.1001 - val_loss: 842471.8125 - val_accuracy: 0.1000 - lr: 1778279.3750\n",
            "Epoch 187/200\n",
            "1875/1875 [==============================] - 4s 2ms/step - loss: 1288810.0000 - accuracy: 0.0995 - val_loss: 1331261.5000 - val_accuracy: 0.1000 - lr: 1995262.3750\n",
            "Epoch 188/200\n",
            "1875/1875 [==============================] - 5s 3ms/step - loss: 1457761.2500 - accuracy: 0.0983 - val_loss: 854457.6875 - val_accuracy: 0.1000 - lr: 2238721.2500\n",
            "Epoch 189/200\n",
            "1875/1875 [==============================] - 4s 2ms/step - loss: 1557606.1250 - accuracy: 0.0984 - val_loss: 1443210.3750 - val_accuracy: 0.1000 - lr: 2511886.5000\n",
            "Epoch 190/200\n",
            "1875/1875 [==============================] - 4s 2ms/step - loss: 1804739.2500 - accuracy: 0.0996 - val_loss: 1537518.5000 - val_accuracy: 0.1000 - lr: 2818383.0000\n",
            "Epoch 191/200\n",
            "1875/1875 [==============================] - 5s 3ms/step - loss: 1964422.7500 - accuracy: 0.0978 - val_loss: 2233043.7500 - val_accuracy: 0.1000 - lr: 3162277.7500\n",
            "Epoch 192/200\n",
            "1875/1875 [==============================] - 4s 2ms/step - loss: 2206805.7500 - accuracy: 0.0987 - val_loss: 2248233.7500 - val_accuracy: 0.1000 - lr: 3548134.0000\n",
            "Epoch 193/200\n",
            "1875/1875 [==============================] - 4s 2ms/step - loss: 2532866.5000 - accuracy: 0.1014 - val_loss: 2176116.5000 - val_accuracy: 0.1000 - lr: 3981071.7500\n",
            "Epoch 194/200\n",
            "1875/1875 [==============================] - 5s 3ms/step - loss: 2888295.0000 - accuracy: 0.0994 - val_loss: 4430965.5000 - val_accuracy: 0.1000 - lr: 4466836.0000\n",
            "Epoch 195/200\n",
            "1875/1875 [==============================] - 4s 2ms/step - loss: 3214111.5000 - accuracy: 0.0986 - val_loss: 2556467.5000 - val_accuracy: 0.1000 - lr: 5011872.5000\n",
            "Epoch 196/200\n",
            "1875/1875 [==============================] - 5s 3ms/step - loss: 3536899.5000 - accuracy: 0.1003 - val_loss: 3158016.5000 - val_accuracy: 0.1000 - lr: 5623413.5000\n",
            "Epoch 197/200\n",
            "1875/1875 [==============================] - 4s 2ms/step - loss: 3988144.5000 - accuracy: 0.0969 - val_loss: 3879155.7500 - val_accuracy: 0.1000 - lr: 6309573.5000\n",
            "Epoch 198/200\n",
            "1875/1875 [==============================] - 4s 2ms/step - loss: 4532096.5000 - accuracy: 0.1006 - val_loss: 4177238.7500 - val_accuracy: 0.1000 - lr: 7079458.0000\n",
            "Epoch 199/200\n",
            "1875/1875 [==============================] - 5s 3ms/step - loss: 4962274.0000 - accuracy: 0.1006 - val_loss: 4566275.5000 - val_accuracy: 0.1000 - lr: 7943282.5000\n",
            "Epoch 200/200\n",
            "1875/1875 [==============================] - 4s 2ms/step - loss: 5711068.0000 - accuracy: 0.1016 - val_loss: 3505153.7500 - val_accuracy: 0.1000 - lr: 8912509.0000\n"
          ]
        }
      ]
    },
    {
      "cell_type": "code",
      "source": [
        "# understand history\n",
        "pd.DataFrame(history_2.history).describe()"
      ],
      "metadata": {
        "colab": {
          "base_uri": "https://localhost:8080/",
          "height": 300
        },
        "id": "NPNPwe-_yYr6",
        "outputId": "bfaab1e3-7ee1-428b-9b0f-745865c12840"
      },
      "execution_count": null,
      "outputs": [
        {
          "output_type": "execute_result",
          "data": {
            "text/plain": [
              "               loss    accuracy      val_loss  val_accuracy            lr\n",
              "count  2.000000e+02  200.000000  2.000000e+02    200.000000  2.000000e+02\n",
              "mean   2.593065e+05    0.226289  2.387411e+05      0.222408  4.097741e+05\n",
              "std    8.448191e+05    0.258261  7.671840e+05      0.254024  1.331166e+06\n",
              "min    5.318445e-01    0.096883  5.495196e-01      0.100000  1.000000e-03\n",
              "25%    2.340715e+00    0.099392  2.347708e+00      0.100000  3.076304e-01\n",
              "50%    5.181914e+01    0.100417  4.769625e+01      0.100000  9.456255e+01\n",
              "75%    1.823578e+04    0.101796  1.701432e+04      0.100000  2.904357e+04\n",
              "max    5.711068e+06    0.814550  4.566276e+06      0.810000  8.912509e+06"
            ],
            "text/html": [
              "\n",
              "  <div id=\"df-b7b0eb5b-5480-4ced-9c8a-081ec9b47bfe\" class=\"colab-df-container\">\n",
              "    <div>\n",
              "<style scoped>\n",
              "    .dataframe tbody tr th:only-of-type {\n",
              "        vertical-align: middle;\n",
              "    }\n",
              "\n",
              "    .dataframe tbody tr th {\n",
              "        vertical-align: top;\n",
              "    }\n",
              "\n",
              "    .dataframe thead th {\n",
              "        text-align: right;\n",
              "    }\n",
              "</style>\n",
              "<table border=\"1\" class=\"dataframe\">\n",
              "  <thead>\n",
              "    <tr style=\"text-align: right;\">\n",
              "      <th></th>\n",
              "      <th>loss</th>\n",
              "      <th>accuracy</th>\n",
              "      <th>val_loss</th>\n",
              "      <th>val_accuracy</th>\n",
              "      <th>lr</th>\n",
              "    </tr>\n",
              "  </thead>\n",
              "  <tbody>\n",
              "    <tr>\n",
              "      <th>count</th>\n",
              "      <td>2.000000e+02</td>\n",
              "      <td>200.000000</td>\n",
              "      <td>2.000000e+02</td>\n",
              "      <td>200.000000</td>\n",
              "      <td>2.000000e+02</td>\n",
              "    </tr>\n",
              "    <tr>\n",
              "      <th>mean</th>\n",
              "      <td>2.593065e+05</td>\n",
              "      <td>0.226289</td>\n",
              "      <td>2.387411e+05</td>\n",
              "      <td>0.222408</td>\n",
              "      <td>4.097741e+05</td>\n",
              "    </tr>\n",
              "    <tr>\n",
              "      <th>std</th>\n",
              "      <td>8.448191e+05</td>\n",
              "      <td>0.258261</td>\n",
              "      <td>7.671840e+05</td>\n",
              "      <td>0.254024</td>\n",
              "      <td>1.331166e+06</td>\n",
              "    </tr>\n",
              "    <tr>\n",
              "      <th>min</th>\n",
              "      <td>5.318445e-01</td>\n",
              "      <td>0.096883</td>\n",
              "      <td>5.495196e-01</td>\n",
              "      <td>0.100000</td>\n",
              "      <td>1.000000e-03</td>\n",
              "    </tr>\n",
              "    <tr>\n",
              "      <th>25%</th>\n",
              "      <td>2.340715e+00</td>\n",
              "      <td>0.099392</td>\n",
              "      <td>2.347708e+00</td>\n",
              "      <td>0.100000</td>\n",
              "      <td>3.076304e-01</td>\n",
              "    </tr>\n",
              "    <tr>\n",
              "      <th>50%</th>\n",
              "      <td>5.181914e+01</td>\n",
              "      <td>0.100417</td>\n",
              "      <td>4.769625e+01</td>\n",
              "      <td>0.100000</td>\n",
              "      <td>9.456255e+01</td>\n",
              "    </tr>\n",
              "    <tr>\n",
              "      <th>75%</th>\n",
              "      <td>1.823578e+04</td>\n",
              "      <td>0.101796</td>\n",
              "      <td>1.701432e+04</td>\n",
              "      <td>0.100000</td>\n",
              "      <td>2.904357e+04</td>\n",
              "    </tr>\n",
              "    <tr>\n",
              "      <th>max</th>\n",
              "      <td>5.711068e+06</td>\n",
              "      <td>0.814550</td>\n",
              "      <td>4.566276e+06</td>\n",
              "      <td>0.810000</td>\n",
              "      <td>8.912509e+06</td>\n",
              "    </tr>\n",
              "  </tbody>\n",
              "</table>\n",
              "</div>\n",
              "    <div class=\"colab-df-buttons\">\n",
              "\n",
              "  <div class=\"colab-df-container\">\n",
              "    <button class=\"colab-df-convert\" onclick=\"convertToInteractive('df-b7b0eb5b-5480-4ced-9c8a-081ec9b47bfe')\"\n",
              "            title=\"Convert this dataframe to an interactive table.\"\n",
              "            style=\"display:none;\">\n",
              "\n",
              "  <svg xmlns=\"http://www.w3.org/2000/svg\" height=\"24px\" viewBox=\"0 -960 960 960\">\n",
              "    <path d=\"M120-120v-720h720v720H120Zm60-500h600v-160H180v160Zm220 220h160v-160H400v160Zm0 220h160v-160H400v160ZM180-400h160v-160H180v160Zm440 0h160v-160H620v160ZM180-180h160v-160H180v160Zm440 0h160v-160H620v160Z\"/>\n",
              "  </svg>\n",
              "    </button>\n",
              "\n",
              "  <style>\n",
              "    .colab-df-container {\n",
              "      display:flex;\n",
              "      gap: 12px;\n",
              "    }\n",
              "\n",
              "    .colab-df-convert {\n",
              "      background-color: #E8F0FE;\n",
              "      border: none;\n",
              "      border-radius: 50%;\n",
              "      cursor: pointer;\n",
              "      display: none;\n",
              "      fill: #1967D2;\n",
              "      height: 32px;\n",
              "      padding: 0 0 0 0;\n",
              "      width: 32px;\n",
              "    }\n",
              "\n",
              "    .colab-df-convert:hover {\n",
              "      background-color: #E2EBFA;\n",
              "      box-shadow: 0px 1px 2px rgba(60, 64, 67, 0.3), 0px 1px 3px 1px rgba(60, 64, 67, 0.15);\n",
              "      fill: #174EA6;\n",
              "    }\n",
              "\n",
              "    .colab-df-buttons div {\n",
              "      margin-bottom: 4px;\n",
              "    }\n",
              "\n",
              "    [theme=dark] .colab-df-convert {\n",
              "      background-color: #3B4455;\n",
              "      fill: #D2E3FC;\n",
              "    }\n",
              "\n",
              "    [theme=dark] .colab-df-convert:hover {\n",
              "      background-color: #434B5C;\n",
              "      box-shadow: 0px 1px 3px 1px rgba(0, 0, 0, 0.15);\n",
              "      filter: drop-shadow(0px 1px 2px rgba(0, 0, 0, 0.3));\n",
              "      fill: #FFFFFF;\n",
              "    }\n",
              "  </style>\n",
              "\n",
              "    <script>\n",
              "      const buttonEl =\n",
              "        document.querySelector('#df-b7b0eb5b-5480-4ced-9c8a-081ec9b47bfe button.colab-df-convert');\n",
              "      buttonEl.style.display =\n",
              "        google.colab.kernel.accessAllowed ? 'block' : 'none';\n",
              "\n",
              "      async function convertToInteractive(key) {\n",
              "        const element = document.querySelector('#df-b7b0eb5b-5480-4ced-9c8a-081ec9b47bfe');\n",
              "        const dataTable =\n",
              "          await google.colab.kernel.invokeFunction('convertToInteractive',\n",
              "                                                    [key], {});\n",
              "        if (!dataTable) return;\n",
              "\n",
              "        const docLinkHtml = 'Like what you see? Visit the ' +\n",
              "          '<a target=\"_blank\" href=https://colab.research.google.com/notebooks/data_table.ipynb>data table notebook</a>'\n",
              "          + ' to learn more about interactive tables.';\n",
              "        element.innerHTML = '';\n",
              "        dataTable['output_type'] = 'display_data';\n",
              "        await google.colab.output.renderOutput(dataTable, element);\n",
              "        const docLink = document.createElement('div');\n",
              "        docLink.innerHTML = docLinkHtml;\n",
              "        element.appendChild(docLink);\n",
              "      }\n",
              "    </script>\n",
              "  </div>\n",
              "\n",
              "\n",
              "<div id=\"df-af780003-f416-41b4-83d2-86aa9efb5cbb\">\n",
              "  <button class=\"colab-df-quickchart\" onclick=\"quickchart('df-af780003-f416-41b4-83d2-86aa9efb5cbb')\"\n",
              "            title=\"Suggest charts\"\n",
              "            style=\"display:none;\">\n",
              "\n",
              "<svg xmlns=\"http://www.w3.org/2000/svg\" height=\"24px\"viewBox=\"0 0 24 24\"\n",
              "     width=\"24px\">\n",
              "    <g>\n",
              "        <path d=\"M19 3H5c-1.1 0-2 .9-2 2v14c0 1.1.9 2 2 2h14c1.1 0 2-.9 2-2V5c0-1.1-.9-2-2-2zM9 17H7v-7h2v7zm4 0h-2V7h2v10zm4 0h-2v-4h2v4z\"/>\n",
              "    </g>\n",
              "</svg>\n",
              "  </button>\n",
              "\n",
              "<style>\n",
              "  .colab-df-quickchart {\n",
              "      --bg-color: #E8F0FE;\n",
              "      --fill-color: #1967D2;\n",
              "      --hover-bg-color: #E2EBFA;\n",
              "      --hover-fill-color: #174EA6;\n",
              "      --disabled-fill-color: #AAA;\n",
              "      --disabled-bg-color: #DDD;\n",
              "  }\n",
              "\n",
              "  [theme=dark] .colab-df-quickchart {\n",
              "      --bg-color: #3B4455;\n",
              "      --fill-color: #D2E3FC;\n",
              "      --hover-bg-color: #434B5C;\n",
              "      --hover-fill-color: #FFFFFF;\n",
              "      --disabled-bg-color: #3B4455;\n",
              "      --disabled-fill-color: #666;\n",
              "  }\n",
              "\n",
              "  .colab-df-quickchart {\n",
              "    background-color: var(--bg-color);\n",
              "    border: none;\n",
              "    border-radius: 50%;\n",
              "    cursor: pointer;\n",
              "    display: none;\n",
              "    fill: var(--fill-color);\n",
              "    height: 32px;\n",
              "    padding: 0;\n",
              "    width: 32px;\n",
              "  }\n",
              "\n",
              "  .colab-df-quickchart:hover {\n",
              "    background-color: var(--hover-bg-color);\n",
              "    box-shadow: 0 1px 2px rgba(60, 64, 67, 0.3), 0 1px 3px 1px rgba(60, 64, 67, 0.15);\n",
              "    fill: var(--button-hover-fill-color);\n",
              "  }\n",
              "\n",
              "  .colab-df-quickchart-complete:disabled,\n",
              "  .colab-df-quickchart-complete:disabled:hover {\n",
              "    background-color: var(--disabled-bg-color);\n",
              "    fill: var(--disabled-fill-color);\n",
              "    box-shadow: none;\n",
              "  }\n",
              "\n",
              "  .colab-df-spinner {\n",
              "    border: 2px solid var(--fill-color);\n",
              "    border-color: transparent;\n",
              "    border-bottom-color: var(--fill-color);\n",
              "    animation:\n",
              "      spin 1s steps(1) infinite;\n",
              "  }\n",
              "\n",
              "  @keyframes spin {\n",
              "    0% {\n",
              "      border-color: transparent;\n",
              "      border-bottom-color: var(--fill-color);\n",
              "      border-left-color: var(--fill-color);\n",
              "    }\n",
              "    20% {\n",
              "      border-color: transparent;\n",
              "      border-left-color: var(--fill-color);\n",
              "      border-top-color: var(--fill-color);\n",
              "    }\n",
              "    30% {\n",
              "      border-color: transparent;\n",
              "      border-left-color: var(--fill-color);\n",
              "      border-top-color: var(--fill-color);\n",
              "      border-right-color: var(--fill-color);\n",
              "    }\n",
              "    40% {\n",
              "      border-color: transparent;\n",
              "      border-right-color: var(--fill-color);\n",
              "      border-top-color: var(--fill-color);\n",
              "    }\n",
              "    60% {\n",
              "      border-color: transparent;\n",
              "      border-right-color: var(--fill-color);\n",
              "    }\n",
              "    80% {\n",
              "      border-color: transparent;\n",
              "      border-right-color: var(--fill-color);\n",
              "      border-bottom-color: var(--fill-color);\n",
              "    }\n",
              "    90% {\n",
              "      border-color: transparent;\n",
              "      border-bottom-color: var(--fill-color);\n",
              "    }\n",
              "  }\n",
              "</style>\n",
              "\n",
              "  <script>\n",
              "    async function quickchart(key) {\n",
              "      const quickchartButtonEl =\n",
              "        document.querySelector('#' + key + ' button');\n",
              "      quickchartButtonEl.disabled = true;  // To prevent multiple clicks.\n",
              "      quickchartButtonEl.classList.add('colab-df-spinner');\n",
              "      try {\n",
              "        const charts = await google.colab.kernel.invokeFunction(\n",
              "            'suggestCharts', [key], {});\n",
              "      } catch (error) {\n",
              "        console.error('Error during call to suggestCharts:', error);\n",
              "      }\n",
              "      quickchartButtonEl.classList.remove('colab-df-spinner');\n",
              "      quickchartButtonEl.classList.add('colab-df-quickchart-complete');\n",
              "    }\n",
              "    (() => {\n",
              "      let quickchartButtonEl =\n",
              "        document.querySelector('#df-af780003-f416-41b4-83d2-86aa9efb5cbb button');\n",
              "      quickchartButtonEl.style.display =\n",
              "        google.colab.kernel.accessAllowed ? 'block' : 'none';\n",
              "    })();\n",
              "  </script>\n",
              "</div>\n",
              "\n",
              "    </div>\n",
              "  </div>\n"
            ]
          },
          "metadata": {},
          "execution_count": 23
        }
      ]
    },
    {
      "cell_type": "code",
      "source": [
        "# plot the learning rate curve with validato nad test data\n",
        "lr = 1e-3*(10**(np.arange(200)/20))\n",
        "plt.semilogx(history_2.history['loss'])\n",
        "plt.xlabel(\"Learning rate\")\n",
        "plt.ylabel(\"Loss\")"
      ],
      "metadata": {
        "colab": {
          "base_uri": "https://localhost:8080/",
          "height": 487
        },
        "id": "1O27cHEKwtXR",
        "outputId": "6ba1dfee-6b4f-4954-ba60-6289f9388707"
      },
      "execution_count": null,
      "outputs": [
        {
          "output_type": "execute_result",
          "data": {
            "text/plain": [
              "Text(0, 0.5, 'Loss')"
            ]
          },
          "metadata": {},
          "execution_count": 26
        },
        {
          "output_type": "display_data",
          "data": {
            "text/plain": [
              "<Figure size 640x480 with 1 Axes>"
            ],
            "image/png": "[encoded data removed]"
          },
          "metadata": {}
        }
      ]
    },
    {
      "cell_type": "code",
      "source": [],
      "metadata": {
        "id": "VPS_AO6heqdL"
      },
      "execution_count": null,
      "outputs": []
    },
    {
      "cell_type": "code",
      "source": [],
      "metadata": {
        "id": "HxeDuQlgeGR9"
      },
      "execution_count": null,
      "outputs": []
    },
    {
      "cell_type": "code",
      "source": [],
      "metadata": {
        "id": "I0MBL_KvTndf"
      },
      "execution_count": null,
      "outputs": []
    },
    {
      "cell_type": "code",
      "source": [],
      "metadata": {
        "id": "EyhNwbszSNBu"
      },
      "execution_count": null,
      "outputs": []
    },
    {
      "cell_type": "code",
      "source": [],
      "metadata": {
        "id": "HJZ3tLymSNJA"
      },
      "execution_count": null,
      "outputs": []
    }
  ]
}