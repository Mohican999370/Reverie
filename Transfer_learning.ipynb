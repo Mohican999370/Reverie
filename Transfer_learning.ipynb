{
  "nbformat": 4,
  "nbformat_minor": 0,
  "metadata": {
    "colab": {
      "provenance": [],
      "authorship_tag": "ABX9TyMP/EvB/gjJBMViITqFdd5d",
      "include_colab_link": true
    },
    "kernelspec": {
      "name": "python3",
      "display_name": "Python 3"
    },
    "language_info": {
      "name": "python"
    }
  },
  "cells": [
    {
      "cell_type": "markdown",
      "metadata": {
        "id": "view-in-github",
        "colab_type": "text"
      },
      "source": [
        "<a href=\"https://colab.research.google.com/github/Mohican999370/Reverie/blob/master/Transfer_learning.ipynb\" target=\"_parent\"><img src=\"https://colab.research.google.com/assets/colab-badge.svg\" alt=\"Open In Colab\"/></a>"
      ]
    },
    {
      "cell_type": "code",
      "execution_count": 1,
      "metadata": {
        "colab": {
          "base_uri": "https://localhost:8080/"
        },
        "id": "DKvWnY5hl62H",
        "outputId": "89cc1a55-0854-4a77-b6fa-58ae27ce4852"
      },
      "outputs": [
        {
          "output_type": "stream",
          "name": "stdout",
          "text": [
            "the date now is 2024-02-28 06:08:50.984798\n"
          ]
        }
      ],
      "source": [
        "import datetime\n",
        "print(f'the date now is {datetime.datetime.now()}')"
      ]
    },
    {
      "cell_type": "code",
      "source": [
        "#!nvidia-smi\n"
      ],
      "metadata": {
        "id": "GAl6Ifc274wo"
      },
      "execution_count": 2,
      "outputs": []
    },
    {
      "cell_type": "code",
      "source": [
        "### download food file and export it to directory\n",
        "!wget https://storage.googleapis.com/ztm_tf_course/food_vision/10_food_classes_10_percent.zip\n"
      ],
      "metadata": {
        "colab": {
          "base_uri": "https://localhost:8080/"
        },
        "id": "rBSy_43yQQZ4",
        "outputId": "f52dbb96-02ec-43e3-d355-d3f351cfe811"
      },
      "execution_count": 8,
      "outputs": [
        {
          "output_type": "stream",
          "name": "stdout",
          "text": [
            "--2024-02-28 19:21:52--  https://storage.googleapis.com/ztm_tf_course/food_vision/10_food_classes_10_percent.zip\n",
            "Resolving storage.googleapis.com (storage.googleapis.com)... 74.125.197.207, 74.125.135.207, 173.194.202.207, ...\n",
            "Connecting to storage.googleapis.com (storage.googleapis.com)|74.125.197.207|:443... connected.\n",
            "HTTP request sent, awaiting response... 200 OK\n",
            "Length: 168546183 (161M) [application/zip]\n",
            "Saving to: ‘10_food_classes_10_percent.zip’\n",
            "\n",
            "10_food_classes_10_ 100%[===================>] 160.74M   143MB/s    in 1.1s    \n",
            "\n",
            "2024-02-28 19:21:53 (143 MB/s) - ‘10_food_classes_10_percent.zip’ saved [168546183/168546183]\n",
            "\n"
          ]
        }
      ]
    },
    {
      "cell_type": "code",
      "source": [
        "import zipfile\n",
        "zip_ref = zipfile.ZipFile('10_food_classes_10_percent.zip')\n",
        "zip_ref.extractall()\n",
        "zip_ref.close()"
      ],
      "metadata": {
        "id": "ugjwDHOqQau4"
      },
      "execution_count": 9,
      "outputs": []
    },
    {
      "cell_type": "code",
      "source": [
        "!ls 10_food_classes_10_percent/test"
      ],
      "metadata": {
        "colab": {
          "base_uri": "https://localhost:8080/"
        },
        "id": "2T-CkUIoQQbO",
        "outputId": "5496e5fd-7821-4c1b-99bb-5bbee239424c"
      },
      "execution_count": 10,
      "outputs": [
        {
          "output_type": "stream",
          "name": "stdout",
          "text": [
            "chicken_curry  fried_rice      hamburger  pizza  steak\n",
            "chicken_wings  grilled_salmon  ice_cream  ramen  sushi\n"
          ]
        }
      ]
    },
    {
      "cell_type": "code",
      "source": [
        "# observe the dataset by walking over the length of dir\n",
        "import os\n",
        "for dirnames,dirpath,filename in os.walk('10_food_classes_10_percent'):\n",
        "  print(f'the directory size: {len(dirnames)} with number of images: {len(filename)}' )\n"
      ],
      "metadata": {
        "colab": {
          "base_uri": "https://localhost:8080/"
        },
        "id": "A8-fxE5JRAhZ",
        "outputId": "ca1aad47-4fa7-4642-be53-dfc252e9685f"
      },
      "execution_count": 11,
      "outputs": [
        {
          "output_type": "stream",
          "name": "stdout",
          "text": [
            "the directory size: 26 with number of images: 0\n",
            "the directory size: 31 with number of images: 0\n",
            "the directory size: 37 with number of images: 250\n",
            "the directory size: 45 with number of images: 250\n",
            "the directory size: 37 with number of images: 250\n",
            "the directory size: 41 with number of images: 250\n",
            "the directory size: 45 with number of images: 250\n",
            "the directory size: 42 with number of images: 250\n",
            "the directory size: 37 with number of images: 250\n",
            "the directory size: 37 with number of images: 250\n",
            "the directory size: 41 with number of images: 250\n",
            "the directory size: 46 with number of images: 250\n",
            "the directory size: 32 with number of images: 0\n",
            "the directory size: 38 with number of images: 75\n",
            "the directory size: 46 with number of images: 75\n",
            "the directory size: 38 with number of images: 75\n",
            "the directory size: 42 with number of images: 75\n",
            "the directory size: 46 with number of images: 75\n",
            "the directory size: 43 with number of images: 75\n",
            "the directory size: 38 with number of images: 75\n",
            "the directory size: 38 with number of images: 75\n",
            "the directory size: 42 with number of images: 75\n",
            "the directory size: 47 with number of images: 75\n"
          ]
        }
      ]
    },
    {
      "cell_type": "code",
      "source": [
        "\"\"\" image processing and image resizing \"\"\"\n",
        "\n",
        "import matplotlib.pyplot as plt\n",
        "import matplotlib.image as mpimg\n",
        "from tensorflow.keras.preprocessing.image import ImageDataGenerator\n",
        "\n",
        "train_dir = '10_food_classes_10_percent/train'\n",
        "test_dir = '10_food_classes_10_percent/test'\n",
        "\n",
        "\n",
        "train_data_gen = ImageDataGenerator(rescale = 1./255 )\n",
        "test_data_gen = ImageDataGenerator(rescale = 1./255)\n",
        "Image_shape =(224,224)\n",
        "batch_size =32\n",
        "\n",
        "\n",
        "train_data_10_percent = train_data_gen.flow_from_directory(train_dir,\n",
        "                                                target_size = (224,224),\n",
        "                                                batch_size =32,\n",
        "                                                class_mode = 'categorical',\n",
        "                                                seed = 42)\n",
        "\n",
        "test_data_10_percent = test_data_gen.flow_from_directory(test_dir,\n",
        "                                              target_size =(224,224),\n",
        "                                              batch_size = 32,\n",
        "                                              class_mode ='categorical',\n",
        "                                              seed = 42)\n"
      ],
      "metadata": {
        "colab": {
          "base_uri": "https://localhost:8080/"
        },
        "id": "pR3iSTFgRAi-",
        "outputId": "5d2d44f3-b9b6-4aac-9276-992b00b66e70"
      },
      "execution_count": 7,
      "outputs": [
        {
          "output_type": "stream",
          "name": "stdout",
          "text": [
            "Found 750 images belonging to 10 classes.\n",
            "Found 2500 images belonging to 10 classes.\n"
          ]
        }
      ]
    },
    {
      "cell_type": "markdown",
      "source": [
        "callbacks:\n",
        "# **1) experimental tracking with tensor board:**\n",
        "###checking multiple models at the same time and then usually using tensorboard\n",
        "\n",
        "# 2) Model checkpointing:\n",
        "###stopping the model when you can ans starting from where you left off.\n",
        "\n",
        "# 3) **early stopping **\n",
        "\n",
        "### leaving the model for arbitary amount of time and have it stop traing automatically.\n",
        "\n",
        "\n",
        "\n"
      ],
      "metadata": {
        "id": "-7w6PH6x-amV"
      }
    },
    {
      "cell_type": "code",
      "source": [
        "# create tensorboard callback, we are making function, since its used\n",
        "#while using callbacks everytime.\n",
        "import datetime\n",
        "import tensorflow as tf\n",
        "\n",
        "def create_tensorboard_callback(dir_name,experiment_name):\n",
        "  log_dir = dir_name +\"/\"+experiment_name +\"/\" + datetime.datetime.now().strftime(\"%Y%m%d-%H%S%M\")\n",
        "  tensorboard_callback = tf.keras.callbacks.TensorBoard(\n",
        "      log_dir =log_dir\n",
        "  )\n",
        "  print(f'Saving TensorBoard log files to :{log_dir}')\n",
        "  return tensorboard_callback\n",
        "\n",
        "\n",
        "  ### our function saves the models performance in the lof_dir\n"
      ],
      "metadata": {
        "id": "qRmJsQbARAn-"
      },
      "execution_count": 8,
      "outputs": []
    },
    {
      "cell_type": "code",
      "source": [
        "# create callbacks\n",
        "\n",
        "import datetime\n",
        "import tensorflow as tf\n",
        "def callback_logs(dir_names, experiment_name):\n",
        "  log_dir = dir_names + \"/\"+ experiment_name +\"/\"+ datetime.datetime.now().strftime(\"%Y%m%d-%H%M%S\")\n",
        "  tensorboard_callback = tf.keras.callbacks.TensorBoard(\n",
        "      log_dir =log_dir\n",
        "  )\n",
        "  print(f'the time of the last callback is {log_dir}')\n",
        "  return tensorboard_callback\n"
      ],
      "metadata": {
        "id": "u-qkX7TAjJnl"
      },
      "execution_count": 9,
      "outputs": []
    },
    {
      "cell_type": "code",
      "source": [
        "## the models with better architectue can be used to impprove our model, by using\n",
        "## some or most of the code.\n",
        "#url\n",
        "\n",
        "\n",
        "# Resnet 50 V2 feature vector\n",
        "resnet_url = \"https://tfhub.dev/google/imagenet/resnet_v2_50/feature_vector/4\"\n",
        "\n",
        "# Original: EfficientNetB0 feature vector (version 1)\n",
        "efficientnet_url = \"https://tfhub.dev/tensorflow/efficientnet/b0/feature-vector/1\"\n",
        "\n",
        "# # New: EfficientNetB0 feature vector (version 2)\n",
        "# efficientnet_url = \"https://tfhub.dev/google/imagenet/efficientnet_v2_imagenet1k_b0/feature_vector/2\"\n",
        "\n",
        "\n",
        "\n",
        "###model creation\n",
        "from tensorflow.keras.layers import Dense, Flatten, Conv2D, MaxPool2D\n",
        "from tensorflow.keras.optimizers import Adam\n",
        "from tensorflow.keras.models import Sequential\n",
        "import tensorflow_hub as hub\n",
        "from tensorflow.keras import layers\n",
        "\n",
        "#create model that can be used again\n",
        "def new_model(model_url, num_classes =10):\n",
        "\n",
        "\n",
        "  # obtain Transflow hub and craete a sequential model\n",
        "  # input : model_url Tensorflow Hub feature extraction url\n",
        "  #input : o/p neuron is o/p classses\n",
        "\n",
        "  # ******\n",
        "  feature_extractor_layer = hub.KerasLayer(model_url,\n",
        "                                           trainable =False,\n",
        "                                           name ='feature_extraction_layer',\n",
        "                                           input_shape = Image_shape +(3,))\n",
        "\n",
        "\n",
        "\n",
        "  model = Sequential([\n",
        "    feature_extractor_layer,\n",
        "    layers.Dense(num_classes, activation ='softmax', name = 'output_layer')\n",
        "\n",
        "  ])\n",
        "  return model\n",
        "\n",
        "\n",
        "\n",
        "\n"
      ],
      "metadata": {
        "id": "t8FMh9gRRApo"
      },
      "execution_count": 10,
      "outputs": []
    },
    {
      "cell_type": "code",
      "source": [
        "resnet_model = new_model(resnet_url, num_classes = train_data_10_percent.num_classes)\n",
        "\n",
        "resnet_model.compile(optimizer = tf.keras.optimizers.Adam(),\n",
        "                     metrics = ['accuracy'],\n",
        "                     loss = tf.keras.losses.categorical_crossentropy)\n",
        "\n",
        "resnet_history =resnet_model.fit(train_data_10_percent,\n",
        "                 epochs = 5,\n",
        "                 steps_per_epoch =len(train_data_10_percent),\n",
        "                 validation_data = test_data_10_percent,\n",
        "                 validation_steps =len(test_data_10_percent),\n",
        "                 callbacks =[callback_logs(dir_names= \"tensorflow_hub\",experiment_name= 'resnet50v2')]\n",
        "                 )"
      ],
      "metadata": {
        "colab": {
          "base_uri": "https://localhost:8080/"
        },
        "id": "SnOEDX60sSnl",
        "outputId": "0d142a40-486b-4cce-b71c-610946b8107c"
      },
      "execution_count": 11,
      "outputs": [
        {
          "output_type": "stream",
          "name": "stdout",
          "text": [
            "the time of the last callback is tensorflow_hub/resnet50v2/20240228-060911\n",
            "Epoch 1/5\n",
            "24/24 [==============================] - 26s 689ms/step - loss: 1.8526 - accuracy: 0.3880 - val_loss: 1.2206 - val_accuracy: 0.6052\n",
            "Epoch 2/5\n",
            "24/24 [==============================] - 24s 1s/step - loss: 0.8841 - accuracy: 0.7387 - val_loss: 0.8514 - val_accuracy: 0.7268\n",
            "Epoch 3/5\n",
            "24/24 [==============================] - 12s 492ms/step - loss: 0.6060 - accuracy: 0.8267 - val_loss: 0.7482 - val_accuracy: 0.7552\n",
            "Epoch 4/5\n",
            "24/24 [==============================] - 18s 790ms/step - loss: 0.4628 - accuracy: 0.8813 - val_loss: 0.7035 - val_accuracy: 0.7644\n",
            "Epoch 5/5\n",
            "24/24 [==============================] - 25s 1s/step - loss: 0.3787 - accuracy: 0.9093 - val_loss: 0.6865 - val_accuracy: 0.7740\n"
          ]
        }
      ]
    },
    {
      "cell_type": "code",
      "source": [
        "\n",
        "def plot_curve(history):\n",
        "\n",
        "    import pandas as pd\n",
        "    import matplotlib.pyplot as plt\n",
        "\n",
        "    res= pd.DataFrame(resnet_history.history)\n",
        "    epochs = range(len(history.history['loss']))\n",
        "\n",
        "#dividing the curve into loss and accuracy plt\n",
        "    accuracy = history.history['accuracy']\n",
        "    val_accuracy = history.history['val_accuracy']\n",
        "    plt.plot(accuracy , epochs, label =\"accuracy\")\n",
        "    plt.plot(epochs, val_accuracy, label = \"val_accuracy\")\n",
        "\n",
        "    plt.xlabel('length of epochs')\n",
        "    plt.ylabel(\"the accuracy of the model\")\n",
        "    plt.figure()\n",
        "\n",
        "    loss = history.history['loss']\n",
        "    val_loss = history.history['val_loss']\n",
        "    plt.plot(loss, epochs, label = 'loss')\n",
        "    plt\n",
        "\n",
        "    plt.xlabel('length of epochs')\n",
        "    plt.ylabel(\"the loss of the model\")\n",
        "    plt.figure()\n",
        "\n"
      ],
      "metadata": {
        "id": "pCgLMwvfRAt8"
      },
      "execution_count": 19,
      "outputs": []
    },
    {
      "cell_type": "code",
      "source": [
        "plot_curve(resnet_history )"
      ],
      "metadata": {
        "colab": {
          "base_uri": "https://localhost:8080/",
          "height": 899
        },
        "id": "0tKtyjo86jDN",
        "outputId": "23863c71-302c-42d0-ac33-33b9e188e18e"
      },
      "execution_count": 20,
      "outputs": [
        {
          "output_type": "display_data",
          "data": {
            "text/plain": [
              "<Figure size 640x480 with 1 Axes>"
            ],
            "image/png": "[encoded data removed]"
          },
          "metadata": {}
        },
        {
          "output_type": "display_data",
          "data": {
            "text/plain": [
              "<Figure size 640x480 with 1 Axes>"
            ],
            "image/png": "[encoded data removed]"
          },
          "metadata": {}
        },
        {
          "output_type": "display_data",
          "data": {
            "text/plain": [
              "<Figure size 640x480 with 0 Axes>"
            ]
          },
          "metadata": {}
        }
      ]
    },
    {
      "cell_type": "markdown",
      "source": [
        "# Efficient model with efficientnet url"
      ],
      "metadata": {
        "id": "SORXGQY_WrFg"
      }
    },
    {
      "cell_type": "code",
      "source": [
        "################Create efficinet model\n",
        "# Original: EfficientNetB0 feature vector (version 1)\n",
        "efficientnet_url = \"https://tfhub.dev/tensorflow/efficientnet/b0/feature-vector/1\"\n",
        "\n",
        "import datetime\n",
        "\n",
        "# steps for using transfer learning in your model\n",
        "# 1. image data generator to resize the pictures in the format neural net can be used for.\n",
        "\n",
        "train_dir = '10_food_classes_10_percent/train'\n",
        "test_dir = '10_food_classes_10_percent/test'\n",
        "import tensorflow as tf\n",
        "from tensorflow.keras.preprocessing.image import ImageDataGenerator\n",
        "\n",
        "train_gen = ImageDataGenerator(rescale = 1./255)\n",
        "\n",
        "test_gen = ImageDataGenerator(rescale = 1./255)\n",
        "\n",
        "train_10_percent_data = train_gen.flow_from_directory(train_dir,\n",
        "                                                      target_size = (224, 224),\n",
        "                                                      batch_size = 32,\n",
        "                                                      class_mode = 'categorical',\n",
        "\n",
        "                                                      )\n",
        "\n",
        "test_10_percent_data = test_gen.flow_from_directory(test_dir,\n",
        "                                                    target_size = (224, 224),\n",
        "                                                    batch_size = 32,\n",
        "                                                    class_mode ='categorical'\n",
        "                                                    )\n",
        "\n",
        "\n",
        "### creating callbacks to put in the fit of the model, and observe tensorboard\n",
        "import tensorflow as tf\n",
        "#import  tensorflow.keras.callbacks\n",
        "import tensorflow_hub as hub\n",
        "\n",
        "\n",
        "\n",
        "def create_callback_log(experiment_name,dir_name):\n",
        "  log_dir = dir_name +'/'+ experiment_name + '/'+ datetime.datetime.now().strftime('%Y%m%d- %H%M%S')\n",
        "  tensorboard_callback = tf.keras.callbacks.TensorBoard(log_dir = log_dir)\n",
        "\n",
        "  print(f'the experiment was saved on log file at  : {log_dir}')\n",
        "  return tensorboard_callback\n",
        "\n",
        "\n",
        "\n"
      ],
      "metadata": {
        "colab": {
          "base_uri": "https://localhost:8080/"
        },
        "id": "Juv6q1l4_DbI",
        "outputId": "9032dc75-90b8-4f43-e90a-732d0973679d"
      },
      "execution_count": 44,
      "outputs": [
        {
          "output_type": "stream",
          "name": "stdout",
          "text": [
            "Found 750 images belonging to 10 classes.\n",
            "Found 2500 images belonging to 10 classes.\n"
          ]
        }
      ]
    },
    {
      "cell_type": "code",
      "source": [
        "#2. model creation and adding the first layer as efficient net\n",
        "\n",
        "# first layer is feature_extraction layer\n",
        "#transfer is possible by using hub\n",
        "# create_model function to be used again.\n",
        "\n",
        "\n",
        "def create_model( model_url =\"https://tfhub.dev/tensorflow/efficientnet/b0/feature-vector/1\"\n",
        ", num_classes= 10):\n",
        "\n",
        "  Image_shape = (224,224)\n",
        "  Batch_size = 32\n",
        "\n",
        "\n",
        "  efficient_model = hub.KerasLayer(model_url= \"https://tfhub.dev/tensorflow/efficientnet/b0/feature-vector/1\",\n",
        "                                    trainable =False, # putting the other parameters in freeze\n",
        "                                    name = 'efficient_model',\n",
        "                                    input_shape = Image_shape +(3,)) # for 3 rgb color\n",
        "\n",
        "#3. model compile using optimizer and loss\n",
        "\n",
        "\n"
      ],
      "metadata": {
        "id": "X8sKGZ7wINY6"
      },
      "execution_count": 26,
      "outputs": []
    },
    {
      "cell_type": "code",
      "source": [
        "efficient_model = hub.KerasLayer(\"https://tfhub.dev/tensorflow/efficientnet/b0/feature-vector/1\",\n",
        "                                    trainable =False, # putting the other parameters in freeze\n",
        "                                    name = 'efficient_model',\n",
        "                                    input_shape = (224,224) +(3,)) # for 3 rgb color\n"
      ],
      "metadata": {
        "id": "R_o6nXz7RE8K"
      },
      "execution_count": 30,
      "outputs": []
    },
    {
      "cell_type": "code",
      "source": [
        "from tensorflow.keras.models import Sequential\n",
        "from tensorflow.keras.layers import Dense\n",
        "from tensorflow.keras.optimizers import Adam\n",
        "from tensorflow.keras.losses import categorical_crossentropy\n",
        "\n",
        "model_2 = Sequential([\n",
        "         efficient_model,\n",
        "         Dense(10, activation = 'softmax') # 10 classes and categorical variable hence softmax function.\n",
        "      ])\n",
        "\n"
      ],
      "metadata": {
        "id": "zY-Ln8UKMJ1J"
      },
      "execution_count": 37,
      "outputs": []
    },
    {
      "cell_type": "code",
      "source": [
        "# compile the model\n",
        "model_2.compile(optimizer = tf.keras.optimizers.Adam(),\n",
        "                loss = tf.keras.losses.categorical_crossentropy,\n",
        "                metrics =['accuracy'])\n",
        "\n",
        "history_2 =  model_2.fit(train_10_percent_data,\n",
        "                         steps_per_epoch =len(train_10_percent_data),\n",
        "                         validation_data = test_10_percent_data,\n",
        "                         validation_steps = len(test_10_percent_data),\n",
        "                         epochs = 5,\n",
        "                         callbacks = [create_callback_log(dir_name= 'tensorflow_hub',\n",
        "                                                          experiment_name = 'efficient_b0')])"
      ],
      "metadata": {
        "colab": {
          "base_uri": "https://localhost:8080/"
        },
        "id": "7zqICpviLFyo",
        "outputId": "c6f12078-0286-4c50-c4e7-f911cc83883f"
      },
      "execution_count": 46,
      "outputs": [
        {
          "output_type": "stream",
          "name": "stdout",
          "text": [
            "the experiment was saved on log file at  : tensorflow_hub/efficient_b0/20240228- 195929\n",
            "Epoch 1/5\n",
            "24/24 [==============================] - 271s 11s/step - loss: 1.8162 - accuracy: 0.4480 - val_loss: 1.2797 - val_accuracy: 0.7396\n",
            "Epoch 2/5\n",
            "24/24 [==============================] - 258s 11s/step - loss: 1.0444 - accuracy: 0.7760 - val_loss: 0.8620 - val_accuracy: 0.8132\n",
            "Epoch 3/5\n",
            "24/24 [==============================] - 259s 11s/step - loss: 0.7499 - accuracy: 0.8427 - val_loss: 0.6960 - val_accuracy: 0.8420\n",
            "Epoch 4/5\n",
            "24/24 [==============================] - 258s 11s/step - loss: 0.6035 - accuracy: 0.8747 - val_loss: 0.6077 - val_accuracy: 0.8528\n",
            "Epoch 5/5\n",
            "24/24 [==============================] - 254s 11s/step - loss: 0.5091 - accuracy: 0.8853 - val_loss: 0.5556 - val_accuracy: 0.8616\n"
          ]
        }
      ]
    },
    {
      "cell_type": "code",
      "source": [],
      "metadata": {
        "id": "oLRFvOnWMIaZ"
      },
      "execution_count": null,
      "outputs": []
    },
    {
      "cell_type": "code",
      "source": [],
      "metadata": {
        "id": "m83Dz2b6LF1X"
      },
      "execution_count": null,
      "outputs": []
    },
    {
      "cell_type": "code",
      "source": [],
      "metadata": {
        "id": "_5K2dW1zLF8O"
      },
      "execution_count": null,
      "outputs": []
    },
    {
      "cell_type": "code",
      "source": [],
      "metadata": {
        "id": "iGlaNVy1LGAC"
      },
      "execution_count": null,
      "outputs": []
    }
  ]
}